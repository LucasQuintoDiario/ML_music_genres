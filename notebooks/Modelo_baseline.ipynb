{
 "cells": [
  {
   "cell_type": "code",
   "execution_count": null,
   "metadata": {},
   "outputs": [],
   "source": []
  },
  {
   "cell_type": "code",
   "execution_count": null,
   "metadata": {},
   "outputs": [],
   "source": [
    "# Elegir generos para el entrenamiento. (Sin Spoken, Old Time, International, Pop)\n",
    "\n",
    "df_clean = df[df[\"genre\"].isin(['Instrumental', 'Punk', 'Folk', 'Rock', 'Chiptune / Glitch', 'Experimental',\n",
    "       'Electronic', 'Jazz', 'Classical', 'Ambient Electronic',\n",
    "       'Blues', 'Easy Listening', 'Soul-RnB', 'Country',  'Hip-Hop'])].drop(columns=['song_id', 'filename', 'filepath'])"
   ]
  },
  {
   "cell_type": "code",
   "execution_count": null,
   "metadata": {},
   "outputs": [],
   "source": [
    "genre_mapping = {\n",
    "    # 0 - Música Electrónica / Digital\n",
    "    'Electronic': 0,\n",
    "    'Chiptune / Glitch': 0,\n",
    "    'Ambient Electronic': 0,\n",
    "    'Experimental': 0,\n",
    "    'Hip-Hop': 0,\n",
    "\n",
    "    # 1 - Música Instrumental & Tradicional\n",
    "    'Rock': 1,\n",
    "    'Punk': 1,\n",
    "    'Folk': 1,\n",
    "    'Jazz': 1,\n",
    "    'Classical': 1,\n",
    "    'Instrumental': 1,\n",
    "    'Blues': 1,\n",
    "    'Easy Listening': 1,\n",
    "    'Soul-RnB': 1,\n",
    "    'Country': 1\n",
    "}\n"
   ]
  },
  {
   "cell_type": "code",
   "execution_count": null,
   "metadata": {},
   "outputs": [],
   "source": [
    "df_clean['genre_group'] = df_clean['genre'].map(genre_mapping)"
   ]
  },
  {
   "cell_type": "code",
   "execution_count": null,
   "metadata": {},
   "outputs": [],
   "source": [
    "# Definir X e y\n",
    "X = df_clean.drop(columns=['Chroma_1', 'Chroma_2', 'Chroma_3', 'Chroma_4', 'Chroma_5',\n",
    "       'Chroma_6', 'Chroma_7', 'Chroma_8', 'Chroma_9', 'Chroma_10',\n",
    "       'Chroma_11', 'Chroma_12', 'Spectral_contrast_1', 'Spectral_contrast_2',\n",
    "       'Spectral_contrast_3', 'Spectral_contrast_4', 'Spectral_contrast_5',\n",
    "       'Spectral_contrast_6', 'Spectral_contrast_7', 'Zero_crossing_rate',\n",
    "       'Spectral_Rolloff', 'Tempo', 'genre_id', \"genre\", \"genre_group\"])\n",
    "y = df_clean[\"genre_group\"]\n",
    "\n",
    "# Dividir datos en entrenamiento y prueba\n",
    "X_train, X_test, y_train, y_test = train_test_split(X, y, test_size=0.2, random_state=41)\n",
    "\n",
    "print(X_train.shape)\n",
    "print(X_test.shape)\n",
    "print(y_train.shape)\n",
    "print(y_test.shape)\n",
    "\n",
    "# Escalar los datos (CatBoost no lo requiere, pero mantenemos la coherencia)\n",
    "scaler = MinMaxScaler()\n",
    "X_train_scaled = scaler.fit_transform(X_train)\n",
    "X_test_scaled = scaler.transform(X_test)\n",
    "\n",
    "# Definir el modelo CatBoostClassifier\n",
    "model_xgb = xgb.XGBClassifier(\n",
    "    n_estimators=200,         # Número de árboles\n",
    "    learning_rate=0.1,        # Tasa de aprendizaje\n",
    "    max_depth=10,              # Profundidad de los árboles\n",
    "    min_child_weight=3,       # Peso mínimo en hojas\n",
    "    subsample=0.8,            # Uso de datos en cada árbol\n",
    "    colsample_bytree=0.8,     # Uso de features en cada árbol\n",
    "    gamma=0.1,                # Regularización de splits\n",
    "    reg_alpha=0,              # Regularización L1\n",
    "    reg_lambda=1,             # Regularización L2\n",
    "    objective='binary:logistic', # Para clasificación binaria\n",
    "    eval_metric='auc',        # Métrica de evaluación\n",
    "    random_state=42\n",
    ")\n",
    "model_xgb.fit(X_train_scaled, y_train)\n",
    "\n",
    "# Hacer predicciones\n",
    "pred = model_xgb.predict(X_test_scaled)\n",
    "\n",
    "# Evaluar el modelo\n",
    "print(\"Accuracy: \", metrics.accuracy_score(y_test, pred))\n",
    "print(metrics.classification_report(y_test, pred))\n",
    "\n",
    "# Matriz de confusión\n",
    "cm = metrics.confusion_matrix(y_test, pred)\n",
    "plt.figure(figsize=(8, 6))\n",
    "sns.heatmap(cm, annot=True, fmt='d', cmap='Blues', cbar=False, xticklabels=True, yticklabels=True)\n",
    "\n",
    "# Personalizar el gráfico\n",
    "plt.title(\"Matriz de Confusión - XGBoost\")\n",
    "plt.xlabel(\"Predicciones\")\n",
    "plt.ylabel(\"Valores Reales\")\n",
    "plt.show()\n",
    "\n"
   ]
  }
 ],
 "metadata": {
  "kernelspec": {
   "display_name": "Python 3",
   "language": "python",
   "name": "python3"
  },
  "language_info": {
   "name": "python",
   "version": "3.13.0"
  }
 },
 "nbformat": 4,
 "nbformat_minor": 2
}
