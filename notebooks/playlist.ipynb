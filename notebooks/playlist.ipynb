{
 "cells": [
  {
   "cell_type": "code",
   "execution_count": 1,
   "metadata": {},
   "outputs": [],
   "source": [
    "import pandas as pd"
   ]
  },
  {
   "cell_type": "code",
   "execution_count": 32,
   "metadata": {},
   "outputs": [
    {
     "data": {
      "text/plain": [
       "playlist_genre\n",
       "edm      6043\n",
       "rap      5746\n",
       "pop      5507\n",
       "r&b      5431\n",
       "latin    5155\n",
       "rock     4951\n",
       "Name: count, dtype: int64"
      ]
     },
     "execution_count": 32,
     "metadata": {},
     "output_type": "execute_result"
    }
   ],
   "source": [
    "df = pd.read_csv(\"../data/spotify_songs.csv\")\n",
    "df[\"playlist_genre\"].value_counts()\n"
   ]
  },
  {
   "cell_type": "code",
   "execution_count": 33,
   "metadata": {},
   "outputs": [
    {
     "data": {
      "text/plain": [
       "playlist_subgenre\n",
       "progressive electro house    1809\n",
       "southern hip hop             1675\n",
       "indie poptimism              1672\n",
       "latin hip hop                1656\n",
       "neo soul                     1637\n",
       "pop edm                      1517\n",
       "electro house                1511\n",
       "hard rock                    1485\n",
       "gangster rap                 1458\n",
       "electropop                   1408\n",
       "urban contemporary           1405\n",
       "hip hop                      1322\n",
       "dance pop                    1298\n",
       "classic rock                 1296\n",
       "trap                         1291\n",
       "tropical                     1288\n",
       "latin pop                    1262\n",
       "hip pop                      1256\n",
       "big room                     1206\n",
       "new jack swing               1133\n",
       "post-teen pop                1129\n",
       "permanent wave               1105\n",
       "album rock                   1065\n",
       "reggaeton                     949\n",
       "Name: count, dtype: int64"
      ]
     },
     "execution_count": 33,
     "metadata": {},
     "output_type": "execute_result"
    }
   ],
   "source": [
    "df[\"playlist_subgenre\"].value_counts()\n"
   ]
  },
  {
   "cell_type": "code",
   "execution_count": 34,
   "metadata": {},
   "outputs": [],
   "source": [
    "df_filtered = df[['playlist_name', 'playlist_id', 'playlist_genre', 'playlist_subgenre']].drop_duplicates()"
   ]
  },
  {
   "cell_type": "code",
   "execution_count": 35,
   "metadata": {},
   "outputs": [
    {
     "data": {
      "text/html": [
       "<div>\n",
       "<style scoped>\n",
       "    .dataframe tbody tr th:only-of-type {\n",
       "        vertical-align: middle;\n",
       "    }\n",
       "\n",
       "    .dataframe tbody tr th {\n",
       "        vertical-align: top;\n",
       "    }\n",
       "\n",
       "    .dataframe thead th {\n",
       "        text-align: right;\n",
       "    }\n",
       "</style>\n",
       "<table border=\"1\" class=\"dataframe\">\n",
       "  <thead>\n",
       "    <tr style=\"text-align: right;\">\n",
       "      <th></th>\n",
       "      <th>playlist_name</th>\n",
       "      <th>playlist_id</th>\n",
       "      <th>playlist_genre</th>\n",
       "      <th>playlist_subgenre</th>\n",
       "    </tr>\n",
       "  </thead>\n",
       "  <tbody>\n",
       "    <tr>\n",
       "      <th>0</th>\n",
       "      <td>Pop Remix</td>\n",
       "      <td>37i9dQZF1DXcZDD7cfEKhW</td>\n",
       "      <td>pop</td>\n",
       "      <td>dance pop</td>\n",
       "    </tr>\n",
       "    <tr>\n",
       "      <th>70</th>\n",
       "      <td>Dance Pop</td>\n",
       "      <td>37i9dQZF1DWZQaaqNMbbXa</td>\n",
       "      <td>pop</td>\n",
       "      <td>dance pop</td>\n",
       "    </tr>\n",
       "    <tr>\n",
       "      <th>167</th>\n",
       "      <td>Dance Room</td>\n",
       "      <td>37i9dQZF1DX2ENAPP1Tyed</td>\n",
       "      <td>pop</td>\n",
       "      <td>dance pop</td>\n",
       "    </tr>\n",
       "    <tr>\n",
       "      <th>223</th>\n",
       "      <td>Cardio</td>\n",
       "      <td>37i9dQZF1DWSJHnPb1f0X3</td>\n",
       "      <td>pop</td>\n",
       "      <td>dance pop</td>\n",
       "    </tr>\n",
       "    <tr>\n",
       "      <th>272</th>\n",
       "      <td>Dance Pop Hits</td>\n",
       "      <td>37i9dQZF1DX6pH08wMhkaI</td>\n",
       "      <td>pop</td>\n",
       "      <td>dance pop</td>\n",
       "    </tr>\n",
       "    <tr>\n",
       "      <th>...</th>\n",
       "      <td>...</td>\n",
       "      <td>...</td>\n",
       "      <td>...</td>\n",
       "      <td>...</td>\n",
       "    </tr>\n",
       "    <tr>\n",
       "      <th>32409</th>\n",
       "      <td>Fresh EDM | Progressive House | Electro House | Trap | Deep House | Electronic | Future House/Bass</td>\n",
       "      <td>0FCHg9zJMNNiOokh3hVcxd</td>\n",
       "      <td>edm</td>\n",
       "      <td>progressive electro house</td>\n",
       "    </tr>\n",
       "    <tr>\n",
       "      <th>32504</th>\n",
       "      <td>Festival Music 2019 - Warm Up Music (EDM, Big Room &amp; Progressive House)</td>\n",
       "      <td>73uj4YmsC7SJ6SbUMTvf07</td>\n",
       "      <td>edm</td>\n",
       "      <td>progressive electro house</td>\n",
       "    </tr>\n",
       "    <tr>\n",
       "      <th>32582</th>\n",
       "      <td>Underground Party | Hypnotic | Minimal | Acid | Big Room | Tech | Liquid</td>\n",
       "      <td>29jj7pQlDqnWclbHQk21Rq</td>\n",
       "      <td>edm</td>\n",
       "      <td>progressive electro house</td>\n",
       "    </tr>\n",
       "    <tr>\n",
       "      <th>32674</th>\n",
       "      <td>Trending EDM by Nik Cooper</td>\n",
       "      <td>4N1ipiKR3xla8UXtE12XBm</td>\n",
       "      <td>edm</td>\n",
       "      <td>progressive electro house</td>\n",
       "    </tr>\n",
       "    <tr>\n",
       "      <th>32753</th>\n",
       "      <td>♥ EDM LOVE 2020</td>\n",
       "      <td>6jI1gFr6ANFtT8MmTvA2Ux</td>\n",
       "      <td>edm</td>\n",
       "      <td>progressive electro house</td>\n",
       "    </tr>\n",
       "  </tbody>\n",
       "</table>\n",
       "<p>480 rows × 4 columns</p>\n",
       "</div>"
      ],
      "text/plain": [
       "                                                                                            playlist_name  \\\n",
       "0                                                                                               Pop Remix   \n",
       "70                                                                                              Dance Pop   \n",
       "167                                                                                            Dance Room   \n",
       "223                                                                                                Cardio   \n",
       "272                                                                                        Dance Pop Hits   \n",
       "...                                                                                                   ...   \n",
       "32409  Fresh EDM | Progressive House | Electro House | Trap | Deep House | Electronic | Future House/Bass   \n",
       "32504                             Festival Music 2019 - Warm Up Music (EDM, Big Room & Progressive House)   \n",
       "32582                            Underground Party | Hypnotic | Minimal | Acid | Big Room | Tech | Liquid   \n",
       "32674                                                                          Trending EDM by Nik Cooper   \n",
       "32753                                                                                     ♥ EDM LOVE 2020   \n",
       "\n",
       "                  playlist_id playlist_genre          playlist_subgenre  \n",
       "0      37i9dQZF1DXcZDD7cfEKhW            pop                  dance pop  \n",
       "70     37i9dQZF1DWZQaaqNMbbXa            pop                  dance pop  \n",
       "167    37i9dQZF1DX2ENAPP1Tyed            pop                  dance pop  \n",
       "223    37i9dQZF1DWSJHnPb1f0X3            pop                  dance pop  \n",
       "272    37i9dQZF1DX6pH08wMhkaI            pop                  dance pop  \n",
       "...                       ...            ...                        ...  \n",
       "32409  0FCHg9zJMNNiOokh3hVcxd            edm  progressive electro house  \n",
       "32504  73uj4YmsC7SJ6SbUMTvf07            edm  progressive electro house  \n",
       "32582  29jj7pQlDqnWclbHQk21Rq            edm  progressive electro house  \n",
       "32674  4N1ipiKR3xla8UXtE12XBm            edm  progressive electro house  \n",
       "32753  6jI1gFr6ANFtT8MmTvA2Ux            edm  progressive electro house  \n",
       "\n",
       "[480 rows x 4 columns]"
      ]
     },
     "execution_count": 35,
     "metadata": {},
     "output_type": "execute_result"
    }
   ],
   "source": [
    "df_filtered"
   ]
  },
  {
   "cell_type": "code",
   "execution_count": 36,
   "metadata": {},
   "outputs": [],
   "source": [
    "df_filtered[\"playlist_url\"] = \"https://open.spotify.com/playlist/\" + df_filtered[\"playlist_id\"]"
   ]
  },
  {
   "cell_type": "code",
   "execution_count": 37,
   "metadata": {},
   "outputs": [
    {
     "data": {
      "text/html": [
       "<div>\n",
       "<style scoped>\n",
       "    .dataframe tbody tr th:only-of-type {\n",
       "        vertical-align: middle;\n",
       "    }\n",
       "\n",
       "    .dataframe tbody tr th {\n",
       "        vertical-align: top;\n",
       "    }\n",
       "\n",
       "    .dataframe thead th {\n",
       "        text-align: right;\n",
       "    }\n",
       "</style>\n",
       "<table border=\"1\" class=\"dataframe\">\n",
       "  <thead>\n",
       "    <tr style=\"text-align: right;\">\n",
       "      <th></th>\n",
       "      <th>playlist_name</th>\n",
       "      <th>playlist_genre</th>\n",
       "      <th>playlist_subgenre</th>\n",
       "      <th>playlist_url</th>\n",
       "    </tr>\n",
       "  </thead>\n",
       "  <tbody>\n",
       "    <tr>\n",
       "      <th>0</th>\n",
       "      <td>Pop Remix</td>\n",
       "      <td>pop</td>\n",
       "      <td>dance pop</td>\n",
       "      <td>https://open.spotify.com/playlist/37i9dQZF1DXcZDD7cfEKhW</td>\n",
       "    </tr>\n",
       "    <tr>\n",
       "      <th>70</th>\n",
       "      <td>Dance Pop</td>\n",
       "      <td>pop</td>\n",
       "      <td>dance pop</td>\n",
       "      <td>https://open.spotify.com/playlist/37i9dQZF1DWZQaaqNMbbXa</td>\n",
       "    </tr>\n",
       "    <tr>\n",
       "      <th>167</th>\n",
       "      <td>Dance Room</td>\n",
       "      <td>pop</td>\n",
       "      <td>dance pop</td>\n",
       "      <td>https://open.spotify.com/playlist/37i9dQZF1DX2ENAPP1Tyed</td>\n",
       "    </tr>\n",
       "    <tr>\n",
       "      <th>223</th>\n",
       "      <td>Cardio</td>\n",
       "      <td>pop</td>\n",
       "      <td>dance pop</td>\n",
       "      <td>https://open.spotify.com/playlist/37i9dQZF1DWSJHnPb1f0X3</td>\n",
       "    </tr>\n",
       "    <tr>\n",
       "      <th>272</th>\n",
       "      <td>Dance Pop Hits</td>\n",
       "      <td>pop</td>\n",
       "      <td>dance pop</td>\n",
       "      <td>https://open.spotify.com/playlist/37i9dQZF1DX6pH08wMhkaI</td>\n",
       "    </tr>\n",
       "    <tr>\n",
       "      <th>...</th>\n",
       "      <td>...</td>\n",
       "      <td>...</td>\n",
       "      <td>...</td>\n",
       "      <td>...</td>\n",
       "    </tr>\n",
       "    <tr>\n",
       "      <th>32409</th>\n",
       "      <td>Fresh EDM | Progressive House | Electro House | Trap | Deep House | Electronic | Future House/Bass</td>\n",
       "      <td>edm</td>\n",
       "      <td>progressive electro house</td>\n",
       "      <td>https://open.spotify.com/playlist/0FCHg9zJMNNiOokh3hVcxd</td>\n",
       "    </tr>\n",
       "    <tr>\n",
       "      <th>32504</th>\n",
       "      <td>Festival Music 2019 - Warm Up Music (EDM, Big Room &amp; Progressive House)</td>\n",
       "      <td>edm</td>\n",
       "      <td>progressive electro house</td>\n",
       "      <td>https://open.spotify.com/playlist/73uj4YmsC7SJ6SbUMTvf07</td>\n",
       "    </tr>\n",
       "    <tr>\n",
       "      <th>32582</th>\n",
       "      <td>Underground Party | Hypnotic | Minimal | Acid | Big Room | Tech | Liquid</td>\n",
       "      <td>edm</td>\n",
       "      <td>progressive electro house</td>\n",
       "      <td>https://open.spotify.com/playlist/29jj7pQlDqnWclbHQk21Rq</td>\n",
       "    </tr>\n",
       "    <tr>\n",
       "      <th>32674</th>\n",
       "      <td>Trending EDM by Nik Cooper</td>\n",
       "      <td>edm</td>\n",
       "      <td>progressive electro house</td>\n",
       "      <td>https://open.spotify.com/playlist/4N1ipiKR3xla8UXtE12XBm</td>\n",
       "    </tr>\n",
       "    <tr>\n",
       "      <th>32753</th>\n",
       "      <td>♥ EDM LOVE 2020</td>\n",
       "      <td>edm</td>\n",
       "      <td>progressive electro house</td>\n",
       "      <td>https://open.spotify.com/playlist/6jI1gFr6ANFtT8MmTvA2Ux</td>\n",
       "    </tr>\n",
       "  </tbody>\n",
       "</table>\n",
       "<p>480 rows × 4 columns</p>\n",
       "</div>"
      ],
      "text/plain": [
       "                                                                                            playlist_name  \\\n",
       "0                                                                                               Pop Remix   \n",
       "70                                                                                              Dance Pop   \n",
       "167                                                                                            Dance Room   \n",
       "223                                                                                                Cardio   \n",
       "272                                                                                        Dance Pop Hits   \n",
       "...                                                                                                   ...   \n",
       "32409  Fresh EDM | Progressive House | Electro House | Trap | Deep House | Electronic | Future House/Bass   \n",
       "32504                             Festival Music 2019 - Warm Up Music (EDM, Big Room & Progressive House)   \n",
       "32582                            Underground Party | Hypnotic | Minimal | Acid | Big Room | Tech | Liquid   \n",
       "32674                                                                          Trending EDM by Nik Cooper   \n",
       "32753                                                                                     ♥ EDM LOVE 2020   \n",
       "\n",
       "      playlist_genre          playlist_subgenre  \\\n",
       "0                pop                  dance pop   \n",
       "70               pop                  dance pop   \n",
       "167              pop                  dance pop   \n",
       "223              pop                  dance pop   \n",
       "272              pop                  dance pop   \n",
       "...              ...                        ...   \n",
       "32409            edm  progressive electro house   \n",
       "32504            edm  progressive electro house   \n",
       "32582            edm  progressive electro house   \n",
       "32674            edm  progressive electro house   \n",
       "32753            edm  progressive electro house   \n",
       "\n",
       "                                                   playlist_url  \n",
       "0      https://open.spotify.com/playlist/37i9dQZF1DXcZDD7cfEKhW  \n",
       "70     https://open.spotify.com/playlist/37i9dQZF1DWZQaaqNMbbXa  \n",
       "167    https://open.spotify.com/playlist/37i9dQZF1DX2ENAPP1Tyed  \n",
       "223    https://open.spotify.com/playlist/37i9dQZF1DWSJHnPb1f0X3  \n",
       "272    https://open.spotify.com/playlist/37i9dQZF1DX6pH08wMhkaI  \n",
       "...                                                         ...  \n",
       "32409  https://open.spotify.com/playlist/0FCHg9zJMNNiOokh3hVcxd  \n",
       "32504  https://open.spotify.com/playlist/73uj4YmsC7SJ6SbUMTvf07  \n",
       "32582  https://open.spotify.com/playlist/29jj7pQlDqnWclbHQk21Rq  \n",
       "32674  https://open.spotify.com/playlist/4N1ipiKR3xla8UXtE12XBm  \n",
       "32753  https://open.spotify.com/playlist/6jI1gFr6ANFtT8MmTvA2Ux  \n",
       "\n",
       "[480 rows x 4 columns]"
      ]
     },
     "execution_count": 37,
     "metadata": {},
     "output_type": "execute_result"
    }
   ],
   "source": [
    "df_filtered.drop(\"playlist_id\", axis=1)"
   ]
  },
  {
   "cell_type": "code",
   "execution_count": 48,
   "metadata": {},
   "outputs": [
    {
     "data": {
      "text/html": [
       "<div>\n",
       "<style scoped>\n",
       "    .dataframe tbody tr th:only-of-type {\n",
       "        vertical-align: middle;\n",
       "    }\n",
       "\n",
       "    .dataframe tbody tr th {\n",
       "        vertical-align: top;\n",
       "    }\n",
       "\n",
       "    .dataframe thead th {\n",
       "        text-align: right;\n",
       "    }\n",
       "</style>\n",
       "<table border=\"1\" class=\"dataframe\">\n",
       "  <thead>\n",
       "    <tr style=\"text-align: right;\">\n",
       "      <th></th>\n",
       "      <th>playlist_name</th>\n",
       "      <th>playlist_id</th>\n",
       "      <th>playlist_genre</th>\n",
       "      <th>playlist_subgenre</th>\n",
       "      <th>playlist_url</th>\n",
       "    </tr>\n",
       "  </thead>\n",
       "  <tbody>\n",
       "    <tr>\n",
       "      <th>18295</th>\n",
       "      <td>2020 Hits &amp; 2019  Hits – Top Global Tracks 🔥🔥🔥</td>\n",
       "      <td>4JkkvMpVl4lSioqQjeAL0q</td>\n",
       "      <td>latin</td>\n",
       "      <td>latin pop</td>\n",
       "      <td>https://open.spotify.com/playlist/4JkkvMpVl4lSioqQjeAL0q</td>\n",
       "    </tr>\n",
       "    <tr>\n",
       "      <th>19703</th>\n",
       "      <td>2020 Hits &amp; 2019  Hits – Top Global Tracks 🔥🔥🔥</td>\n",
       "      <td>4JkkvMpVl4lSioqQjeAL0q</td>\n",
       "      <td>latin</td>\n",
       "      <td>latin hip hop</td>\n",
       "      <td>https://open.spotify.com/playlist/4JkkvMpVl4lSioqQjeAL0q</td>\n",
       "    </tr>\n",
       "    <tr>\n",
       "      <th>23755</th>\n",
       "      <td>2020 Hits &amp; 2019  Hits – Top Global Tracks 🔥🔥🔥</td>\n",
       "      <td>4JkkvMpVl4lSioqQjeAL0q</td>\n",
       "      <td>r&amp;b</td>\n",
       "      <td>hip pop</td>\n",
       "      <td>https://open.spotify.com/playlist/4JkkvMpVl4lSioqQjeAL0q</td>\n",
       "    </tr>\n",
       "  </tbody>\n",
       "</table>\n",
       "</div>"
      ],
      "text/plain": [
       "                                        playlist_name             playlist_id  \\\n",
       "18295  2020 Hits & 2019  Hits – Top Global Tracks 🔥🔥🔥  4JkkvMpVl4lSioqQjeAL0q   \n",
       "19703  2020 Hits & 2019  Hits – Top Global Tracks 🔥🔥🔥  4JkkvMpVl4lSioqQjeAL0q   \n",
       "23755  2020 Hits & 2019  Hits – Top Global Tracks 🔥🔥🔥  4JkkvMpVl4lSioqQjeAL0q   \n",
       "\n",
       "      playlist_genre playlist_subgenre  \\\n",
       "18295          latin         latin pop   \n",
       "19703          latin     latin hip hop   \n",
       "23755            r&b           hip pop   \n",
       "\n",
       "                                                   playlist_url  \n",
       "18295  https://open.spotify.com/playlist/4JkkvMpVl4lSioqQjeAL0q  \n",
       "19703  https://open.spotify.com/playlist/4JkkvMpVl4lSioqQjeAL0q  \n",
       "23755  https://open.spotify.com/playlist/4JkkvMpVl4lSioqQjeAL0q  "
      ]
     },
     "execution_count": 48,
     "metadata": {},
     "output_type": "execute_result"
    }
   ],
   "source": [
    "df_filtered[df_filtered[\"playlist_name\"] == df_filtered[df_filtered[\"playlist_url\"].duplicated()][\"playlist_name\"].value_counts().index.values[0]]"
   ]
  },
  {
   "cell_type": "code",
   "execution_count": 54,
   "metadata": {},
   "outputs": [
    {
     "data": {
      "text/html": [
       "<div>\n",
       "<style scoped>\n",
       "    .dataframe tbody tr th:only-of-type {\n",
       "        vertical-align: middle;\n",
       "    }\n",
       "\n",
       "    .dataframe tbody tr th {\n",
       "        vertical-align: top;\n",
       "    }\n",
       "\n",
       "    .dataframe thead th {\n",
       "        text-align: right;\n",
       "    }\n",
       "</style>\n",
       "<table border=\"1\" class=\"dataframe\">\n",
       "  <thead>\n",
       "    <tr style=\"text-align: right;\">\n",
       "      <th></th>\n",
       "      <th>playlist_name</th>\n",
       "      <th>playlist_id</th>\n",
       "      <th>playlist_genre</th>\n",
       "      <th>playlist_subgenre</th>\n",
       "      <th>playlist_url</th>\n",
       "    </tr>\n",
       "  </thead>\n",
       "  <tbody>\n",
       "    <tr>\n",
       "      <th>12900</th>\n",
       "      <td>Classic Rock 70s 80s 90s, Rock Classics - 70s Rock, 80s Rock, 90s Rock Rock  Classicos</td>\n",
       "      <td>3Ho3iO0iJykgEQNbjB2sic</td>\n",
       "      <td>rock</td>\n",
       "      <td>classic rock</td>\n",
       "      <td>https://open.spotify.com/playlist/3Ho3iO0iJykgEQNbjB2sic</td>\n",
       "    </tr>\n",
       "    <tr>\n",
       "      <th>15155</th>\n",
       "      <td>Classic Rock 70s 80s 90s, Rock Classics - 70s Rock, 80s Rock, 90s Rock Rock  Classicos</td>\n",
       "      <td>3Ho3iO0iJykgEQNbjB2sic</td>\n",
       "      <td>rock</td>\n",
       "      <td>hard rock</td>\n",
       "      <td>https://open.spotify.com/playlist/3Ho3iO0iJykgEQNbjB2sic</td>\n",
       "    </tr>\n",
       "  </tbody>\n",
       "</table>\n",
       "</div>"
      ],
      "text/plain": [
       "                                                                                playlist_name  \\\n",
       "12900  Classic Rock 70s 80s 90s, Rock Classics - 70s Rock, 80s Rock, 90s Rock Rock  Classicos   \n",
       "15155  Classic Rock 70s 80s 90s, Rock Classics - 70s Rock, 80s Rock, 90s Rock Rock  Classicos   \n",
       "\n",
       "                  playlist_id playlist_genre playlist_subgenre  \\\n",
       "12900  3Ho3iO0iJykgEQNbjB2sic           rock      classic rock   \n",
       "15155  3Ho3iO0iJykgEQNbjB2sic           rock         hard rock   \n",
       "\n",
       "                                                   playlist_url  \n",
       "12900  https://open.spotify.com/playlist/3Ho3iO0iJykgEQNbjB2sic  \n",
       "15155  https://open.spotify.com/playlist/3Ho3iO0iJykgEQNbjB2sic  "
      ]
     },
     "execution_count": 54,
     "metadata": {},
     "output_type": "execute_result"
    }
   ],
   "source": [
    "df_filtered[df_filtered[\"playlist_name\"] == df_filtered[df_filtered[\"playlist_url\"].duplicated()][\"playlist_name\"].value_counts().index.values[1]]"
   ]
  },
  {
   "cell_type": "code",
   "execution_count": 55,
   "metadata": {},
   "outputs": [
    {
     "data": {
      "text/html": [
       "<div>\n",
       "<style scoped>\n",
       "    .dataframe tbody tr th:only-of-type {\n",
       "        vertical-align: middle;\n",
       "    }\n",
       "\n",
       "    .dataframe tbody tr th {\n",
       "        vertical-align: top;\n",
       "    }\n",
       "\n",
       "    .dataframe thead th {\n",
       "        text-align: right;\n",
       "    }\n",
       "</style>\n",
       "<table border=\"1\" class=\"dataframe\">\n",
       "  <thead>\n",
       "    <tr style=\"text-align: right;\">\n",
       "      <th></th>\n",
       "      <th>playlist_name</th>\n",
       "      <th>playlist_id</th>\n",
       "      <th>playlist_genre</th>\n",
       "      <th>playlist_subgenre</th>\n",
       "      <th>playlist_url</th>\n",
       "    </tr>\n",
       "  </thead>\n",
       "  <tbody>\n",
       "    <tr>\n",
       "      <th>10387</th>\n",
       "      <td>Flow Selecto</td>\n",
       "      <td>37i9dQZF1DX4OjfOteYnH8</td>\n",
       "      <td>rap</td>\n",
       "      <td>trap</td>\n",
       "      <td>https://open.spotify.com/playlist/37i9dQZF1DX4OjfOteYnH8</td>\n",
       "    </tr>\n",
       "    <tr>\n",
       "      <th>19687</th>\n",
       "      <td>Flow Selecto</td>\n",
       "      <td>37i9dQZF1DX4OjfOteYnH8</td>\n",
       "      <td>latin</td>\n",
       "      <td>reggaeton</td>\n",
       "      <td>https://open.spotify.com/playlist/37i9dQZF1DX4OjfOteYnH8</td>\n",
       "    </tr>\n",
       "  </tbody>\n",
       "</table>\n",
       "</div>"
      ],
      "text/plain": [
       "      playlist_name             playlist_id playlist_genre playlist_subgenre  \\\n",
       "10387  Flow Selecto  37i9dQZF1DX4OjfOteYnH8            rap              trap   \n",
       "19687  Flow Selecto  37i9dQZF1DX4OjfOteYnH8          latin         reggaeton   \n",
       "\n",
       "                                                   playlist_url  \n",
       "10387  https://open.spotify.com/playlist/37i9dQZF1DX4OjfOteYnH8  \n",
       "19687  https://open.spotify.com/playlist/37i9dQZF1DX4OjfOteYnH8  "
      ]
     },
     "execution_count": 55,
     "metadata": {},
     "output_type": "execute_result"
    }
   ],
   "source": [
    "df_filtered[df_filtered[\"playlist_name\"] == df_filtered[df_filtered[\"playlist_url\"].duplicated()][\"playlist_name\"].value_counts().index.values[2]]"
   ]
  },
  {
   "cell_type": "code",
   "execution_count": 56,
   "metadata": {},
   "outputs": [
    {
     "data": {
      "text/html": [
       "<div>\n",
       "<style scoped>\n",
       "    .dataframe tbody tr th:only-of-type {\n",
       "        vertical-align: middle;\n",
       "    }\n",
       "\n",
       "    .dataframe tbody tr th {\n",
       "        vertical-align: top;\n",
       "    }\n",
       "\n",
       "    .dataframe thead th {\n",
       "        text-align: right;\n",
       "    }\n",
       "</style>\n",
       "<table border=\"1\" class=\"dataframe\">\n",
       "  <thead>\n",
       "    <tr style=\"text-align: right;\">\n",
       "      <th></th>\n",
       "      <th>playlist_name</th>\n",
       "      <th>playlist_id</th>\n",
       "      <th>playlist_genre</th>\n",
       "      <th>playlist_subgenre</th>\n",
       "      <th>playlist_url</th>\n",
       "    </tr>\n",
       "  </thead>\n",
       "  <tbody>\n",
       "    <tr>\n",
       "      <th>1067</th>\n",
       "      <td>Ultimate Indie Presents... Best Indie Tracks of the 2010s</td>\n",
       "      <td>37i9dQZF1DWTHM4kX49UKs</td>\n",
       "      <td>pop</td>\n",
       "      <td>dance pop</td>\n",
       "      <td>https://open.spotify.com/playlist/37i9dQZF1DWTHM4kX49UKs</td>\n",
       "    </tr>\n",
       "    <tr>\n",
       "      <th>22829</th>\n",
       "      <td>Ultimate Indie Presents... Best Indie Tracks of the 2010s</td>\n",
       "      <td>37i9dQZF1DWTHM4kX49UKs</td>\n",
       "      <td>r&amp;b</td>\n",
       "      <td>hip pop</td>\n",
       "      <td>https://open.spotify.com/playlist/37i9dQZF1DWTHM4kX49UKs</td>\n",
       "    </tr>\n",
       "  </tbody>\n",
       "</table>\n",
       "</div>"
      ],
      "text/plain": [
       "                                                   playlist_name  \\\n",
       "1067   Ultimate Indie Presents... Best Indie Tracks of the 2010s   \n",
       "22829  Ultimate Indie Presents... Best Indie Tracks of the 2010s   \n",
       "\n",
       "                  playlist_id playlist_genre playlist_subgenre  \\\n",
       "1067   37i9dQZF1DWTHM4kX49UKs            pop         dance pop   \n",
       "22829  37i9dQZF1DWTHM4kX49UKs            r&b           hip pop   \n",
       "\n",
       "                                                   playlist_url  \n",
       "1067   https://open.spotify.com/playlist/37i9dQZF1DWTHM4kX49UKs  \n",
       "22829  https://open.spotify.com/playlist/37i9dQZF1DWTHM4kX49UKs  "
      ]
     },
     "execution_count": 56,
     "metadata": {},
     "output_type": "execute_result"
    }
   ],
   "source": [
    "df_filtered[df_filtered[\"playlist_name\"] == df_filtered[df_filtered[\"playlist_url\"].duplicated()][\"playlist_name\"].value_counts().index.values[3]]"
   ]
  },
  {
   "cell_type": "code",
   "execution_count": 57,
   "metadata": {},
   "outputs": [
    {
     "data": {
      "text/html": [
       "<div>\n",
       "<style scoped>\n",
       "    .dataframe tbody tr th:only-of-type {\n",
       "        vertical-align: middle;\n",
       "    }\n",
       "\n",
       "    .dataframe tbody tr th {\n",
       "        vertical-align: top;\n",
       "    }\n",
       "\n",
       "    .dataframe thead th {\n",
       "        text-align: right;\n",
       "    }\n",
       "</style>\n",
       "<table border=\"1\" class=\"dataframe\">\n",
       "  <thead>\n",
       "    <tr style=\"text-align: right;\">\n",
       "      <th></th>\n",
       "      <th>playlist_name</th>\n",
       "      <th>playlist_id</th>\n",
       "      <th>playlist_genre</th>\n",
       "      <th>playlist_subgenre</th>\n",
       "      <th>playlist_url</th>\n",
       "    </tr>\n",
       "  </thead>\n",
       "  <tbody>\n",
       "    <tr>\n",
       "      <th>27216</th>\n",
       "      <td>EDM 2020 House &amp; Dance</td>\n",
       "      <td>25ButZrVb1Zj1MJioMs09D</td>\n",
       "      <td>edm</td>\n",
       "      <td>electro house</td>\n",
       "      <td>https://open.spotify.com/playlist/25ButZrVb1Zj1MJioMs09D</td>\n",
       "    </tr>\n",
       "    <tr>\n",
       "      <th>29945</th>\n",
       "      <td>EDM 2020 House &amp; Dance</td>\n",
       "      <td>25ButZrVb1Zj1MJioMs09D</td>\n",
       "      <td>edm</td>\n",
       "      <td>pop edm</td>\n",
       "      <td>https://open.spotify.com/playlist/25ButZrVb1Zj1MJioMs09D</td>\n",
       "    </tr>\n",
       "  </tbody>\n",
       "</table>\n",
       "</div>"
      ],
      "text/plain": [
       "                playlist_name             playlist_id playlist_genre  \\\n",
       "27216  EDM 2020 House & Dance  25ButZrVb1Zj1MJioMs09D            edm   \n",
       "29945  EDM 2020 House & Dance  25ButZrVb1Zj1MJioMs09D            edm   \n",
       "\n",
       "      playlist_subgenre  \\\n",
       "27216     electro house   \n",
       "29945           pop edm   \n",
       "\n",
       "                                                   playlist_url  \n",
       "27216  https://open.spotify.com/playlist/25ButZrVb1Zj1MJioMs09D  \n",
       "29945  https://open.spotify.com/playlist/25ButZrVb1Zj1MJioMs09D  "
      ]
     },
     "execution_count": 57,
     "metadata": {},
     "output_type": "execute_result"
    }
   ],
   "source": [
    "df_filtered[df_filtered[\"playlist_name\"] == df_filtered[df_filtered[\"playlist_url\"].duplicated()][\"playlist_name\"].value_counts().index.values[4]]"
   ]
  },
  {
   "cell_type": "code",
   "execution_count": 58,
   "metadata": {},
   "outputs": [
    {
     "data": {
      "text/html": [
       "<div>\n",
       "<style scoped>\n",
       "    .dataframe tbody tr th:only-of-type {\n",
       "        vertical-align: middle;\n",
       "    }\n",
       "\n",
       "    .dataframe tbody tr th {\n",
       "        vertical-align: top;\n",
       "    }\n",
       "\n",
       "    .dataframe thead th {\n",
       "        text-align: right;\n",
       "    }\n",
       "</style>\n",
       "<table border=\"1\" class=\"dataframe\">\n",
       "  <thead>\n",
       "    <tr style=\"text-align: right;\">\n",
       "      <th></th>\n",
       "      <th>playlist_name</th>\n",
       "      <th>playlist_id</th>\n",
       "      <th>playlist_genre</th>\n",
       "      <th>playlist_subgenre</th>\n",
       "      <th>playlist_url</th>\n",
       "    </tr>\n",
       "  </thead>\n",
       "  <tbody>\n",
       "    <tr>\n",
       "      <th>23099</th>\n",
       "      <td>Charts 2020 🔥Top 2020🔥Hits 2020🔥Summer 2020🔥Pop 2020🔥Popular Music🔥Clean Pop 2020🔥Sing Alongs</td>\n",
       "      <td>3xMQTDLOIGvj3lWH5e5x6F</td>\n",
       "      <td>r&amp;b</td>\n",
       "      <td>hip pop</td>\n",
       "      <td>https://open.spotify.com/playlist/3xMQTDLOIGvj3lWH5e5x6F</td>\n",
       "    </tr>\n",
       "    <tr>\n",
       "      <th>30196</th>\n",
       "      <td>Charts 2020 🔥Top 2020🔥Hits 2020🔥Summer 2020🔥Pop 2020🔥Popular Music🔥Clean Pop 2020🔥Sing Alongs</td>\n",
       "      <td>3xMQTDLOIGvj3lWH5e5x6F</td>\n",
       "      <td>edm</td>\n",
       "      <td>pop edm</td>\n",
       "      <td>https://open.spotify.com/playlist/3xMQTDLOIGvj3lWH5e5x6F</td>\n",
       "    </tr>\n",
       "  </tbody>\n",
       "</table>\n",
       "</div>"
      ],
      "text/plain": [
       "                                                                                       playlist_name  \\\n",
       "23099  Charts 2020 🔥Top 2020🔥Hits 2020🔥Summer 2020🔥Pop 2020🔥Popular Music🔥Clean Pop 2020🔥Sing Alongs   \n",
       "30196  Charts 2020 🔥Top 2020🔥Hits 2020🔥Summer 2020🔥Pop 2020🔥Popular Music🔥Clean Pop 2020🔥Sing Alongs   \n",
       "\n",
       "                  playlist_id playlist_genre playlist_subgenre  \\\n",
       "23099  3xMQTDLOIGvj3lWH5e5x6F            r&b           hip pop   \n",
       "30196  3xMQTDLOIGvj3lWH5e5x6F            edm           pop edm   \n",
       "\n",
       "                                                   playlist_url  \n",
       "23099  https://open.spotify.com/playlist/3xMQTDLOIGvj3lWH5e5x6F  \n",
       "30196  https://open.spotify.com/playlist/3xMQTDLOIGvj3lWH5e5x6F  "
      ]
     },
     "execution_count": 58,
     "metadata": {},
     "output_type": "execute_result"
    }
   ],
   "source": [
    "df_filtered[df_filtered[\"playlist_name\"] == df_filtered[df_filtered[\"playlist_url\"].duplicated()][\"playlist_name\"].value_counts().index.values[5]]"
   ]
  },
  {
   "cell_type": "code",
   "execution_count": 59,
   "metadata": {},
   "outputs": [
    {
     "data": {
      "text/html": [
       "<div>\n",
       "<style scoped>\n",
       "    .dataframe tbody tr th:only-of-type {\n",
       "        vertical-align: middle;\n",
       "    }\n",
       "\n",
       "    .dataframe tbody tr th {\n",
       "        vertical-align: top;\n",
       "    }\n",
       "\n",
       "    .dataframe thead th {\n",
       "        text-align: right;\n",
       "    }\n",
       "</style>\n",
       "<table border=\"1\" class=\"dataframe\">\n",
       "  <thead>\n",
       "    <tr style=\"text-align: right;\">\n",
       "      <th></th>\n",
       "      <th>playlist_name</th>\n",
       "      <th>playlist_id</th>\n",
       "      <th>playlist_genre</th>\n",
       "      <th>playlist_subgenre</th>\n",
       "      <th>playlist_url</th>\n",
       "    </tr>\n",
       "  </thead>\n",
       "  <tbody>\n",
       "    <tr>\n",
       "      <th>23436</th>\n",
       "      <td>TOP 50 GLOBAL 2020 UPDATED WEEKLY 🌍🎶 WORLDWIDE</td>\n",
       "      <td>2CJsD3fcYJWcliEKnwmovU</td>\n",
       "      <td>r&amp;b</td>\n",
       "      <td>hip pop</td>\n",
       "      <td>https://open.spotify.com/playlist/2CJsD3fcYJWcliEKnwmovU</td>\n",
       "    </tr>\n",
       "    <tr>\n",
       "      <th>30804</th>\n",
       "      <td>TOP 50 GLOBAL 2020 UPDATED WEEKLY 🌍🎶 WORLDWIDE</td>\n",
       "      <td>2CJsD3fcYJWcliEKnwmovU</td>\n",
       "      <td>edm</td>\n",
       "      <td>pop edm</td>\n",
       "      <td>https://open.spotify.com/playlist/2CJsD3fcYJWcliEKnwmovU</td>\n",
       "    </tr>\n",
       "  </tbody>\n",
       "</table>\n",
       "</div>"
      ],
      "text/plain": [
       "                                        playlist_name             playlist_id  \\\n",
       "23436  TOP 50 GLOBAL 2020 UPDATED WEEKLY 🌍🎶 WORLDWIDE  2CJsD3fcYJWcliEKnwmovU   \n",
       "30804  TOP 50 GLOBAL 2020 UPDATED WEEKLY 🌍🎶 WORLDWIDE  2CJsD3fcYJWcliEKnwmovU   \n",
       "\n",
       "      playlist_genre playlist_subgenre  \\\n",
       "23436            r&b           hip pop   \n",
       "30804            edm           pop edm   \n",
       "\n",
       "                                                   playlist_url  \n",
       "23436  https://open.spotify.com/playlist/2CJsD3fcYJWcliEKnwmovU  \n",
       "30804  https://open.spotify.com/playlist/2CJsD3fcYJWcliEKnwmovU  "
      ]
     },
     "execution_count": 59,
     "metadata": {},
     "output_type": "execute_result"
    }
   ],
   "source": [
    "df_filtered[df_filtered[\"playlist_name\"] == df_filtered[df_filtered[\"playlist_url\"].duplicated()][\"playlist_name\"].value_counts().index.values[6]]"
   ]
  },
  {
   "cell_type": "code",
   "execution_count": 52,
   "metadata": {},
   "outputs": [
    {
     "data": {
      "text/html": [
       "<div>\n",
       "<style scoped>\n",
       "    .dataframe tbody tr th:only-of-type {\n",
       "        vertical-align: middle;\n",
       "    }\n",
       "\n",
       "    .dataframe tbody tr th {\n",
       "        vertical-align: top;\n",
       "    }\n",
       "\n",
       "    .dataframe thead th {\n",
       "        text-align: right;\n",
       "    }\n",
       "</style>\n",
       "<table border=\"1\" class=\"dataframe\">\n",
       "  <thead>\n",
       "    <tr style=\"text-align: right;\">\n",
       "      <th></th>\n",
       "      <th>playlist_name</th>\n",
       "      <th>playlist_id</th>\n",
       "      <th>playlist_genre</th>\n",
       "      <th>playlist_subgenre</th>\n",
       "      <th>playlist_url</th>\n",
       "    </tr>\n",
       "  </thead>\n",
       "  <tbody>\n",
       "    <tr>\n",
       "      <th>27962</th>\n",
       "      <td>Fitness Workout Electro | House | Dance | Progressive House</td>\n",
       "      <td>6KnQDwp0syvhfHOR4lWP7x</td>\n",
       "      <td>edm</td>\n",
       "      <td>electro house</td>\n",
       "      <td>https://open.spotify.com/playlist/6KnQDwp0syvhfHOR4lWP7x</td>\n",
       "    </tr>\n",
       "    <tr>\n",
       "      <th>31024</th>\n",
       "      <td>Fitness Workout Electro | House | Dance | Progressive House</td>\n",
       "      <td>6KnQDwp0syvhfHOR4lWP7x</td>\n",
       "      <td>edm</td>\n",
       "      <td>progressive electro house</td>\n",
       "      <td>https://open.spotify.com/playlist/6KnQDwp0syvhfHOR4lWP7x</td>\n",
       "    </tr>\n",
       "  </tbody>\n",
       "</table>\n",
       "</div>"
      ],
      "text/plain": [
       "                                                     playlist_name  \\\n",
       "27962  Fitness Workout Electro | House | Dance | Progressive House   \n",
       "31024  Fitness Workout Electro | House | Dance | Progressive House   \n",
       "\n",
       "                  playlist_id playlist_genre          playlist_subgenre  \\\n",
       "27962  6KnQDwp0syvhfHOR4lWP7x            edm              electro house   \n",
       "31024  6KnQDwp0syvhfHOR4lWP7x            edm  progressive electro house   \n",
       "\n",
       "                                                   playlist_url  \n",
       "27962  https://open.spotify.com/playlist/6KnQDwp0syvhfHOR4lWP7x  \n",
       "31024  https://open.spotify.com/playlist/6KnQDwp0syvhfHOR4lWP7x  "
      ]
     },
     "execution_count": 52,
     "metadata": {},
     "output_type": "execute_result"
    }
   ],
   "source": [
    "df_filtered[df_filtered[\"playlist_name\"] == df_filtered[df_filtered[\"playlist_url\"].duplicated()][\"playlist_name\"].value_counts().index.values[7]]"
   ]
  },
  {
   "cell_type": "code",
   "execution_count": 63,
   "metadata": {},
   "outputs": [],
   "source": [
    "df_filtered = df_filtered.drop([19703, 23755, 15155, 19687, 22829, 29945, 30196, 30804, 31024]).copy()"
   ]
  },
  {
   "cell_type": "code",
   "execution_count": 64,
   "metadata": {},
   "outputs": [],
   "source": [
    "df_filtered.to_csv(\"../data/playlists_urls.csv\", index=False)\n"
   ]
  },
  {
   "cell_type": "code",
   "execution_count": 71,
   "metadata": {},
   "outputs": [],
   "source": [
    "df = pd.read_csv(\"../data/playlists_urls.csv\")"
   ]
  },
  {
   "cell_type": "code",
   "execution_count": 74,
   "metadata": {},
   "outputs": [
    {
     "data": {
      "text/plain": [
       "playlist_genre\n",
       "pop      80\n",
       "rap      80\n",
       "rock     79\n",
       "latin    78\n",
       "r&b      78\n",
       "edm      76\n",
       "Name: count, dtype: int64"
      ]
     },
     "execution_count": 74,
     "metadata": {},
     "output_type": "execute_result"
    }
   ],
   "source": [
    "df[\"playlist_genre\"].value_counts()"
   ]
  },
  {
   "cell_type": "code",
   "execution_count": 100,
   "metadata": {},
   "outputs": [
    {
     "data": {
      "text/html": [
       "<div>\n",
       "<style scoped>\n",
       "    .dataframe tbody tr th:only-of-type {\n",
       "        vertical-align: middle;\n",
       "    }\n",
       "\n",
       "    .dataframe tbody tr th {\n",
       "        vertical-align: top;\n",
       "    }\n",
       "\n",
       "    .dataframe thead th {\n",
       "        text-align: right;\n",
       "    }\n",
       "</style>\n",
       "<table border=\"1\" class=\"dataframe\">\n",
       "  <thead>\n",
       "    <tr style=\"text-align: right;\">\n",
       "      <th></th>\n",
       "      <th>playlist_name</th>\n",
       "      <th>playlist_id</th>\n",
       "      <th>playlist_genre</th>\n",
       "      <th>playlist_subgenre</th>\n",
       "      <th>playlist_url</th>\n",
       "    </tr>\n",
       "  </thead>\n",
       "  <tbody>\n",
       "    <tr>\n",
       "      <th>0</th>\n",
       "      <td>Classical Essentials</td>\n",
       "      <td>37i9dQZF1DWWEJlAGA9gs0</td>\n",
       "      <td>Classical &amp; Historical</td>\n",
       "      <td>Classical &amp; Historical</td>\n",
       "      <td>https://open.spotify.com/playlist/37i9dQZF1DWWEJlAGA9gs0</td>\n",
       "    </tr>\n",
       "    <tr>\n",
       "      <th>1</th>\n",
       "      <td>Fresh Classical 2025</td>\n",
       "      <td>37i9dQZF1DWUN2ernEEdZ0</td>\n",
       "      <td>Classical &amp; Historical</td>\n",
       "      <td>Classical &amp; Historical</td>\n",
       "      <td>https://open.spotify.com/playlist/37i9dQZF1DWUN2ernEEdZ0</td>\n",
       "    </tr>\n",
       "    <tr>\n",
       "      <th>2</th>\n",
       "      <td>Classical in the Backgrouynd</td>\n",
       "      <td>37i9dQZF1DWTi57LiHYTmH</td>\n",
       "      <td>Classical &amp; Historical</td>\n",
       "      <td>Classical &amp; Historical</td>\n",
       "      <td>https://open.spotify.com/playlist/37i9dQZF1DWTi57LiHYTmH</td>\n",
       "    </tr>\n",
       "    <tr>\n",
       "      <th>3</th>\n",
       "      <td>1920s Music</td>\n",
       "      <td>0m9D70qre0B18R5bYu1sir</td>\n",
       "      <td>Classical &amp; Historical</td>\n",
       "      <td>Classical &amp; Historical</td>\n",
       "      <td>https://open.spotify.com/playlist/0m9D70qre0B18R5bYu1sir</td>\n",
       "    </tr>\n",
       "    <tr>\n",
       "      <th>4</th>\n",
       "      <td>musica años 20-30</td>\n",
       "      <td>5s4TMbyKnmoDbaBHwAgWvM</td>\n",
       "      <td>Classical &amp; Historical</td>\n",
       "      <td>Classical &amp; Historical</td>\n",
       "      <td>https://open.spotify.com/playlist/5s4TMbyKnmoDbaBHwAgWvM</td>\n",
       "    </tr>\n",
       "    <tr>\n",
       "      <th>5</th>\n",
       "      <td>Folk Pop ☀️ 2025 ☀️</td>\n",
       "      <td>3dRiaweTVfeDOeSQaqqQPi</td>\n",
       "      <td>Folk</td>\n",
       "      <td>Folk</td>\n",
       "      <td>https://open.spotify.com/playlist/3dRiaweTVfeDOeSQaqqQPi</td>\n",
       "    </tr>\n",
       "    <tr>\n",
       "      <th>6</th>\n",
       "      <td>Folk Songs Greatest Hits</td>\n",
       "      <td>1WXXO8g0zyY9f2OIRsL96X</td>\n",
       "      <td>Folk</td>\n",
       "      <td>Folk</td>\n",
       "      <td>https://open.spotify.com/playlist/1WXXO8g0zyY9f2OIRsL96X</td>\n",
       "    </tr>\n",
       "    <tr>\n",
       "      <th>7</th>\n",
       "      <td>Fresh Folk</td>\n",
       "      <td>37i9dQZF1DXaUDcU6KDCj4</td>\n",
       "      <td>Folk</td>\n",
       "      <td>Folk</td>\n",
       "      <td>https://open.spotify.com/playlist/37i9dQZF1DXaUDcU6KDCj4</td>\n",
       "    </tr>\n",
       "    <tr>\n",
       "      <th>8</th>\n",
       "      <td>Country Pop 2025 - Folk Pop - Country songs - Country Hits 2025</td>\n",
       "      <td>0GdnLd4R7QKOWqBgJszCsf</td>\n",
       "      <td>Folk</td>\n",
       "      <td>Folk</td>\n",
       "      <td>https://open.spotify.com/playlist/0GdnLd4R7QKOWqBgJszCsf</td>\n",
       "    </tr>\n",
       "    <tr>\n",
       "      <th>9</th>\n",
       "      <td>Sad Folk</td>\n",
       "      <td>37i9dQZF1DWV1bxlagjEmb</td>\n",
       "      <td>Folk</td>\n",
       "      <td>Folk</td>\n",
       "      <td>https://open.spotify.com/playlist/37i9dQZF1DWV1bxlagjEmb</td>\n",
       "    </tr>\n",
       "  </tbody>\n",
       "</table>\n",
       "</div>"
      ],
      "text/plain": [
       "                                                     playlist_name  \\\n",
       "0                                             Classical Essentials   \n",
       "1                                             Fresh Classical 2025   \n",
       "2                                     Classical in the Backgrouynd   \n",
       "3                                                      1920s Music   \n",
       "4                                                musica años 20-30   \n",
       "5                                              Folk Pop ☀️ 2025 ☀️   \n",
       "6                                         Folk Songs Greatest Hits   \n",
       "7                                                       Fresh Folk   \n",
       "8  Country Pop 2025 - Folk Pop - Country songs - Country Hits 2025   \n",
       "9                                                         Sad Folk   \n",
       "\n",
       "              playlist_id          playlist_genre       playlist_subgenre  \\\n",
       "0  37i9dQZF1DWWEJlAGA9gs0  Classical & Historical  Classical & Historical   \n",
       "1  37i9dQZF1DWUN2ernEEdZ0  Classical & Historical  Classical & Historical   \n",
       "2  37i9dQZF1DWTi57LiHYTmH  Classical & Historical  Classical & Historical   \n",
       "3  0m9D70qre0B18R5bYu1sir  Classical & Historical  Classical & Historical   \n",
       "4  5s4TMbyKnmoDbaBHwAgWvM  Classical & Historical  Classical & Historical   \n",
       "5  3dRiaweTVfeDOeSQaqqQPi                    Folk                    Folk   \n",
       "6  1WXXO8g0zyY9f2OIRsL96X                    Folk                    Folk   \n",
       "7  37i9dQZF1DXaUDcU6KDCj4                    Folk                    Folk   \n",
       "8  0GdnLd4R7QKOWqBgJszCsf                    Folk                    Folk   \n",
       "9  37i9dQZF1DWV1bxlagjEmb                    Folk                    Folk   \n",
       "\n",
       "                                               playlist_url  \n",
       "0  https://open.spotify.com/playlist/37i9dQZF1DWWEJlAGA9gs0  \n",
       "1  https://open.spotify.com/playlist/37i9dQZF1DWUN2ernEEdZ0  \n",
       "2  https://open.spotify.com/playlist/37i9dQZF1DWTi57LiHYTmH  \n",
       "3  https://open.spotify.com/playlist/0m9D70qre0B18R5bYu1sir  \n",
       "4  https://open.spotify.com/playlist/5s4TMbyKnmoDbaBHwAgWvM  \n",
       "5  https://open.spotify.com/playlist/3dRiaweTVfeDOeSQaqqQPi  \n",
       "6  https://open.spotify.com/playlist/1WXXO8g0zyY9f2OIRsL96X  \n",
       "7  https://open.spotify.com/playlist/37i9dQZF1DXaUDcU6KDCj4  \n",
       "8  https://open.spotify.com/playlist/0GdnLd4R7QKOWqBgJszCsf  \n",
       "9  https://open.spotify.com/playlist/37i9dQZF1DWV1bxlagjEmb  "
      ]
     },
     "execution_count": 100,
     "metadata": {},
     "output_type": "execute_result"
    }
   ],
   "source": [
    "# Definir el diccionario\n",
    "new_data = {\n",
    "    'playlist_name': [\"Classical Essentials\", \n",
    "                      \"Fresh Classical 2025\",\n",
    "                      \"Classical in the Backgrouynd\",\n",
    "                      \"1920s Music\",\n",
    "                      \"musica años 20-30\",\n",
    "                      \"Folk Pop ☀️ 2025 ☀️\",\n",
    "                      \"Folk Songs Greatest Hits\",\n",
    "                      \"Fresh Folk\",\n",
    "                      \"Country Pop 2025 - Folk Pop - Country songs - Country Hits 2025\",\n",
    "                      \"Sad Folk\"],\n",
    "    'playlist_id': [\"37i9dQZF1DWWEJlAGA9gs0\", \n",
    "                    \"37i9dQZF1DWUN2ernEEdZ0\", \n",
    "                    \"37i9dQZF1DWTi57LiHYTmH\",\n",
    "                    \"0m9D70qre0B18R5bYu1sir\",\n",
    "                    \"5s4TMbyKnmoDbaBHwAgWvM\",\n",
    "                    \"3dRiaweTVfeDOeSQaqqQPi\",\n",
    "                    \"1WXXO8g0zyY9f2OIRsL96X\",\n",
    "                    \"37i9dQZF1DXaUDcU6KDCj4\",\n",
    "                    \"0GdnLd4R7QKOWqBgJszCsf\",\n",
    "                    \"37i9dQZF1DWV1bxlagjEmb\"],\n",
    "    'playlist_genre': [\"Classical & Historical\"] * 5 + [\"Folk\"] * 5,\n",
    "    'playlist_subgenre': [\"Classical & Historical\"] * 5 + [\"Folk\"] * 5,\n",
    "    'playlist_url': [\"https://open.spotify.com/playlist/37i9dQZF1DWWEJlAGA9gs0\", \n",
    "                     \"https://open.spotify.com/playlist/37i9dQZF1DWUN2ernEEdZ0\",\n",
    "                     \"https://open.spotify.com/playlist/37i9dQZF1DWTi57LiHYTmH\",\n",
    "                     \"https://open.spotify.com/playlist/0m9D70qre0B18R5bYu1sir\",\n",
    "                     \"https://open.spotify.com/playlist/5s4TMbyKnmoDbaBHwAgWvM\",\n",
    "                     \"https://open.spotify.com/playlist/3dRiaweTVfeDOeSQaqqQPi\",\n",
    "                     \"https://open.spotify.com/playlist/1WXXO8g0zyY9f2OIRsL96X\",\n",
    "                     \"https://open.spotify.com/playlist/37i9dQZF1DXaUDcU6KDCj4\",\n",
    "                     \"https://open.spotify.com/playlist/0GdnLd4R7QKOWqBgJszCsf\",\n",
    "                     \"https://open.spotify.com/playlist/37i9dQZF1DWV1bxlagjEmb\"]\n",
    "}\n",
    "\n",
    "# Convertir a DataFrame\n",
    "df_new = pd.DataFrame(new_data)\n",
    "\n",
    "# Mostrar el DataFrame\n",
    "df_new"
   ]
  },
  {
   "cell_type": "code",
   "execution_count": 101,
   "metadata": {},
   "outputs": [],
   "source": [
    "df = pd.concat([df, df_new], ignore_index=True)"
   ]
  },
  {
   "cell_type": "markdown",
   "metadata": {},
   "source": [
    "1: Electronic"
   ]
  },
  {
   "cell_type": "code",
   "execution_count": 102,
   "metadata": {},
   "outputs": [
    {
     "data": {
      "text/plain": [
       "array(['electro house', 'big room', 'progressive electro house',\n",
       "       'pop edm'], dtype=object)"
      ]
     },
     "execution_count": 102,
     "metadata": {},
     "output_type": "execute_result"
    }
   ],
   "source": [
    "df[df[\"playlist_genre\"] == \"edm\"][\"playlist_subgenre\"].value_counts().index.values"
   ]
  },
  {
   "cell_type": "markdown",
   "metadata": {},
   "source": [
    "'Classical & Historical' = 0\n",
    "'electro house', 'big room', 'progressive electro house', 'pop edm': 1\n",
    "'Folk': 2\n",
    "'trap', 'gangster rap', 'southern hip hop', 'hip hop': 3\n",
    "'album rock', 'classic rock', 'permanent wave', 'hard rock': 4"
   ]
  },
  {
   "cell_type": "markdown",
   "metadata": {},
   "source": [
    "0: Classical & Historic\n"
   ]
  },
  {
   "cell_type": "code",
   "execution_count": 111,
   "metadata": {},
   "outputs": [
    {
     "data": {
      "text/plain": [
       "array(['Classical & Historical'], dtype=object)"
      ]
     },
     "execution_count": 111,
     "metadata": {},
     "output_type": "execute_result"
    }
   ],
   "source": [
    "df[df[\"playlist_genre\"] == \"Classical & Historical\"][\"playlist_subgenre\"].value_counts().index.values"
   ]
  },
  {
   "cell_type": "markdown",
   "metadata": {},
   "source": [
    "2: Folk\n"
   ]
  },
  {
   "cell_type": "code",
   "execution_count": 113,
   "metadata": {},
   "outputs": [
    {
     "data": {
      "text/plain": [
       "array(['Folk'], dtype=object)"
      ]
     },
     "execution_count": 113,
     "metadata": {},
     "output_type": "execute_result"
    }
   ],
   "source": [
    "df[df[\"playlist_genre\"] == \"Folk\"][\"playlist_subgenre\"].value_counts().index.values"
   ]
  },
  {
   "cell_type": "markdown",
   "metadata": {},
   "source": [
    "3: Hip-Hop\n"
   ]
  },
  {
   "cell_type": "markdown",
   "metadata": {},
   "source": [
    " 'trap', 'gangster rap', 'southern hip hop', 'hip hop'"
   ]
  },
  {
   "cell_type": "markdown",
   "metadata": {},
   "source": [
    "4: Rock & Punk"
   ]
  },
  {
   "cell_type": "code",
   "execution_count": 83,
   "metadata": {},
   "outputs": [
    {
     "data": {
      "text/plain": [
       "array(['album rock', 'classic rock', 'permanent wave', 'hard rock'],\n",
       "      dtype=object)"
      ]
     },
     "execution_count": 83,
     "metadata": {},
     "output_type": "execute_result"
    }
   ],
   "source": [
    "df[df[\"playlist_genre\"] == \"rock\"][\"playlist_subgenre\"].value_counts().index.values"
   ]
  },
  {
   "cell_type": "code",
   "execution_count": 117,
   "metadata": {},
   "outputs": [],
   "source": [
    "mapa_categorias = {\n",
    "    'Classical & Historical': 0,\n",
    "    'electro house': 1, 'big room': 1, 'progressive electro house': 1, 'pop edm': 1,\n",
    "    'Folk': 2,\n",
    "    'trap': 3, 'gangster rap': 3, 'southern hip hop': 3, 'hip hop': 3,\n",
    "    'album rock': 4, 'classic rock': 4, 'permanent wave': 4, 'hard rock': 4\n",
    "}\n",
    "\n",
    "# Asignar valores usando map() y llenar NaN con 99\n",
    "df['playlist_categories'] = df['playlist_subgenre'].map(mapa_categorias).fillna(99).astype(int)\n"
   ]
  },
  {
   "cell_type": "code",
   "execution_count": 121,
   "metadata": {},
   "outputs": [],
   "source": [
    "df.to_csv(\"../data/playlists_predictions.csv\")"
   ]
  },
  {
   "cell_type": "code",
   "execution_count": 122,
   "metadata": {},
   "outputs": [
    {
     "data": {
      "text/plain": [
       "Index(['playlist_name', 'playlist_id', 'playlist_genre', 'playlist_subgenre',\n",
       "       'playlist_url', 'playlist_categories'],\n",
       "      dtype='object')"
      ]
     },
     "execution_count": 122,
     "metadata": {},
     "output_type": "execute_result"
    }
   ],
   "source": [
    "df.columns"
   ]
  },
  {
   "cell_type": "markdown",
   "metadata": {},
   "source": [
    "A este codigo de streamlit quiero añadirle un paso más un recomendador de 5 playlists de estilos similares. Para ello con el dataset adjunto fijandose en la columna de playlist_categories (coincide con los posibles valores de la prediccion del modelo). Por ejemplo si el modelo predice 0 quiero que me devuelva 5 playlist aleatorias en cada prediccion que en la playlist categfories sea == 0, tiene quedevolver el nombre de la playlist y su link a spotify\n",
    "\n",
    "import librosa\n",
    "import streamlit as st\n",
    "import numpy as np\n",
    "import pickle\n",
    "\n",
    "# --- Configuración de la Página ---\n",
    "st.set_page_config(\n",
    "    page_title=\"🎶 Predictor de géneros musicales\",\n",
    "    layout=\"wide\",\n",
    "    initial_sidebar_state=\"expanded\"\n",
    ")\n",
    "\n",
    "# --- Título Principal ---\n",
    "st.title(\"🎶 Predictor de géneros musicales\")\n",
    "st.markdown(\"📀 Sube una canción y descubre su genero, tempo y tono con nuestro modelo de Machine Learning.\")\n",
    "\n",
    "# --- Cargar modelo y scaler ---\n",
    "@st.cache_resource\n",
    "def load_model_and_scaler():\n",
    "    with open(\"CNN-model_agp_3.pkl\", 'rb') as model_file:\n",
    "        model = pickle.load(model_file)\n",
    "    with open(\"CNN-model_agp_3_scaler.pkl\", 'rb') as scaler_file:\n",
    "        scaler = pickle.load(scaler_file)\n",
    "    return model, scaler\n",
    "\n",
    "model, scaler = load_model_and_scaler()\n",
    "\n",
    "# --- Sidebar: Cargar Archivo de Audio ---\n",
    "st.sidebar.header(\"📂 Cargar Archivo\")\n",
    "uploaded_file = st.sidebar.file_uploader(\"🎵 Sube una pista de audio\", type=[\"wav\", \"mp3\"])\n",
    "\n",
    "if uploaded_file is not None:\n",
    "    st.sidebar.audio(uploaded_file, format='audio/wav')\n",
    "\n",
    "    with st.spinner(\"⏳ Analizando el audio...\"):\n",
    "        try:\n",
    "            # --- Cargar y procesar audio ---\n",
    "            y, sr = librosa.load(uploaded_file, sr=None)\n",
    "            mfccs = librosa.feature.mfcc(y=y, sr=sr, n_mfcc=20)\n",
    "            mfcc_means = np.mean(mfccs, axis=1)\n",
    "            mfcc_means_scaled = scaler.transform(mfcc_means.reshape(1, -1))\n",
    "\n",
    "            # --- Predicción ---\n",
    "            pred = model.predict(mfcc_means_scaled)\n",
    "            pred = np.argmax(pred, axis=1)\n",
    "\n",
    "\n",
    "            # --- Mapear predicción a género ---\n",
    "            genre_dict = {\n",
    "                0: \"🎻 Classical & Historic\",\n",
    "                1: \"🎧 Electronic\",\n",
    "                2: \"🌾 Folk & Indie\",\n",
    "                3: \"🎤 Hip-Hop\",\n",
    "                4: \"🎸 Rock & Punk\"\n",
    "}\n",
    "            genre_pred = genre_dict.get(pred[0], \"❓ Estilo desconocido\")\n",
    "\n",
    "            # --- Calcular Tempo ---\n",
    "            tempo, _ = librosa.beat.beat_track(y=y, sr=sr)\n",
    "\n",
    "            # --- Calcular Tono ---\n",
    "            pitches, magnitudes = librosa.piptrack(y=y, sr=sr)\n",
    "            pitches_filtered = pitches[magnitudes > np.median(magnitudes)]\n",
    "\n",
    "            if len(pitches_filtered) > 0:\n",
    "                dominant_pitch = np.median(pitches_filtered)\n",
    "                note_names = ['C', 'C#', 'D', 'D#', 'E', 'F', 'F#', 'G', 'G#', 'A', 'A#', 'B']\n",
    "                estimated_note = note_names[int(round(dominant_pitch) % 12)]\n",
    "            else:\n",
    "                estimated_note = \"No detectado\"\n",
    "\n",
    "            # --- Mostrar resultados ---\n",
    "            st.success(f\"**🎶 Estilo Musical Detectado:** {genre_pred}\")\n",
    "\n",
    "            # --- Cajas con Tempo y Tono ---\n",
    "            col1, col2 = st.columns(2)\n",
    "\n",
    "            with col1:\n",
    "                st.subheader(\"🥁 Tempo Aproximado\")\n",
    "                st.info(f\"**{int(tempo)} BPM** (Beats por Minuto)\")\n",
    "\n",
    "            with col2:\n",
    "                st.subheader(\"🎵 Tono Estimado\")\n",
    "                st.warning(f\"**{estimated_note}** (Nota dominante)\")\n",
    "\n",
    "        except Exception as e:\n",
    "            st.error(f\"❌ Error al procesar el archivo: {str(e)}\")\n",
    "\n",
    "else:\n",
    "    st.sidebar.warning(\"⚠️ No has subido ningún archivo de audio.\")\n"
   ]
  }
 ],
 "metadata": {
  "kernelspec": {
   "display_name": "Python 3",
   "language": "python",
   "name": "python3"
  },
  "language_info": {
   "codemirror_mode": {
    "name": "ipython",
    "version": 3
   },
   "file_extension": ".py",
   "mimetype": "text/x-python",
   "name": "python",
   "nbconvert_exporter": "python",
   "pygments_lexer": "ipython3",
   "version": "3.13.0"
  }
 },
 "nbformat": 4,
 "nbformat_minor": 2
}
