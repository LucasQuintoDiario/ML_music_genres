{
 "cells": [
  {
   "cell_type": "code",
   "execution_count": null,
   "metadata": {
    "id": "Qj7hS-qD4wLu"
   },
   "outputs": [],
   "source": [
    "import pandas as pd\n",
    "import numpy as np\n",
    "import re\n",
    "import librosa\n",
    "from tqdm import tqdm\n",
    "import os\n",
    "import seaborn as sns\n",
    "import matplotlib.pyplot as plt\n",
    "import librosa"
   ]
  },
  {
   "cell_type": "markdown",
   "metadata": {},
   "source": [
    "# Funciones"
   ]
  },
  {
   "cell_type": "code",
   "execution_count": null,
   "metadata": {},
   "outputs": [],
   "source": [
    "def extract_mfcc(file_path, n_mfcc=20):\n",
    "    try:\n",
    "        # Cargar el archivo de audio\n",
    "        y, sr = librosa.load(file_path, sr=None)\n",
    "\n",
    "        # Extraer MFCC\n",
    "        mfccs = librosa.feature.mfcc(y=y, sr=sr, n_mfcc=n_mfcc)\n",
    "\n",
    "        # Calcular la media de cada coeficiente MFCC\n",
    "        mfcc_means = np.mean(mfccs, axis=1)\n",
    "\n",
    "        return mfcc_means\n",
    "    except Exception as e:\n",
    "        print(f\"Error procesando {file_path}: {e}\")\n",
    "        return np.full(n_mfcc, np.nan)\n",
    "\n",
    "def extract_audio_features(file_path, n_mfcc=20):\n",
    "    try:\n",
    "        y, sr = librosa.load(file_path, sr=None)\n",
    "\n",
    "        # Chroma\n",
    "        chroma = np.mean(librosa.feature.chroma_stft(y=y, sr=sr), axis=1)\n",
    "\n",
    "        # Spectral Contrast\n",
    "        spectral_contrast = np.mean(librosa.feature.spectral_contrast(y=y, sr=sr), axis=1)\n",
    "\n",
    "        # Zero Crossing Rate\n",
    "        zero_crossing = np.mean(librosa.feature.zero_crossing_rate(y), axis=1)\n",
    "\n",
    "        # Spectral Rolloff\n",
    "        rolloff = np.mean(librosa.feature.spectral_rolloff(y=y, sr=sr), axis=1)\n",
    "\n",
    "        # Tempo (BPM)\n",
    "        tempo, _ = librosa.beat.beat_track(y=y, sr=sr)\n",
    "\n",
    "\n",
    "        return np.hstack([chroma, spectral_contrast, zero_crossing, rolloff, tempo])\n",
    "\n",
    "    except Exception as e:\n",
    "        print(f\"Error procesando {file_path}: {e}\")\n",
    "        return np.full(12 + 7 + 1 + 1 + 1, np.nan)  # Rellenar con NaN en caso de error\n"
   ]
  },
  {
   "cell_type": "markdown",
   "metadata": {},
   "source": []
  },
  {
   "cell_type": "markdown",
   "metadata": {},
   "source": [
    "# Limpieza"
   ]
  },
  {
   "cell_type": "code",
   "execution_count": null,
   "metadata": {
    "id": "8rKKKSAx5Ej7"
   },
   "outputs": [],
   "source": [
    "canciones = pd.read_csv('../data/raw.csv')"
   ]
  },
  {
   "cell_type": "code",
   "execution_count": null,
   "metadata": {
    "colab": {
     "base_uri": "https://localhost:8080/",
     "height": 424
    },
    "executionInfo": {
     "elapsed": 96,
     "status": "ok",
     "timestamp": 1738916707999,
     "user": {
      "displayName": "Lucas Herranz",
      "userId": "14898979084021370855"
     },
     "user_tz": -60
    },
    "id": "EBS2abZh5Mcq",
    "outputId": "eecc0a4b-2be9-4520-8d7f-7efcebdf1792"
   },
   "outputs": [
    {
     "data": {
      "application/vnd.google.colaboratory.intrinsic+json": {
       "summary": "{\n  \"name\": \"canciones\",\n  \"rows\": 19922,\n  \"fields\": [\n    {\n      \"column\": \"song_id\",\n      \"properties\": {\n        \"dtype\": \"number\",\n        \"std\": 7208,\n        \"min\": 0,\n        \"max\": 24999,\n        \"num_unique_values\": 19922,\n        \"samples\": [\n          19700,\n          311,\n          23942\n        ],\n        \"semantic_type\": \"\",\n        \"description\": \"\"\n      }\n    },\n    {\n      \"column\": \"filename\",\n      \"properties\": {\n        \"dtype\": \"string\",\n        \"num_unique_values\": 19922,\n        \"samples\": [\n          \"019700.ogg\",\n          \"000311.ogg\",\n          \"023942.ogg\"\n        ],\n        \"semantic_type\": \"\",\n        \"description\": \"\"\n      }\n    },\n    {\n      \"column\": \"filepath\",\n      \"properties\": {\n        \"dtype\": \"string\",\n        \"num_unique_values\": 19922,\n        \"samples\": [\n          \"train/019700.ogg\",\n          \"train/000311.ogg\",\n          \"train/023942.ogg\"\n        ],\n        \"semantic_type\": \"\",\n        \"description\": \"\"\n      }\n    },\n    {\n      \"column\": \"genre_id\",\n      \"properties\": {\n        \"dtype\": \"number\",\n        \"std\": 3,\n        \"min\": 0,\n        \"max\": 18,\n        \"num_unique_values\": 19,\n        \"samples\": [\n          7,\n          9,\n          13\n        ],\n        \"semantic_type\": \"\",\n        \"description\": \"\"\n      }\n    },\n    {\n      \"column\": \"genre\",\n      \"properties\": {\n        \"dtype\": \"category\",\n        \"num_unique_values\": 19,\n        \"samples\": [\n          \"Instrumental\",\n          \"International\",\n          \"Jazz\"\n        ],\n        \"semantic_type\": \"\",\n        \"description\": \"\"\n      }\n    }\n  ]\n}",
       "type": "dataframe",
       "variable_name": "canciones"
      },
      "text/html": [
       "\n",
       "  <div id=\"df-e77b5e1d-18a6-4b3e-b80a-e4052e4e1890\" class=\"colab-df-container\">\n",
       "    <div>\n",
       "<style scoped>\n",
       "    .dataframe tbody tr th:only-of-type {\n",
       "        vertical-align: middle;\n",
       "    }\n",
       "\n",
       "    .dataframe tbody tr th {\n",
       "        vertical-align: top;\n",
       "    }\n",
       "\n",
       "    .dataframe thead th {\n",
       "        text-align: right;\n",
       "    }\n",
       "</style>\n",
       "<table border=\"1\" class=\"dataframe\">\n",
       "  <thead>\n",
       "    <tr style=\"text-align: right;\">\n",
       "      <th></th>\n",
       "      <th>song_id</th>\n",
       "      <th>filename</th>\n",
       "      <th>filepath</th>\n",
       "      <th>genre_id</th>\n",
       "      <th>genre</th>\n",
       "    </tr>\n",
       "  </thead>\n",
       "  <tbody>\n",
       "    <tr>\n",
       "      <th>0</th>\n",
       "      <td>10150</td>\n",
       "      <td>010150.ogg</td>\n",
       "      <td>train/010150.ogg</td>\n",
       "      <td>7</td>\n",
       "      <td>Instrumental</td>\n",
       "    </tr>\n",
       "    <tr>\n",
       "      <th>1</th>\n",
       "      <td>7358</td>\n",
       "      <td>007358.ogg</td>\n",
       "      <td>train/007358.ogg</td>\n",
       "      <td>2</td>\n",
       "      <td>Punk</td>\n",
       "    </tr>\n",
       "    <tr>\n",
       "      <th>2</th>\n",
       "      <td>20573</td>\n",
       "      <td>020573.ogg</td>\n",
       "      <td>train/020573.ogg</td>\n",
       "      <td>5</td>\n",
       "      <td>Folk</td>\n",
       "    </tr>\n",
       "    <tr>\n",
       "      <th>3</th>\n",
       "      <td>11170</td>\n",
       "      <td>011170.ogg</td>\n",
       "      <td>train/011170.ogg</td>\n",
       "      <td>12</td>\n",
       "      <td>Old-Time / Historic</td>\n",
       "    </tr>\n",
       "    <tr>\n",
       "      <th>4</th>\n",
       "      <td>16662</td>\n",
       "      <td>016662.ogg</td>\n",
       "      <td>train/016662.ogg</td>\n",
       "      <td>1</td>\n",
       "      <td>Rock</td>\n",
       "    </tr>\n",
       "    <tr>\n",
       "      <th>...</th>\n",
       "      <td>...</td>\n",
       "      <td>...</td>\n",
       "      <td>...</td>\n",
       "      <td>...</td>\n",
       "      <td>...</td>\n",
       "    </tr>\n",
       "    <tr>\n",
       "      <th>19917</th>\n",
       "      <td>9337</td>\n",
       "      <td>009337.ogg</td>\n",
       "      <td>train/009337.ogg</td>\n",
       "      <td>0</td>\n",
       "      <td>Electronic</td>\n",
       "    </tr>\n",
       "    <tr>\n",
       "      <th>19918</th>\n",
       "      <td>8340</td>\n",
       "      <td>008340.ogg</td>\n",
       "      <td>train/008340.ogg</td>\n",
       "      <td>4</td>\n",
       "      <td>Hip-Hop</td>\n",
       "    </tr>\n",
       "    <tr>\n",
       "      <th>19919</th>\n",
       "      <td>16248</td>\n",
       "      <td>016248.ogg</td>\n",
       "      <td>train/016248.ogg</td>\n",
       "      <td>4</td>\n",
       "      <td>Hip-Hop</td>\n",
       "    </tr>\n",
       "    <tr>\n",
       "      <th>19920</th>\n",
       "      <td>11875</td>\n",
       "      <td>011875.ogg</td>\n",
       "      <td>train/011875.ogg</td>\n",
       "      <td>2</td>\n",
       "      <td>Punk</td>\n",
       "    </tr>\n",
       "    <tr>\n",
       "      <th>19921</th>\n",
       "      <td>6579</td>\n",
       "      <td>006579.ogg</td>\n",
       "      <td>train/006579.ogg</td>\n",
       "      <td>1</td>\n",
       "      <td>Rock</td>\n",
       "    </tr>\n",
       "  </tbody>\n",
       "</table>\n",
       "<p>19922 rows × 5 columns</p>\n",
       "</div>\n",
       "    <div class=\"colab-df-buttons\">\n",
       "\n",
       "  <div class=\"colab-df-container\">\n",
       "    <button class=\"colab-df-convert\" onclick=\"convertToInteractive('df-e77b5e1d-18a6-4b3e-b80a-e4052e4e1890')\"\n",
       "            title=\"Convert this dataframe to an interactive table.\"\n",
       "            style=\"display:none;\">\n",
       "\n",
       "  <svg xmlns=\"http://www.w3.org/2000/svg\" height=\"24px\" viewBox=\"0 -960 960 960\">\n",
       "    <path d=\"M120-120v-720h720v720H120Zm60-500h600v-160H180v160Zm220 220h160v-160H400v160Zm0 220h160v-160H400v160ZM180-400h160v-160H180v160Zm440 0h160v-160H620v160ZM180-180h160v-160H180v160Zm440 0h160v-160H620v160Z\"/>\n",
       "  </svg>\n",
       "    </button>\n",
       "\n",
       "  <style>\n",
       "    .colab-df-container {\n",
       "      display:flex;\n",
       "      gap: 12px;\n",
       "    }\n",
       "\n",
       "    .colab-df-convert {\n",
       "      background-color: #E8F0FE;\n",
       "      border: none;\n",
       "      border-radius: 50%;\n",
       "      cursor: pointer;\n",
       "      display: none;\n",
       "      fill: #1967D2;\n",
       "      height: 32px;\n",
       "      padding: 0 0 0 0;\n",
       "      width: 32px;\n",
       "    }\n",
       "\n",
       "    .colab-df-convert:hover {\n",
       "      background-color: #E2EBFA;\n",
       "      box-shadow: 0px 1px 2px rgba(60, 64, 67, 0.3), 0px 1px 3px 1px rgba(60, 64, 67, 0.15);\n",
       "      fill: #174EA6;\n",
       "    }\n",
       "\n",
       "    .colab-df-buttons div {\n",
       "      margin-bottom: 4px;\n",
       "    }\n",
       "\n",
       "    [theme=dark] .colab-df-convert {\n",
       "      background-color: #3B4455;\n",
       "      fill: #D2E3FC;\n",
       "    }\n",
       "\n",
       "    [theme=dark] .colab-df-convert:hover {\n",
       "      background-color: #434B5C;\n",
       "      box-shadow: 0px 1px 3px 1px rgba(0, 0, 0, 0.15);\n",
       "      filter: drop-shadow(0px 1px 2px rgba(0, 0, 0, 0.3));\n",
       "      fill: #FFFFFF;\n",
       "    }\n",
       "  </style>\n",
       "\n",
       "    <script>\n",
       "      const buttonEl =\n",
       "        document.querySelector('#df-e77b5e1d-18a6-4b3e-b80a-e4052e4e1890 button.colab-df-convert');\n",
       "      buttonEl.style.display =\n",
       "        google.colab.kernel.accessAllowed ? 'block' : 'none';\n",
       "\n",
       "      async function convertToInteractive(key) {\n",
       "        const element = document.querySelector('#df-e77b5e1d-18a6-4b3e-b80a-e4052e4e1890');\n",
       "        const dataTable =\n",
       "          await google.colab.kernel.invokeFunction('convertToInteractive',\n",
       "                                                    [key], {});\n",
       "        if (!dataTable) return;\n",
       "\n",
       "        const docLinkHtml = 'Like what you see? Visit the ' +\n",
       "          '<a target=\"_blank\" href=https://colab.research.google.com/notebooks/data_table.ipynb>data table notebook</a>'\n",
       "          + ' to learn more about interactive tables.';\n",
       "        element.innerHTML = '';\n",
       "        dataTable['output_type'] = 'display_data';\n",
       "        await google.colab.output.renderOutput(dataTable, element);\n",
       "        const docLink = document.createElement('div');\n",
       "        docLink.innerHTML = docLinkHtml;\n",
       "        element.appendChild(docLink);\n",
       "      }\n",
       "    </script>\n",
       "  </div>\n",
       "\n",
       "\n",
       "<div id=\"df-10e4e07f-05bb-422f-b56a-9206da11da1a\">\n",
       "  <button class=\"colab-df-quickchart\" onclick=\"quickchart('df-10e4e07f-05bb-422f-b56a-9206da11da1a')\"\n",
       "            title=\"Suggest charts\"\n",
       "            style=\"display:none;\">\n",
       "\n",
       "<svg xmlns=\"http://www.w3.org/2000/svg\" height=\"24px\"viewBox=\"0 0 24 24\"\n",
       "     width=\"24px\">\n",
       "    <g>\n",
       "        <path d=\"M19 3H5c-1.1 0-2 .9-2 2v14c0 1.1.9 2 2 2h14c1.1 0 2-.9 2-2V5c0-1.1-.9-2-2-2zM9 17H7v-7h2v7zm4 0h-2V7h2v10zm4 0h-2v-4h2v4z\"/>\n",
       "    </g>\n",
       "</svg>\n",
       "  </button>\n",
       "\n",
       "<style>\n",
       "  .colab-df-quickchart {\n",
       "      --bg-color: #E8F0FE;\n",
       "      --fill-color: #1967D2;\n",
       "      --hover-bg-color: #E2EBFA;\n",
       "      --hover-fill-color: #174EA6;\n",
       "      --disabled-fill-color: #AAA;\n",
       "      --disabled-bg-color: #DDD;\n",
       "  }\n",
       "\n",
       "  [theme=dark] .colab-df-quickchart {\n",
       "      --bg-color: #3B4455;\n",
       "      --fill-color: #D2E3FC;\n",
       "      --hover-bg-color: #434B5C;\n",
       "      --hover-fill-color: #FFFFFF;\n",
       "      --disabled-bg-color: #3B4455;\n",
       "      --disabled-fill-color: #666;\n",
       "  }\n",
       "\n",
       "  .colab-df-quickchart {\n",
       "    background-color: var(--bg-color);\n",
       "    border: none;\n",
       "    border-radius: 50%;\n",
       "    cursor: pointer;\n",
       "    display: none;\n",
       "    fill: var(--fill-color);\n",
       "    height: 32px;\n",
       "    padding: 0;\n",
       "    width: 32px;\n",
       "  }\n",
       "\n",
       "  .colab-df-quickchart:hover {\n",
       "    background-color: var(--hover-bg-color);\n",
       "    box-shadow: 0 1px 2px rgba(60, 64, 67, 0.3), 0 1px 3px 1px rgba(60, 64, 67, 0.15);\n",
       "    fill: var(--button-hover-fill-color);\n",
       "  }\n",
       "\n",
       "  .colab-df-quickchart-complete:disabled,\n",
       "  .colab-df-quickchart-complete:disabled:hover {\n",
       "    background-color: var(--disabled-bg-color);\n",
       "    fill: var(--disabled-fill-color);\n",
       "    box-shadow: none;\n",
       "  }\n",
       "\n",
       "  .colab-df-spinner {\n",
       "    border: 2px solid var(--fill-color);\n",
       "    border-color: transparent;\n",
       "    border-bottom-color: var(--fill-color);\n",
       "    animation:\n",
       "      spin 1s steps(1) infinite;\n",
       "  }\n",
       "\n",
       "  @keyframes spin {\n",
       "    0% {\n",
       "      border-color: transparent;\n",
       "      border-bottom-color: var(--fill-color);\n",
       "      border-left-color: var(--fill-color);\n",
       "    }\n",
       "    20% {\n",
       "      border-color: transparent;\n",
       "      border-left-color: var(--fill-color);\n",
       "      border-top-color: var(--fill-color);\n",
       "    }\n",
       "    30% {\n",
       "      border-color: transparent;\n",
       "      border-left-color: var(--fill-color);\n",
       "      border-top-color: var(--fill-color);\n",
       "      border-right-color: var(--fill-color);\n",
       "    }\n",
       "    40% {\n",
       "      border-color: transparent;\n",
       "      border-right-color: var(--fill-color);\n",
       "      border-top-color: var(--fill-color);\n",
       "    }\n",
       "    60% {\n",
       "      border-color: transparent;\n",
       "      border-right-color: var(--fill-color);\n",
       "    }\n",
       "    80% {\n",
       "      border-color: transparent;\n",
       "      border-right-color: var(--fill-color);\n",
       "      border-bottom-color: var(--fill-color);\n",
       "    }\n",
       "    90% {\n",
       "      border-color: transparent;\n",
       "      border-bottom-color: var(--fill-color);\n",
       "    }\n",
       "  }\n",
       "</style>\n",
       "\n",
       "  <script>\n",
       "    async function quickchart(key) {\n",
       "      const quickchartButtonEl =\n",
       "        document.querySelector('#' + key + ' button');\n",
       "      quickchartButtonEl.disabled = true;  // To prevent multiple clicks.\n",
       "      quickchartButtonEl.classList.add('colab-df-spinner');\n",
       "      try {\n",
       "        const charts = await google.colab.kernel.invokeFunction(\n",
       "            'suggestCharts', [key], {});\n",
       "      } catch (error) {\n",
       "        console.error('Error during call to suggestCharts:', error);\n",
       "      }\n",
       "      quickchartButtonEl.classList.remove('colab-df-spinner');\n",
       "      quickchartButtonEl.classList.add('colab-df-quickchart-complete');\n",
       "    }\n",
       "    (() => {\n",
       "      let quickchartButtonEl =\n",
       "        document.querySelector('#df-10e4e07f-05bb-422f-b56a-9206da11da1a button');\n",
       "      quickchartButtonEl.style.display =\n",
       "        google.colab.kernel.accessAllowed ? 'block' : 'none';\n",
       "    })();\n",
       "  </script>\n",
       "</div>\n",
       "\n",
       "  <div id=\"id_affd9b5a-e1c8-477a-87be-2e3443e4d67c\">\n",
       "    <style>\n",
       "      .colab-df-generate {\n",
       "        background-color: #E8F0FE;\n",
       "        border: none;\n",
       "        border-radius: 50%;\n",
       "        cursor: pointer;\n",
       "        display: none;\n",
       "        fill: #1967D2;\n",
       "        height: 32px;\n",
       "        padding: 0 0 0 0;\n",
       "        width: 32px;\n",
       "      }\n",
       "\n",
       "      .colab-df-generate:hover {\n",
       "        background-color: #E2EBFA;\n",
       "        box-shadow: 0px 1px 2px rgba(60, 64, 67, 0.3), 0px 1px 3px 1px rgba(60, 64, 67, 0.15);\n",
       "        fill: #174EA6;\n",
       "      }\n",
       "\n",
       "      [theme=dark] .colab-df-generate {\n",
       "        background-color: #3B4455;\n",
       "        fill: #D2E3FC;\n",
       "      }\n",
       "\n",
       "      [theme=dark] .colab-df-generate:hover {\n",
       "        background-color: #434B5C;\n",
       "        box-shadow: 0px 1px 3px 1px rgba(0, 0, 0, 0.15);\n",
       "        filter: drop-shadow(0px 1px 2px rgba(0, 0, 0, 0.3));\n",
       "        fill: #FFFFFF;\n",
       "      }\n",
       "    </style>\n",
       "    <button class=\"colab-df-generate\" onclick=\"generateWithVariable('canciones')\"\n",
       "            title=\"Generate code using this dataframe.\"\n",
       "            style=\"display:none;\">\n",
       "\n",
       "  <svg xmlns=\"http://www.w3.org/2000/svg\" height=\"24px\"viewBox=\"0 0 24 24\"\n",
       "       width=\"24px\">\n",
       "    <path d=\"M7,19H8.4L18.45,9,17,7.55,7,17.6ZM5,21V16.75L18.45,3.32a2,2,0,0,1,2.83,0l1.4,1.43a1.91,1.91,0,0,1,.58,1.4,1.91,1.91,0,0,1-.58,1.4L9.25,21ZM18.45,9,17,7.55Zm-12,3A5.31,5.31,0,0,0,4.9,8.1,5.31,5.31,0,0,0,1,6.5,5.31,5.31,0,0,0,4.9,4.9,5.31,5.31,0,0,0,6.5,1,5.31,5.31,0,0,0,8.1,4.9,5.31,5.31,0,0,0,12,6.5,5.46,5.46,0,0,0,6.5,12Z\"/>\n",
       "  </svg>\n",
       "    </button>\n",
       "    <script>\n",
       "      (() => {\n",
       "      const buttonEl =\n",
       "        document.querySelector('#id_affd9b5a-e1c8-477a-87be-2e3443e4d67c button.colab-df-generate');\n",
       "      buttonEl.style.display =\n",
       "        google.colab.kernel.accessAllowed ? 'block' : 'none';\n",
       "\n",
       "      buttonEl.onclick = () => {\n",
       "        google.colab.notebook.generateWithVariable('canciones');\n",
       "      }\n",
       "      })();\n",
       "    </script>\n",
       "  </div>\n",
       "\n",
       "    </div>\n",
       "  </div>\n"
      ],
      "text/plain": [
       "       song_id    filename          filepath  genre_id                genre\n",
       "0        10150  010150.ogg  train/010150.ogg         7         Instrumental\n",
       "1         7358  007358.ogg  train/007358.ogg         2                 Punk\n",
       "2        20573  020573.ogg  train/020573.ogg         5                 Folk\n",
       "3        11170  011170.ogg  train/011170.ogg        12  Old-Time / Historic\n",
       "4        16662  016662.ogg  train/016662.ogg         1                 Rock\n",
       "...        ...         ...               ...       ...                  ...\n",
       "19917     9337  009337.ogg  train/009337.ogg         0           Electronic\n",
       "19918     8340  008340.ogg  train/008340.ogg         4              Hip-Hop\n",
       "19919    16248  016248.ogg  train/016248.ogg         4              Hip-Hop\n",
       "19920    11875  011875.ogg  train/011875.ogg         2                 Punk\n",
       "19921     6579  006579.ogg  train/006579.ogg         1                 Rock\n",
       "\n",
       "[19922 rows x 5 columns]"
      ]
     },
     "execution_count": 5,
     "metadata": {},
     "output_type": "execute_result"
    }
   ],
   "source": [
    "canciones"
   ]
  },
  {
   "cell_type": "code",
   "execution_count": null,
   "metadata": {
    "id": "KtsNic_z8uSj"
   },
   "outputs": [],
   "source": [
    "# Se sustituye el .ogg por .wav\n",
    "\n",
    "canciones[\"filepath\"] = canciones[\"filepath\"].str.replace(\".ogg\", \".wav\")"
   ]
  },
  {
   "cell_type": "code",
   "execution_count": null,
   "metadata": {
    "id": "XDyaLHJf_Cnu"
   },
   "outputs": [],
   "source": [
    "# Se cambia el file path para que coincida con la estructura de carpetas\n",
    "\n",
    "canciones[\"filepath\"] = canciones.apply(lambda row: row[\"filepath\"].replace(\"train\", str(row[\"genre_id\"])), axis=1)"
   ]
  },
  {
   "cell_type": "code",
   "execution_count": null,
   "metadata": {
    "id": "Na492bNS-9C3"
   },
   "outputs": [],
   "source": [
    "# Se eliminan los 0 entre / y el primer numero para que coincida exactamente con la estructura de carpetas\n",
    "\n",
    "canciones[\"filepath\"] = canciones[\"filepath\"].apply(lambda x: re.sub(r\"/0+\", \"/\", x))"
   ]
  },
  {
   "cell_type": "code",
   "execution_count": null,
   "metadata": {
    "colab": {
     "base_uri": "https://localhost:8080/",
     "height": 81
    },
    "executionInfo": {
     "elapsed": 72,
     "status": "ok",
     "timestamp": 1738916715955,
     "user": {
      "displayName": "Lucas Herranz",
      "userId": "14898979084021370855"
     },
     "user_tz": -60
    },
    "id": "0zDA2bD_ATgN",
    "outputId": "c0f8ad89-7cd4-4ecb-ba31-5be6a65b6132"
   },
   "outputs": [
    {
     "data": {
      "application/vnd.google.colaboratory.intrinsic+json": {
       "summary": "{\n  \"name\": \"canciones[canciones[\\\"filepath\\\"] == \\\"0/\",\n  \"rows\": 1,\n  \"fields\": [\n    {\n      \"column\": \"song_id\",\n      \"properties\": {\n        \"dtype\": \"number\",\n        \"std\": null,\n        \"min\": 0,\n        \"max\": 0,\n        \"num_unique_values\": 1,\n        \"samples\": [\n          0\n        ],\n        \"semantic_type\": \"\",\n        \"description\": \"\"\n      }\n    },\n    {\n      \"column\": \"filename\",\n      \"properties\": {\n        \"dtype\": \"string\",\n        \"num_unique_values\": 1,\n        \"samples\": [\n          \"000000.ogg\"\n        ],\n        \"semantic_type\": \"\",\n        \"description\": \"\"\n      }\n    },\n    {\n      \"column\": \"filepath\",\n      \"properties\": {\n        \"dtype\": \"string\",\n        \"num_unique_values\": 1,\n        \"samples\": [\n          \"0/.wav\"\n        ],\n        \"semantic_type\": \"\",\n        \"description\": \"\"\n      }\n    },\n    {\n      \"column\": \"genre_id\",\n      \"properties\": {\n        \"dtype\": \"number\",\n        \"std\": null,\n        \"min\": 0,\n        \"max\": 0,\n        \"num_unique_values\": 1,\n        \"samples\": [\n          0\n        ],\n        \"semantic_type\": \"\",\n        \"description\": \"\"\n      }\n    },\n    {\n      \"column\": \"genre\",\n      \"properties\": {\n        \"dtype\": \"string\",\n        \"num_unique_values\": 1,\n        \"samples\": [\n          \"Electronic\"\n        ],\n        \"semantic_type\": \"\",\n        \"description\": \"\"\n      }\n    }\n  ]\n}",
       "type": "dataframe"
      },
      "text/html": [
       "\n",
       "  <div id=\"df-4317b4a8-870a-4304-97e0-b4d31816e39c\" class=\"colab-df-container\">\n",
       "    <div>\n",
       "<style scoped>\n",
       "    .dataframe tbody tr th:only-of-type {\n",
       "        vertical-align: middle;\n",
       "    }\n",
       "\n",
       "    .dataframe tbody tr th {\n",
       "        vertical-align: top;\n",
       "    }\n",
       "\n",
       "    .dataframe thead th {\n",
       "        text-align: right;\n",
       "    }\n",
       "</style>\n",
       "<table border=\"1\" class=\"dataframe\">\n",
       "  <thead>\n",
       "    <tr style=\"text-align: right;\">\n",
       "      <th></th>\n",
       "      <th>song_id</th>\n",
       "      <th>filename</th>\n",
       "      <th>filepath</th>\n",
       "      <th>genre_id</th>\n",
       "      <th>genre</th>\n",
       "    </tr>\n",
       "  </thead>\n",
       "  <tbody>\n",
       "    <tr>\n",
       "      <th>16360</th>\n",
       "      <td>0</td>\n",
       "      <td>000000.ogg</td>\n",
       "      <td>0/.wav</td>\n",
       "      <td>0</td>\n",
       "      <td>Electronic</td>\n",
       "    </tr>\n",
       "  </tbody>\n",
       "</table>\n",
       "</div>\n",
       "    <div class=\"colab-df-buttons\">\n",
       "\n",
       "  <div class=\"colab-df-container\">\n",
       "    <button class=\"colab-df-convert\" onclick=\"convertToInteractive('df-4317b4a8-870a-4304-97e0-b4d31816e39c')\"\n",
       "            title=\"Convert this dataframe to an interactive table.\"\n",
       "            style=\"display:none;\">\n",
       "\n",
       "  <svg xmlns=\"http://www.w3.org/2000/svg\" height=\"24px\" viewBox=\"0 -960 960 960\">\n",
       "    <path d=\"M120-120v-720h720v720H120Zm60-500h600v-160H180v160Zm220 220h160v-160H400v160Zm0 220h160v-160H400v160ZM180-400h160v-160H180v160Zm440 0h160v-160H620v160ZM180-180h160v-160H180v160Zm440 0h160v-160H620v160Z\"/>\n",
       "  </svg>\n",
       "    </button>\n",
       "\n",
       "  <style>\n",
       "    .colab-df-container {\n",
       "      display:flex;\n",
       "      gap: 12px;\n",
       "    }\n",
       "\n",
       "    .colab-df-convert {\n",
       "      background-color: #E8F0FE;\n",
       "      border: none;\n",
       "      border-radius: 50%;\n",
       "      cursor: pointer;\n",
       "      display: none;\n",
       "      fill: #1967D2;\n",
       "      height: 32px;\n",
       "      padding: 0 0 0 0;\n",
       "      width: 32px;\n",
       "    }\n",
       "\n",
       "    .colab-df-convert:hover {\n",
       "      background-color: #E2EBFA;\n",
       "      box-shadow: 0px 1px 2px rgba(60, 64, 67, 0.3), 0px 1px 3px 1px rgba(60, 64, 67, 0.15);\n",
       "      fill: #174EA6;\n",
       "    }\n",
       "\n",
       "    .colab-df-buttons div {\n",
       "      margin-bottom: 4px;\n",
       "    }\n",
       "\n",
       "    [theme=dark] .colab-df-convert {\n",
       "      background-color: #3B4455;\n",
       "      fill: #D2E3FC;\n",
       "    }\n",
       "\n",
       "    [theme=dark] .colab-df-convert:hover {\n",
       "      background-color: #434B5C;\n",
       "      box-shadow: 0px 1px 3px 1px rgba(0, 0, 0, 0.15);\n",
       "      filter: drop-shadow(0px 1px 2px rgba(0, 0, 0, 0.3));\n",
       "      fill: #FFFFFF;\n",
       "    }\n",
       "  </style>\n",
       "\n",
       "    <script>\n",
       "      const buttonEl =\n",
       "        document.querySelector('#df-4317b4a8-870a-4304-97e0-b4d31816e39c button.colab-df-convert');\n",
       "      buttonEl.style.display =\n",
       "        google.colab.kernel.accessAllowed ? 'block' : 'none';\n",
       "\n",
       "      async function convertToInteractive(key) {\n",
       "        const element = document.querySelector('#df-4317b4a8-870a-4304-97e0-b4d31816e39c');\n",
       "        const dataTable =\n",
       "          await google.colab.kernel.invokeFunction('convertToInteractive',\n",
       "                                                    [key], {});\n",
       "        if (!dataTable) return;\n",
       "\n",
       "        const docLinkHtml = 'Like what you see? Visit the ' +\n",
       "          '<a target=\"_blank\" href=https://colab.research.google.com/notebooks/data_table.ipynb>data table notebook</a>'\n",
       "          + ' to learn more about interactive tables.';\n",
       "        element.innerHTML = '';\n",
       "        dataTable['output_type'] = 'display_data';\n",
       "        await google.colab.output.renderOutput(dataTable, element);\n",
       "        const docLink = document.createElement('div');\n",
       "        docLink.innerHTML = docLinkHtml;\n",
       "        element.appendChild(docLink);\n",
       "      }\n",
       "    </script>\n",
       "  </div>\n",
       "\n",
       "\n",
       "    </div>\n",
       "  </div>\n"
      ],
      "text/plain": [
       "       song_id    filename filepath  genre_id       genre\n",
       "16360        0  000000.ogg   0/.wav         0  Electronic"
      ]
     },
     "execution_count": 9,
     "metadata": {},
     "output_type": "execute_result"
    }
   ],
   "source": [
    "canciones[canciones[\"filepath\"] == \"0/.wav\"]"
   ]
  },
  {
   "cell_type": "code",
   "execution_count": null,
   "metadata": {
    "colab": {
     "base_uri": "https://localhost:8080/"
    },
    "executionInfo": {
     "elapsed": 48,
     "status": "ok",
     "timestamp": 1738916718162,
     "user": {
      "displayName": "Lucas Herranz",
      "userId": "14898979084021370855"
     },
     "user_tz": -60
    },
    "id": "-tbmPwAYA6It",
    "outputId": "c0dab518-d399-47fe-d53b-6595f3af1508"
   },
   "outputs": [
    {
     "data": {
      "text/plain": [
       "array([0, '000000.ogg', '0/.wav', 0, 'Electronic'], dtype=object)"
      ]
     },
     "execution_count": 10,
     "metadata": {},
     "output_type": "execute_result"
    }
   ],
   "source": [
    "canciones.iloc[16360].values"
   ]
  },
  {
   "cell_type": "code",
   "execution_count": null,
   "metadata": {
    "id": "jH04WMC7Allj"
   },
   "outputs": [],
   "source": [
    "canciones.loc[16360] = [0, '000000.ogg', '0/0.wav', 0, 'Electronic']"
   ]
  },
  {
   "cell_type": "code",
   "execution_count": null,
   "metadata": {
    "colab": {
     "base_uri": "https://localhost:8080/",
     "height": 91
    },
    "executionInfo": {
     "elapsed": 27,
     "status": "ok",
     "timestamp": 1738916721094,
     "user": {
      "displayName": "Lucas Herranz",
      "userId": "14898979084021370855"
     },
     "user_tz": -60
    },
    "id": "rJz3LtIeAyGj",
    "outputId": "7f4b2ac2-0c4b-4101-e738-882aac38ee3c"
   },
   "outputs": [
    {
     "name": "stderr",
     "output_type": "stream",
     "text": [
      "<ipython-input-12-d08fa6457e6e>:1: FutureWarning: Series.__getitem__ treating keys as positions is deprecated. In a future version, integer keys will always be treated as labels (consistent with DataFrame behavior). To access a value by position, use `ser.iloc[pos]`\n",
      "  canciones.loc[16360][2]\n"
     ]
    },
    {
     "data": {
      "application/vnd.google.colaboratory.intrinsic+json": {
       "type": "string"
      },
      "text/plain": [
       "'0/0.wav'"
      ]
     },
     "execution_count": 12,
     "metadata": {},
     "output_type": "execute_result"
    }
   ],
   "source": [
    "canciones.loc[16360][2]"
   ]
  },
  {
   "cell_type": "code",
   "execution_count": null,
   "metadata": {
    "id": "JLB4i5KYAxC1"
   },
   "outputs": [],
   "source": [
    "AUDIO_BASE_PATH = \"/content/drive/MyDrive/Bootcamp_DS/ML/TRAIN_V2/data_out_2/\""
   ]
  },
  {
   "cell_type": "code",
   "execution_count": null,
   "metadata": {
    "colab": {
     "base_uri": "https://localhost:8080/"
    },
    "executionInfo": {
     "elapsed": 214026,
     "status": "ok",
     "timestamp": 1738786416579,
     "user": {
      "displayName": "Lucas Herranz",
      "userId": "14898979084021370855"
     },
     "user_tz": -60
    },
    "id": "GoxuvsXcAnon",
    "outputId": "a34a5238-e231-43ee-d19d-cdb77609f869"
   },
   "outputs": [
    {
     "name": "stderr",
     "output_type": "stream",
     "text": [
      "  7%|▋         | 1359/19922 [08:38<1:55:25,  2.68it/s]<ipython-input-7-3e42b1a4357d>:4: UserWarning: PySoundFile failed. Trying audioread instead.\n",
      "  y, sr = librosa.load(file_path, sr=None)\n",
      "/usr/local/lib/python3.11/dist-packages/librosa/core/audio.py:184: FutureWarning: librosa.core.audio.__audioread_load\n",
      "\tDeprecated as of librosa version 0.10.0.\n",
      "\tIt will be removed in librosa version 1.0.\n",
      "  y, sr_native = __audioread_load(path, offset, duration, dtype)\n"
     ]
    },
    {
     "name": "stdout",
     "output_type": "stream",
     "text": [
      "Error procesando /content/drive/MyDrive/Bootcamp_DS/ML/TRAIN_V2/data_out_2/1/3137.wav: [Errno 2] No such file or directory: '/content/drive/MyDrive/Bootcamp_DS/ML/TRAIN_V2/data_out_2/1/3137.wav'\n"
     ]
    },
    {
     "name": "stderr",
     "output_type": "stream",
     "text": [
      " 23%|██▎       | 4668/19922 [28:20<1:25:26,  2.98it/s]"
     ]
    },
    {
     "name": "stdout",
     "output_type": "stream",
     "text": [
      "Error procesando /content/drive/MyDrive/Bootcamp_DS/ML/TRAIN_V2/data_out_2/2/11088.wav: [Errno 2] No such file or directory: '/content/drive/MyDrive/Bootcamp_DS/ML/TRAIN_V2/data_out_2/2/11088.wav'\n"
     ]
    },
    {
     "name": "stderr",
     "output_type": "stream",
     "text": [
      " 26%|██▌       | 5150/19922 [31:15<1:32:18,  2.67it/s]"
     ]
    },
    {
     "name": "stdout",
     "output_type": "stream",
     "text": [
      "Error procesando /content/drive/MyDrive/Bootcamp_DS/ML/TRAIN_V2/data_out_2/7/16312.wav: [Errno 2] No such file or directory: '/content/drive/MyDrive/Bootcamp_DS/ML/TRAIN_V2/data_out_2/7/16312.wav'\n"
     ]
    },
    {
     "name": "stderr",
     "output_type": "stream",
     "text": [
      " 44%|████▍     | 8764/19922 [53:55<1:02:17,  2.99it/s]"
     ]
    },
    {
     "name": "stdout",
     "output_type": "stream",
     "text": [
      "Error procesando /content/drive/MyDrive/Bootcamp_DS/ML/TRAIN_V2/data_out_2/0/24899.wav: [Errno 2] No such file or directory: '/content/drive/MyDrive/Bootcamp_DS/ML/TRAIN_V2/data_out_2/0/24899.wav'\n"
     ]
    },
    {
     "name": "stderr",
     "output_type": "stream",
     "text": [
      " 51%|█████     | 10155/19922 [1:02:02<52:41,  3.09it/s]"
     ]
    },
    {
     "name": "stdout",
     "output_type": "stream",
     "text": [
      "Error procesando /content/drive/MyDrive/Bootcamp_DS/ML/TRAIN_V2/data_out_2/4/4040.wav: [Errno 2] No such file or directory: '/content/drive/MyDrive/Bootcamp_DS/ML/TRAIN_V2/data_out_2/4/4040.wav'\n"
     ]
    },
    {
     "name": "stderr",
     "output_type": "stream",
     "text": [
      " 55%|█████▍    | 10873/19922 [1:06:11<48:35,  3.10it/s]"
     ]
    },
    {
     "name": "stdout",
     "output_type": "stream",
     "text": [
      "Error procesando /content/drive/MyDrive/Bootcamp_DS/ML/TRAIN_V2/data_out_2/3/9963.wav: [Errno 2] No such file or directory: '/content/drive/MyDrive/Bootcamp_DS/ML/TRAIN_V2/data_out_2/3/9963.wav'\n"
     ]
    },
    {
     "name": "stderr",
     "output_type": "stream",
     "text": [
      " 57%|█████▋    | 11386/19922 [1:09:12<47:01,  3.03it/s]"
     ]
    },
    {
     "name": "stdout",
     "output_type": "stream",
     "text": [
      "Error procesando /content/drive/MyDrive/Bootcamp_DS/ML/TRAIN_V2/data_out_2/4/15980.wav: [Errno 2] No such file or directory: '/content/drive/MyDrive/Bootcamp_DS/ML/TRAIN_V2/data_out_2/4/15980.wav'\n"
     ]
    },
    {
     "name": "stderr",
     "output_type": "stream",
     "text": [
      " 58%|█████▊    | 11497/19922 [1:09:51<48:50,  2.87it/s]"
     ]
    },
    {
     "name": "stdout",
     "output_type": "stream",
     "text": [
      "Error procesando /content/drive/MyDrive/Bootcamp_DS/ML/TRAIN_V2/data_out_2/4/22698.wav: [Errno 2] No such file or directory: '/content/drive/MyDrive/Bootcamp_DS/ML/TRAIN_V2/data_out_2/4/22698.wav'\n"
     ]
    },
    {
     "name": "stderr",
     "output_type": "stream",
     "text": [
      " 72%|███████▏  | 14377/19922 [1:26:45<32:27,  2.85it/s]"
     ]
    },
    {
     "name": "stdout",
     "output_type": "stream",
     "text": [
      "Error procesando /content/drive/MyDrive/Bootcamp_DS/ML/TRAIN_V2/data_out_2/5/23078.wav: [Errno 2] No such file or directory: '/content/drive/MyDrive/Bootcamp_DS/ML/TRAIN_V2/data_out_2/5/23078.wav'\n"
     ]
    },
    {
     "name": "stderr",
     "output_type": "stream",
     "text": [
      " 74%|███████▍  | 14827/19922 [1:29:27<27:13,  3.12it/s]"
     ]
    },
    {
     "name": "stdout",
     "output_type": "stream",
     "text": [
      "Error procesando /content/drive/MyDrive/Bootcamp_DS/ML/TRAIN_V2/data_out_2/0/17940.wav: [Errno 2] No such file or directory: '/content/drive/MyDrive/Bootcamp_DS/ML/TRAIN_V2/data_out_2/0/17940.wav'\n"
     ]
    },
    {
     "name": "stderr",
     "output_type": "stream",
     "text": [
      " 76%|███████▌  | 15145/19922 [1:31:19<28:05,  2.83it/s]"
     ]
    },
    {
     "name": "stdout",
     "output_type": "stream",
     "text": [
      "Error procesando /content/drive/MyDrive/Bootcamp_DS/ML/TRAIN_V2/data_out_2/1/22295.wav: [Errno 2] No such file or directory: '/content/drive/MyDrive/Bootcamp_DS/ML/TRAIN_V2/data_out_2/1/22295.wav'\n"
     ]
    },
    {
     "name": "stderr",
     "output_type": "stream",
     "text": [
      " 82%|████████▏ | 16360/19922 [1:38:28<21:14,  2.79it/s]"
     ]
    },
    {
     "name": "stdout",
     "output_type": "stream",
     "text": [
      "Error procesando /content/drive/MyDrive/Bootcamp_DS/ML/TRAIN_V2/data_out_2/0/.wav: [Errno 2] No such file or directory: '/content/drive/MyDrive/Bootcamp_DS/ML/TRAIN_V2/data_out_2/0/.wav'\n"
     ]
    },
    {
     "name": "stderr",
     "output_type": "stream",
     "text": [
      " 93%|█████████▎| 18537/19922 [1:51:23<07:20,  3.14it/s]"
     ]
    },
    {
     "name": "stdout",
     "output_type": "stream",
     "text": [
      "Error procesando /content/drive/MyDrive/Bootcamp_DS/ML/TRAIN_V2/data_out_2/2/3071.wav: [Errno 2] No such file or directory: '/content/drive/MyDrive/Bootcamp_DS/ML/TRAIN_V2/data_out_2/2/3071.wav'\n"
     ]
    },
    {
     "name": "stderr",
     "output_type": "stream",
     "text": [
      " 94%|█████████▍| 18796/19922 [1:52:53<06:09,  3.05it/s]"
     ]
    },
    {
     "name": "stdout",
     "output_type": "stream",
     "text": [
      "Error procesando /content/drive/MyDrive/Bootcamp_DS/ML/TRAIN_V2/data_out_2/4/13954.wav: [Errno 2] No such file or directory: '/content/drive/MyDrive/Bootcamp_DS/ML/TRAIN_V2/data_out_2/4/13954.wav'\n"
     ]
    },
    {
     "name": "stderr",
     "output_type": "stream",
     "text": [
      "100%|██████████| 19922/19922 [2:00:47<00:00,  2.75it/s]\n"
     ]
    }
   ],
   "source": [
    "mfcc_features = []\n",
    "for _, row in tqdm(canciones.iterrows(), total=len(canciones)):\n",
    "    file_path = os.path.join(AUDIO_BASE_PATH, row[\"filepath\"])\n",
    "    mfcc = extract_mfcc(file_path)\n",
    "    mfcc_features.append(mfcc)"
   ]
  },
  {
   "cell_type": "code",
   "execution_count": null,
   "metadata": {
    "colab": {
     "base_uri": "https://localhost:8080/"
    },
    "executionInfo": {
     "elapsed": 1249,
     "status": "ok",
     "timestamp": 1738786541947,
     "user": {
      "displayName": "Lucas Herranz",
      "userId": "14898979084021370855"
     },
     "user_tz": -60
    },
    "id": "Odl5u3RMUdmj",
    "outputId": "2f3ae500-cc6d-4e34-f76c-4ad0ae673c6d"
   },
   "outputs": [
    {
     "name": "stdout",
     "output_type": "stream",
     "text": [
      "¡Procesamiento de MFCC completado y guardado!\n"
     ]
    }
   ],
   "source": [
    "mfcc_df = pd.DataFrame(mfcc_features, columns=[f\"MFCC_{i+1}\" for i in range(20)])\n",
    "\n",
    "# Concatenar con el dataset original\n",
    "canciones = pd.concat([canciones, mfcc_df], axis=1)\n",
    "\n",
    "# Guardar el nuevo dataset con MFCCs en CSV\n",
    "canciones.to_csv(\"../data/train_with_mfcc.csv\", index=False)\n",
    "\n",
    "# También guardarlo como un archivo .npy más eficiente\n",
    "np.save(\"/data/IAtrain_mfcc.npy\", mfcc_df.to_numpy())\n",
    "\n",
    "print(\"¡Procesamiento de MFCC completado y guardado!\")"
   ]
  },
  {
   "cell_type": "code",
   "execution_count": null,
   "metadata": {
    "colab": {
     "base_uri": "https://localhost:8080/"
    },
    "executionInfo": {
     "elapsed": 12389077,
     "status": "ok",
     "timestamp": 1738929156567,
     "user": {
      "displayName": "Lucas Herranz",
      "userId": "14898979084021370855"
     },
     "user_tz": -60
    },
    "id": "yYMYFdvBBf9g",
    "outputId": "5741932f-d92d-4d87-f7db-8d424d26c5ff"
   },
   "outputs": [
    {
     "name": "stderr",
     "output_type": "stream",
     "text": [
      "  4%|▍         | 749/19922 [08:37<3:11:42,  1.67it/s]/usr/local/lib/python3.11/dist-packages/librosa/core/pitch.py:101: UserWarning: Trying to estimate tuning from empty frequency set.\n",
      "  return pitch_tuning(\n",
      "  7%|▋         | 1359/19922 [14:57<3:05:05,  1.67it/s]<ipython-input-2-04a30c4ef63d>:3: UserWarning: PySoundFile failed. Trying audioread instead.\n",
      "  y, sr = librosa.load(file_path, sr=None)\n",
      "/usr/local/lib/python3.11/dist-packages/librosa/core/audio.py:184: FutureWarning: librosa.core.audio.__audioread_load\n",
      "\tDeprecated as of librosa version 0.10.0.\n",
      "\tIt will be removed in librosa version 1.0.\n",
      "  y, sr_native = __audioread_load(path, offset, duration, dtype)\n"
     ]
    },
    {
     "name": "stdout",
     "output_type": "stream",
     "text": [
      "Error procesando /content/drive/MyDrive/Bootcamp_DS/ML/TRAIN_V2/data_out_2/1/3137.wav: [Errno 2] No such file or directory: '/content/drive/MyDrive/Bootcamp_DS/ML/TRAIN_V2/data_out_2/1/3137.wav'\n"
     ]
    },
    {
     "name": "stderr",
     "output_type": "stream",
     "text": [
      " 23%|██▎       | 4668/19922 [49:17<2:25:20,  1.75it/s]"
     ]
    },
    {
     "name": "stdout",
     "output_type": "stream",
     "text": [
      "Error procesando /content/drive/MyDrive/Bootcamp_DS/ML/TRAIN_V2/data_out_2/2/11088.wav: [Errno 2] No such file or directory: '/content/drive/MyDrive/Bootcamp_DS/ML/TRAIN_V2/data_out_2/2/11088.wav'\n"
     ]
    },
    {
     "name": "stderr",
     "output_type": "stream",
     "text": [
      " 26%|██▌       | 5150/19922 [54:16<2:51:49,  1.43it/s]"
     ]
    },
    {
     "name": "stdout",
     "output_type": "stream",
     "text": [
      "Error procesando /content/drive/MyDrive/Bootcamp_DS/ML/TRAIN_V2/data_out_2/7/16312.wav: [Errno 2] No such file or directory: '/content/drive/MyDrive/Bootcamp_DS/ML/TRAIN_V2/data_out_2/7/16312.wav'\n"
     ]
    },
    {
     "name": "stderr",
     "output_type": "stream",
     "text": [
      " 44%|████▍     | 8764/19922 [1:31:31<1:49:02,  1.71it/s]"
     ]
    },
    {
     "name": "stdout",
     "output_type": "stream",
     "text": [
      "Error procesando /content/drive/MyDrive/Bootcamp_DS/ML/TRAIN_V2/data_out_2/0/24899.wav: [Errno 2] No such file or directory: '/content/drive/MyDrive/Bootcamp_DS/ML/TRAIN_V2/data_out_2/0/24899.wav'\n"
     ]
    },
    {
     "name": "stderr",
     "output_type": "stream",
     "text": [
      " 51%|█████     | 10155/19922 [1:45:53<1:49:53,  1.48it/s]"
     ]
    },
    {
     "name": "stdout",
     "output_type": "stream",
     "text": [
      "Error procesando /content/drive/MyDrive/Bootcamp_DS/ML/TRAIN_V2/data_out_2/4/4040.wav: [Errno 2] No such file or directory: '/content/drive/MyDrive/Bootcamp_DS/ML/TRAIN_V2/data_out_2/4/4040.wav'\n"
     ]
    },
    {
     "name": "stderr",
     "output_type": "stream",
     "text": [
      " 55%|█████▍    | 10873/19922 [1:53:16<1:40:01,  1.51it/s]"
     ]
    },
    {
     "name": "stdout",
     "output_type": "stream",
     "text": [
      "Error procesando /content/drive/MyDrive/Bootcamp_DS/ML/TRAIN_V2/data_out_2/3/9963.wav: [Errno 2] No such file or directory: '/content/drive/MyDrive/Bootcamp_DS/ML/TRAIN_V2/data_out_2/3/9963.wav'\n"
     ]
    },
    {
     "name": "stderr",
     "output_type": "stream",
     "text": [
      " 57%|█████▋    | 11386/19922 [1:58:34<1:25:02,  1.67it/s]"
     ]
    },
    {
     "name": "stdout",
     "output_type": "stream",
     "text": [
      "Error procesando /content/drive/MyDrive/Bootcamp_DS/ML/TRAIN_V2/data_out_2/4/15980.wav: [Errno 2] No such file or directory: '/content/drive/MyDrive/Bootcamp_DS/ML/TRAIN_V2/data_out_2/4/15980.wav'\n"
     ]
    },
    {
     "name": "stderr",
     "output_type": "stream",
     "text": [
      " 58%|█████▊    | 11497/19922 [1:59:44<1:23:18,  1.69it/s]"
     ]
    },
    {
     "name": "stdout",
     "output_type": "stream",
     "text": [
      "Error procesando /content/drive/MyDrive/Bootcamp_DS/ML/TRAIN_V2/data_out_2/4/22698.wav: [Errno 2] No such file or directory: '/content/drive/MyDrive/Bootcamp_DS/ML/TRAIN_V2/data_out_2/4/22698.wav'\n"
     ]
    },
    {
     "name": "stderr",
     "output_type": "stream",
     "text": [
      " 72%|███████▏  | 14377/19922 [2:29:10<52:22,  1.76it/s]"
     ]
    },
    {
     "name": "stdout",
     "output_type": "stream",
     "text": [
      "Error procesando /content/drive/MyDrive/Bootcamp_DS/ML/TRAIN_V2/data_out_2/5/23078.wav: [Errno 2] No such file or directory: '/content/drive/MyDrive/Bootcamp_DS/ML/TRAIN_V2/data_out_2/5/23078.wav'\n"
     ]
    },
    {
     "name": "stderr",
     "output_type": "stream",
     "text": [
      " 74%|███████▍  | 14827/19922 [2:33:47<54:05,  1.57it/s]"
     ]
    },
    {
     "name": "stdout",
     "output_type": "stream",
     "text": [
      "Error procesando /content/drive/MyDrive/Bootcamp_DS/ML/TRAIN_V2/data_out_2/0/17940.wav: [Errno 2] No such file or directory: '/content/drive/MyDrive/Bootcamp_DS/ML/TRAIN_V2/data_out_2/0/17940.wav'\n"
     ]
    },
    {
     "name": "stderr",
     "output_type": "stream",
     "text": [
      " 76%|███████▌  | 15145/19922 [2:37:05<45:06,  1.77it/s]"
     ]
    },
    {
     "name": "stdout",
     "output_type": "stream",
     "text": [
      "Error procesando /content/drive/MyDrive/Bootcamp_DS/ML/TRAIN_V2/data_out_2/1/22295.wav: [Errno 2] No such file or directory: '/content/drive/MyDrive/Bootcamp_DS/ML/TRAIN_V2/data_out_2/1/22295.wav'\n"
     ]
    },
    {
     "name": "stderr",
     "output_type": "stream",
     "text": [
      " 93%|█████████▎| 18537/19922 [3:12:07<13:10,  1.75it/s]"
     ]
    },
    {
     "name": "stdout",
     "output_type": "stream",
     "text": [
      "Error procesando /content/drive/MyDrive/Bootcamp_DS/ML/TRAIN_V2/data_out_2/2/3071.wav: [Errno 2] No such file or directory: '/content/drive/MyDrive/Bootcamp_DS/ML/TRAIN_V2/data_out_2/2/3071.wav'\n"
     ]
    },
    {
     "name": "stderr",
     "output_type": "stream",
     "text": [
      " 94%|█████████▍| 18796/19922 [3:14:49<10:58,  1.71it/s]"
     ]
    },
    {
     "name": "stdout",
     "output_type": "stream",
     "text": [
      "Error procesando /content/drive/MyDrive/Bootcamp_DS/ML/TRAIN_V2/data_out_2/4/13954.wav: [Errno 2] No such file or directory: '/content/drive/MyDrive/Bootcamp_DS/ML/TRAIN_V2/data_out_2/4/13954.wav'\n"
     ]
    },
    {
     "name": "stderr",
     "output_type": "stream",
     "text": [
      "100%|██████████| 19922/19922 [3:26:28<00:00,  1.61it/s]"
     ]
    },
    {
     "name": "stdout",
     "output_type": "stream",
     "text": [
      "Procesamiento de features completado\n"
     ]
    },
    {
     "name": "stderr",
     "output_type": "stream",
     "text": [
      "\n"
     ]
    }
   ],
   "source": [
    "features = []\n",
    "for _, row in tqdm(canciones.iterrows(), total=len(canciones)):\n",
    "    file_path = os.path.join(AUDIO_BASE_PATH, row[\"filepath\"])\n",
    "    audio_features = extract_audio_features(file_path)\n",
    "    features.append(audio_features)\n",
    "\n",
    "print(\"Procesamiento de features completado\")"
   ]
  },
  {
   "cell_type": "code",
   "execution_count": null,
   "metadata": {
    "id": "LgCIWzMcBuSW"
   },
   "outputs": [],
   "source": [
    "df_canciones = pd.read_csv('../data/train_with_mfcc.csv')"
   ]
  },
  {
   "cell_type": "code",
   "execution_count": null,
   "metadata": {
    "colab": {
     "base_uri": "https://localhost:8080/"
    },
    "executionInfo": {
     "elapsed": 2996,
     "status": "ok",
     "timestamp": 1738929179498,
     "user": {
      "displayName": "Lucas Herranz",
      "userId": "14898979084021370855"
     },
     "user_tz": -60
    },
    "id": "BsO-QELiBhxb",
    "outputId": "c85615bf-3772-45ed-fc33-5c08e3a734fd"
   },
   "outputs": [
    {
     "name": "stdout",
     "output_type": "stream",
     "text": [
      "¡Procesamiento de Features completado y guardado!\n"
     ]
    }
   ],
   "source": [
    "features_df = pd.DataFrame(features, columns=[f\"Chroma_{i+1}\" for i in range(12)] + [f\"Spectral_contrast_{i+1}\" for i in range(7)] + [\"Zero_crossing_rate\", \"Spectral_Rolloff\", \"Tempo\"])\n",
    "\n",
    "# Concatenar con el dataset original\n",
    "canciones = pd.concat([df_canciones, features_df], axis=1)\n",
    "\n",
    "# Guardar el nuevo dataset con MFCCs en CSV\n",
    "canciones.to_csv(\"../data/processed.csv\", index=False)\n",
    "\n",
    "\n",
    "print(\"¡Procesamiento de Features completado y guardado!\")"
   ]
  },
  {
   "cell_type": "code",
   "execution_count": null,
   "metadata": {
    "colab": {
     "base_uri": "https://localhost:8080/",
     "height": 273
    },
    "executionInfo": {
     "elapsed": 41,
     "status": "ok",
     "timestamp": 1738929182467,
     "user": {
      "displayName": "Lucas Herranz",
      "userId": "14898979084021370855"
     },
     "user_tz": -60
    },
    "id": "QQMC3aRhwzA7",
    "outputId": "d7c7bbad-a87b-4341-a8f5-6386bd86f7c9"
   },
   "outputs": [
    {
     "data": {
      "application/vnd.google.colaboratory.intrinsic+json": {
       "type": "dataframe",
       "variable_name": "canciones"
      },
      "text/html": [
       "\n",
       "  <div id=\"df-c57fe1c1-1c3c-4649-83bb-5bb4d99adb04\" class=\"colab-df-container\">\n",
       "    <div>\n",
       "<style scoped>\n",
       "    .dataframe tbody tr th:only-of-type {\n",
       "        vertical-align: middle;\n",
       "    }\n",
       "\n",
       "    .dataframe tbody tr th {\n",
       "        vertical-align: top;\n",
       "    }\n",
       "\n",
       "    .dataframe thead th {\n",
       "        text-align: right;\n",
       "    }\n",
       "</style>\n",
       "<table border=\"1\" class=\"dataframe\">\n",
       "  <thead>\n",
       "    <tr style=\"text-align: right;\">\n",
       "      <th></th>\n",
       "      <th>song_id</th>\n",
       "      <th>filename</th>\n",
       "      <th>filepath</th>\n",
       "      <th>genre_id</th>\n",
       "      <th>genre</th>\n",
       "      <th>MFCC_1</th>\n",
       "      <th>MFCC_2</th>\n",
       "      <th>MFCC_3</th>\n",
       "      <th>MFCC_4</th>\n",
       "      <th>MFCC_5</th>\n",
       "      <th>...</th>\n",
       "      <th>Spectral_contrast_1</th>\n",
       "      <th>Spectral_contrast_2</th>\n",
       "      <th>Spectral_contrast_3</th>\n",
       "      <th>Spectral_contrast_4</th>\n",
       "      <th>Spectral_contrast_5</th>\n",
       "      <th>Spectral_contrast_6</th>\n",
       "      <th>Spectral_contrast_7</th>\n",
       "      <th>Zero_crossing_rate</th>\n",
       "      <th>Spectral_Rolloff</th>\n",
       "      <th>Tempo</th>\n",
       "    </tr>\n",
       "  </thead>\n",
       "  <tbody>\n",
       "    <tr>\n",
       "      <th>0</th>\n",
       "      <td>10150.0</td>\n",
       "      <td>010150.ogg</td>\n",
       "      <td>7/10150.wav</td>\n",
       "      <td>7.0</td>\n",
       "      <td>Instrumental</td>\n",
       "      <td>-211.066559</td>\n",
       "      <td>100.593956</td>\n",
       "      <td>42.598457</td>\n",
       "      <td>23.165283</td>\n",
       "      <td>2.860841</td>\n",
       "      <td>...</td>\n",
       "      <td>21.386073</td>\n",
       "      <td>15.048431</td>\n",
       "      <td>19.512610</td>\n",
       "      <td>18.882236</td>\n",
       "      <td>18.863038</td>\n",
       "      <td>18.122647</td>\n",
       "      <td>32.015794</td>\n",
       "      <td>0.077645</td>\n",
       "      <td>5338.702237</td>\n",
       "      <td>99.384014</td>\n",
       "    </tr>\n",
       "    <tr>\n",
       "      <th>1</th>\n",
       "      <td>7358.0</td>\n",
       "      <td>007358.ogg</td>\n",
       "      <td>2/7358.wav</td>\n",
       "      <td>2.0</td>\n",
       "      <td>Punk</td>\n",
       "      <td>-14.467098</td>\n",
       "      <td>99.263069</td>\n",
       "      <td>-2.664984</td>\n",
       "      <td>26.246733</td>\n",
       "      <td>2.537334</td>\n",
       "      <td>...</td>\n",
       "      <td>19.588156</td>\n",
       "      <td>15.563457</td>\n",
       "      <td>14.650135</td>\n",
       "      <td>15.127776</td>\n",
       "      <td>14.944055</td>\n",
       "      <td>15.950120</td>\n",
       "      <td>32.152157</td>\n",
       "      <td>0.089975</td>\n",
       "      <td>4993.001050</td>\n",
       "      <td>129.199219</td>\n",
       "    </tr>\n",
       "    <tr>\n",
       "      <th>2</th>\n",
       "      <td>20573.0</td>\n",
       "      <td>020573.ogg</td>\n",
       "      <td>5/20573.wav</td>\n",
       "      <td>5.0</td>\n",
       "      <td>Folk</td>\n",
       "      <td>-317.806274</td>\n",
       "      <td>90.202530</td>\n",
       "      <td>-36.330082</td>\n",
       "      <td>18.486454</td>\n",
       "      <td>-25.418125</td>\n",
       "      <td>...</td>\n",
       "      <td>20.266996</td>\n",
       "      <td>23.585947</td>\n",
       "      <td>26.534958</td>\n",
       "      <td>28.264729</td>\n",
       "      <td>27.093563</td>\n",
       "      <td>28.284045</td>\n",
       "      <td>29.978877</td>\n",
       "      <td>0.084341</td>\n",
       "      <td>3569.498962</td>\n",
       "      <td>143.554688</td>\n",
       "    </tr>\n",
       "    <tr>\n",
       "      <th>3</th>\n",
       "      <td>11170.0</td>\n",
       "      <td>011170.ogg</td>\n",
       "      <td>12/11170.wav</td>\n",
       "      <td>12.0</td>\n",
       "      <td>Old-Time / Historic</td>\n",
       "      <td>-264.162598</td>\n",
       "      <td>143.274414</td>\n",
       "      <td>-109.257156</td>\n",
       "      <td>-26.363281</td>\n",
       "      <td>-6.620979</td>\n",
       "      <td>...</td>\n",
       "      <td>14.096315</td>\n",
       "      <td>24.104490</td>\n",
       "      <td>21.017506</td>\n",
       "      <td>21.392954</td>\n",
       "      <td>24.337095</td>\n",
       "      <td>36.129121</td>\n",
       "      <td>29.047427</td>\n",
       "      <td>0.135823</td>\n",
       "      <td>2340.874012</td>\n",
       "      <td>143.554688</td>\n",
       "    </tr>\n",
       "    <tr>\n",
       "      <th>4</th>\n",
       "      <td>16662.0</td>\n",
       "      <td>016662.ogg</td>\n",
       "      <td>1/16662.wav</td>\n",
       "      <td>1.0</td>\n",
       "      <td>Rock</td>\n",
       "      <td>2.097910</td>\n",
       "      <td>85.692604</td>\n",
       "      <td>-1.235375</td>\n",
       "      <td>24.334158</td>\n",
       "      <td>1.336215</td>\n",
       "      <td>...</td>\n",
       "      <td>20.933786</td>\n",
       "      <td>14.613464</td>\n",
       "      <td>16.905879</td>\n",
       "      <td>17.289535</td>\n",
       "      <td>17.331272</td>\n",
       "      <td>16.129306</td>\n",
       "      <td>33.096209</td>\n",
       "      <td>0.125767</td>\n",
       "      <td>5761.316079</td>\n",
       "      <td>89.102909</td>\n",
       "    </tr>\n",
       "  </tbody>\n",
       "</table>\n",
       "<p>5 rows × 47 columns</p>\n",
       "</div>\n",
       "    <div class=\"colab-df-buttons\">\n",
       "\n",
       "  <div class=\"colab-df-container\">\n",
       "    <button class=\"colab-df-convert\" onclick=\"convertToInteractive('df-c57fe1c1-1c3c-4649-83bb-5bb4d99adb04')\"\n",
       "            title=\"Convert this dataframe to an interactive table.\"\n",
       "            style=\"display:none;\">\n",
       "\n",
       "  <svg xmlns=\"http://www.w3.org/2000/svg\" height=\"24px\" viewBox=\"0 -960 960 960\">\n",
       "    <path d=\"M120-120v-720h720v720H120Zm60-500h600v-160H180v160Zm220 220h160v-160H400v160Zm0 220h160v-160H400v160ZM180-400h160v-160H180v160Zm440 0h160v-160H620v160ZM180-180h160v-160H180v160Zm440 0h160v-160H620v160Z\"/>\n",
       "  </svg>\n",
       "    </button>\n",
       "\n",
       "  <style>\n",
       "    .colab-df-container {\n",
       "      display:flex;\n",
       "      gap: 12px;\n",
       "    }\n",
       "\n",
       "    .colab-df-convert {\n",
       "      background-color: #E8F0FE;\n",
       "      border: none;\n",
       "      border-radius: 50%;\n",
       "      cursor: pointer;\n",
       "      display: none;\n",
       "      fill: #1967D2;\n",
       "      height: 32px;\n",
       "      padding: 0 0 0 0;\n",
       "      width: 32px;\n",
       "    }\n",
       "\n",
       "    .colab-df-convert:hover {\n",
       "      background-color: #E2EBFA;\n",
       "      box-shadow: 0px 1px 2px rgba(60, 64, 67, 0.3), 0px 1px 3px 1px rgba(60, 64, 67, 0.15);\n",
       "      fill: #174EA6;\n",
       "    }\n",
       "\n",
       "    .colab-df-buttons div {\n",
       "      margin-bottom: 4px;\n",
       "    }\n",
       "\n",
       "    [theme=dark] .colab-df-convert {\n",
       "      background-color: #3B4455;\n",
       "      fill: #D2E3FC;\n",
       "    }\n",
       "\n",
       "    [theme=dark] .colab-df-convert:hover {\n",
       "      background-color: #434B5C;\n",
       "      box-shadow: 0px 1px 3px 1px rgba(0, 0, 0, 0.15);\n",
       "      filter: drop-shadow(0px 1px 2px rgba(0, 0, 0, 0.3));\n",
       "      fill: #FFFFFF;\n",
       "    }\n",
       "  </style>\n",
       "\n",
       "    <script>\n",
       "      const buttonEl =\n",
       "        document.querySelector('#df-c57fe1c1-1c3c-4649-83bb-5bb4d99adb04 button.colab-df-convert');\n",
       "      buttonEl.style.display =\n",
       "        google.colab.kernel.accessAllowed ? 'block' : 'none';\n",
       "\n",
       "      async function convertToInteractive(key) {\n",
       "        const element = document.querySelector('#df-c57fe1c1-1c3c-4649-83bb-5bb4d99adb04');\n",
       "        const dataTable =\n",
       "          await google.colab.kernel.invokeFunction('convertToInteractive',\n",
       "                                                    [key], {});\n",
       "        if (!dataTable) return;\n",
       "\n",
       "        const docLinkHtml = 'Like what you see? Visit the ' +\n",
       "          '<a target=\"_blank\" href=https://colab.research.google.com/notebooks/data_table.ipynb>data table notebook</a>'\n",
       "          + ' to learn more about interactive tables.';\n",
       "        element.innerHTML = '';\n",
       "        dataTable['output_type'] = 'display_data';\n",
       "        await google.colab.output.renderOutput(dataTable, element);\n",
       "        const docLink = document.createElement('div');\n",
       "        docLink.innerHTML = docLinkHtml;\n",
       "        element.appendChild(docLink);\n",
       "      }\n",
       "    </script>\n",
       "  </div>\n",
       "\n",
       "\n",
       "<div id=\"df-20bea90a-7381-499d-877e-801298b476c0\">\n",
       "  <button class=\"colab-df-quickchart\" onclick=\"quickchart('df-20bea90a-7381-499d-877e-801298b476c0')\"\n",
       "            title=\"Suggest charts\"\n",
       "            style=\"display:none;\">\n",
       "\n",
       "<svg xmlns=\"http://www.w3.org/2000/svg\" height=\"24px\"viewBox=\"0 0 24 24\"\n",
       "     width=\"24px\">\n",
       "    <g>\n",
       "        <path d=\"M19 3H5c-1.1 0-2 .9-2 2v14c0 1.1.9 2 2 2h14c1.1 0 2-.9 2-2V5c0-1.1-.9-2-2-2zM9 17H7v-7h2v7zm4 0h-2V7h2v10zm4 0h-2v-4h2v4z\"/>\n",
       "    </g>\n",
       "</svg>\n",
       "  </button>\n",
       "\n",
       "<style>\n",
       "  .colab-df-quickchart {\n",
       "      --bg-color: #E8F0FE;\n",
       "      --fill-color: #1967D2;\n",
       "      --hover-bg-color: #E2EBFA;\n",
       "      --hover-fill-color: #174EA6;\n",
       "      --disabled-fill-color: #AAA;\n",
       "      --disabled-bg-color: #DDD;\n",
       "  }\n",
       "\n",
       "  [theme=dark] .colab-df-quickchart {\n",
       "      --bg-color: #3B4455;\n",
       "      --fill-color: #D2E3FC;\n",
       "      --hover-bg-color: #434B5C;\n",
       "      --hover-fill-color: #FFFFFF;\n",
       "      --disabled-bg-color: #3B4455;\n",
       "      --disabled-fill-color: #666;\n",
       "  }\n",
       "\n",
       "  .colab-df-quickchart {\n",
       "    background-color: var(--bg-color);\n",
       "    border: none;\n",
       "    border-radius: 50%;\n",
       "    cursor: pointer;\n",
       "    display: none;\n",
       "    fill: var(--fill-color);\n",
       "    height: 32px;\n",
       "    padding: 0;\n",
       "    width: 32px;\n",
       "  }\n",
       "\n",
       "  .colab-df-quickchart:hover {\n",
       "    background-color: var(--hover-bg-color);\n",
       "    box-shadow: 0 1px 2px rgba(60, 64, 67, 0.3), 0 1px 3px 1px rgba(60, 64, 67, 0.15);\n",
       "    fill: var(--button-hover-fill-color);\n",
       "  }\n",
       "\n",
       "  .colab-df-quickchart-complete:disabled,\n",
       "  .colab-df-quickchart-complete:disabled:hover {\n",
       "    background-color: var(--disabled-bg-color);\n",
       "    fill: var(--disabled-fill-color);\n",
       "    box-shadow: none;\n",
       "  }\n",
       "\n",
       "  .colab-df-spinner {\n",
       "    border: 2px solid var(--fill-color);\n",
       "    border-color: transparent;\n",
       "    border-bottom-color: var(--fill-color);\n",
       "    animation:\n",
       "      spin 1s steps(1) infinite;\n",
       "  }\n",
       "\n",
       "  @keyframes spin {\n",
       "    0% {\n",
       "      border-color: transparent;\n",
       "      border-bottom-color: var(--fill-color);\n",
       "      border-left-color: var(--fill-color);\n",
       "    }\n",
       "    20% {\n",
       "      border-color: transparent;\n",
       "      border-left-color: var(--fill-color);\n",
       "      border-top-color: var(--fill-color);\n",
       "    }\n",
       "    30% {\n",
       "      border-color: transparent;\n",
       "      border-left-color: var(--fill-color);\n",
       "      border-top-color: var(--fill-color);\n",
       "      border-right-color: var(--fill-color);\n",
       "    }\n",
       "    40% {\n",
       "      border-color: transparent;\n",
       "      border-right-color: var(--fill-color);\n",
       "      border-top-color: var(--fill-color);\n",
       "    }\n",
       "    60% {\n",
       "      border-color: transparent;\n",
       "      border-right-color: var(--fill-color);\n",
       "    }\n",
       "    80% {\n",
       "      border-color: transparent;\n",
       "      border-right-color: var(--fill-color);\n",
       "      border-bottom-color: var(--fill-color);\n",
       "    }\n",
       "    90% {\n",
       "      border-color: transparent;\n",
       "      border-bottom-color: var(--fill-color);\n",
       "    }\n",
       "  }\n",
       "</style>\n",
       "\n",
       "  <script>\n",
       "    async function quickchart(key) {\n",
       "      const quickchartButtonEl =\n",
       "        document.querySelector('#' + key + ' button');\n",
       "      quickchartButtonEl.disabled = true;  // To prevent multiple clicks.\n",
       "      quickchartButtonEl.classList.add('colab-df-spinner');\n",
       "      try {\n",
       "        const charts = await google.colab.kernel.invokeFunction(\n",
       "            'suggestCharts', [key], {});\n",
       "      } catch (error) {\n",
       "        console.error('Error during call to suggestCharts:', error);\n",
       "      }\n",
       "      quickchartButtonEl.classList.remove('colab-df-spinner');\n",
       "      quickchartButtonEl.classList.add('colab-df-quickchart-complete');\n",
       "    }\n",
       "    (() => {\n",
       "      let quickchartButtonEl =\n",
       "        document.querySelector('#df-20bea90a-7381-499d-877e-801298b476c0 button');\n",
       "      quickchartButtonEl.style.display =\n",
       "        google.colab.kernel.accessAllowed ? 'block' : 'none';\n",
       "    })();\n",
       "  </script>\n",
       "</div>\n",
       "\n",
       "    </div>\n",
       "  </div>\n"
      ],
      "text/plain": [
       "   song_id    filename      filepath  genre_id                genre  \\\n",
       "0  10150.0  010150.ogg   7/10150.wav       7.0         Instrumental   \n",
       "1   7358.0  007358.ogg    2/7358.wav       2.0                 Punk   \n",
       "2  20573.0  020573.ogg   5/20573.wav       5.0                 Folk   \n",
       "3  11170.0  011170.ogg  12/11170.wav      12.0  Old-Time / Historic   \n",
       "4  16662.0  016662.ogg   1/16662.wav       1.0                 Rock   \n",
       "\n",
       "       MFCC_1      MFCC_2      MFCC_3     MFCC_4     MFCC_5  ...  \\\n",
       "0 -211.066559  100.593956   42.598457  23.165283   2.860841  ...   \n",
       "1  -14.467098   99.263069   -2.664984  26.246733   2.537334  ...   \n",
       "2 -317.806274   90.202530  -36.330082  18.486454 -25.418125  ...   \n",
       "3 -264.162598  143.274414 -109.257156 -26.363281  -6.620979  ...   \n",
       "4    2.097910   85.692604   -1.235375  24.334158   1.336215  ...   \n",
       "\n",
       "   Spectral_contrast_1  Spectral_contrast_2  Spectral_contrast_3  \\\n",
       "0            21.386073            15.048431            19.512610   \n",
       "1            19.588156            15.563457            14.650135   \n",
       "2            20.266996            23.585947            26.534958   \n",
       "3            14.096315            24.104490            21.017506   \n",
       "4            20.933786            14.613464            16.905879   \n",
       "\n",
       "   Spectral_contrast_4  Spectral_contrast_5  Spectral_contrast_6  \\\n",
       "0            18.882236            18.863038            18.122647   \n",
       "1            15.127776            14.944055            15.950120   \n",
       "2            28.264729            27.093563            28.284045   \n",
       "3            21.392954            24.337095            36.129121   \n",
       "4            17.289535            17.331272            16.129306   \n",
       "\n",
       "   Spectral_contrast_7  Zero_crossing_rate  Spectral_Rolloff       Tempo  \n",
       "0            32.015794            0.077645       5338.702237   99.384014  \n",
       "1            32.152157            0.089975       4993.001050  129.199219  \n",
       "2            29.978877            0.084341       3569.498962  143.554688  \n",
       "3            29.047427            0.135823       2340.874012  143.554688  \n",
       "4            33.096209            0.125767       5761.316079   89.102909  \n",
       "\n",
       "[5 rows x 47 columns]"
      ]
     },
     "execution_count": 16,
     "metadata": {},
     "output_type": "execute_result"
    }
   ],
   "source": [
    "canciones.head()"
   ]
  },
  {
   "cell_type": "code",
   "execution_count": null,
   "metadata": {
    "id": "3oe4v20vUAYI"
   },
   "outputs": [],
   "source": [
    "df_canciones = pd.read_csv('../data/raw.csv')"
   ]
  },
  {
   "cell_type": "code",
   "execution_count": null,
   "metadata": {
    "id": "Wjp_uA7xUti9"
   },
   "outputs": [],
   "source": [
    "df_canciones.loc[16360, \"filepath\"] = \"0/0.wav\""
   ]
  },
  {
   "cell_type": "code",
   "execution_count": null,
   "metadata": {
    "colab": {
     "base_uri": "https://localhost:8080/"
    },
    "executionInfo": {
     "elapsed": 188,
     "status": "ok",
     "timestamp": 1738829940918,
     "user": {
      "displayName": "Lucas Herranz",
      "userId": "14898979084021370855"
     },
     "user_tz": -60
    },
    "id": "VSOYTRfNU-Jv",
    "outputId": "bdb6d504-af3a-4ef5-c5c7-bb4e822ea6c1"
   },
   "outputs": [
    {
     "data": {
      "text/plain": [
       "array([0, '000000.ogg', '0/0.wav', 0, 'Electronic', nan, nan, nan, nan,\n",
       "       nan, nan, nan, nan, nan, nan, nan, nan, nan, nan, nan, nan, nan,\n",
       "       nan, nan, nan], dtype=object)"
      ]
     },
     "execution_count": 19,
     "metadata": {},
     "output_type": "execute_result"
    }
   ],
   "source": [
    "df_canciones.loc[16360].values"
   ]
  },
  {
   "cell_type": "code",
   "execution_count": null,
   "metadata": {
    "id": "uI_ZIW-OVQcL"
   },
   "outputs": [],
   "source": [
    "mfcc_0 = extract_mfcc(\"/content/drive/MyDrive/Bootcamp_DS/ML/TRAIN_V2/data_out_2/0/0.wav\")"
   ]
  },
  {
   "cell_type": "code",
   "execution_count": null,
   "metadata": {
    "colab": {
     "base_uri": "https://localhost:8080/"
    },
    "executionInfo": {
     "elapsed": 173,
     "status": "ok",
     "timestamp": 1738829966834,
     "user": {
      "displayName": "Lucas Herranz",
      "userId": "14898979084021370855"
     },
     "user_tz": -60
    },
    "id": "iFDqLlCFV4qH",
    "outputId": "77eeec72-9376-4ffd-f64c-62e5335eb51d"
   },
   "outputs": [
    {
     "data": {
      "text/plain": [
       "array([-181.71925  ,  133.34796  ,   14.8828945,   26.577473 ,\n",
       "          8.056044 ,   15.998042 ,   -4.473025 ,    4.1229315,\n",
       "          0.8465411,    3.4274905,   -7.135882 ,   -1.218502 ,\n",
       "         -2.9580157,    1.9757385,  -11.066191 ,    1.1861942,\n",
       "         -7.8885903,    2.1857052,   -5.7356305,   -5.1370807],\n",
       "      dtype=float32)"
      ]
     },
     "execution_count": 21,
     "metadata": {},
     "output_type": "execute_result"
    }
   ],
   "source": [
    "mfcc_0"
   ]
  },
  {
   "cell_type": "code",
   "execution_count": null,
   "metadata": {
    "id": "62JcKDB8Vxej"
   },
   "outputs": [],
   "source": [
    "df_canciones.loc[16360] = [0, '000000.ogg', '0/0.wav', 0, 'Electronic', -181.71925  ,  133.34796  ,   14.8828945,   26.577473 ,\n",
    "          8.056044 ,   15.998042 ,   -4.473025 ,    4.1229315,\n",
    "          0.8465411,    3.4274905,   -7.135882 ,   -1.218502 ,\n",
    "         -2.9580157,    1.9757385,  -11.066191 ,    1.1861942,\n",
    "         -7.8885903,    2.1857052,   -5.7356305,   -5.1370807]"
   ]
  },
  {
   "cell_type": "code",
   "execution_count": null,
   "metadata": {
    "colab": {
     "base_uri": "https://localhost:8080/",
     "height": 868
    },
    "executionInfo": {
     "elapsed": 182,
     "status": "ok",
     "timestamp": 1738830000979,
     "user": {
      "displayName": "Lucas Herranz",
      "userId": "14898979084021370855"
     },
     "user_tz": -60
    },
    "id": "kw6OYQzqWCBL",
    "outputId": "0178d9b7-817f-4dc7-e04a-553a9e5755cc"
   },
   "outputs": [
    {
     "data": {
      "text/html": [
       "<div>\n",
       "<style scoped>\n",
       "    .dataframe tbody tr th:only-of-type {\n",
       "        vertical-align: middle;\n",
       "    }\n",
       "\n",
       "    .dataframe tbody tr th {\n",
       "        vertical-align: top;\n",
       "    }\n",
       "\n",
       "    .dataframe thead th {\n",
       "        text-align: right;\n",
       "    }\n",
       "</style>\n",
       "<table border=\"1\" class=\"dataframe\">\n",
       "  <thead>\n",
       "    <tr style=\"text-align: right;\">\n",
       "      <th></th>\n",
       "      <th>16360</th>\n",
       "    </tr>\n",
       "  </thead>\n",
       "  <tbody>\n",
       "    <tr>\n",
       "      <th>song_id</th>\n",
       "      <td>0</td>\n",
       "    </tr>\n",
       "    <tr>\n",
       "      <th>filename</th>\n",
       "      <td>000000.ogg</td>\n",
       "    </tr>\n",
       "    <tr>\n",
       "      <th>filepath</th>\n",
       "      <td>0/0.wav</td>\n",
       "    </tr>\n",
       "    <tr>\n",
       "      <th>genre_id</th>\n",
       "      <td>0</td>\n",
       "    </tr>\n",
       "    <tr>\n",
       "      <th>genre</th>\n",
       "      <td>Electronic</td>\n",
       "    </tr>\n",
       "    <tr>\n",
       "      <th>MFCC_1</th>\n",
       "      <td>-181.71925</td>\n",
       "    </tr>\n",
       "    <tr>\n",
       "      <th>MFCC_2</th>\n",
       "      <td>133.34796</td>\n",
       "    </tr>\n",
       "    <tr>\n",
       "      <th>MFCC_3</th>\n",
       "      <td>14.882895</td>\n",
       "    </tr>\n",
       "    <tr>\n",
       "      <th>MFCC_4</th>\n",
       "      <td>26.577473</td>\n",
       "    </tr>\n",
       "    <tr>\n",
       "      <th>MFCC_5</th>\n",
       "      <td>8.056044</td>\n",
       "    </tr>\n",
       "    <tr>\n",
       "      <th>MFCC_6</th>\n",
       "      <td>15.998042</td>\n",
       "    </tr>\n",
       "    <tr>\n",
       "      <th>MFCC_7</th>\n",
       "      <td>-4.473025</td>\n",
       "    </tr>\n",
       "    <tr>\n",
       "      <th>MFCC_8</th>\n",
       "      <td>4.122931</td>\n",
       "    </tr>\n",
       "    <tr>\n",
       "      <th>MFCC_9</th>\n",
       "      <td>0.846541</td>\n",
       "    </tr>\n",
       "    <tr>\n",
       "      <th>MFCC_10</th>\n",
       "      <td>3.427491</td>\n",
       "    </tr>\n",
       "    <tr>\n",
       "      <th>MFCC_11</th>\n",
       "      <td>-7.135882</td>\n",
       "    </tr>\n",
       "    <tr>\n",
       "      <th>MFCC_12</th>\n",
       "      <td>-1.218502</td>\n",
       "    </tr>\n",
       "    <tr>\n",
       "      <th>MFCC_13</th>\n",
       "      <td>-2.958016</td>\n",
       "    </tr>\n",
       "    <tr>\n",
       "      <th>MFCC_14</th>\n",
       "      <td>1.975739</td>\n",
       "    </tr>\n",
       "    <tr>\n",
       "      <th>MFCC_15</th>\n",
       "      <td>-11.066191</td>\n",
       "    </tr>\n",
       "    <tr>\n",
       "      <th>MFCC_16</th>\n",
       "      <td>1.186194</td>\n",
       "    </tr>\n",
       "    <tr>\n",
       "      <th>MFCC_17</th>\n",
       "      <td>-7.88859</td>\n",
       "    </tr>\n",
       "    <tr>\n",
       "      <th>MFCC_18</th>\n",
       "      <td>2.185705</td>\n",
       "    </tr>\n",
       "    <tr>\n",
       "      <th>MFCC_19</th>\n",
       "      <td>-5.735631</td>\n",
       "    </tr>\n",
       "    <tr>\n",
       "      <th>MFCC_20</th>\n",
       "      <td>-5.137081</td>\n",
       "    </tr>\n",
       "  </tbody>\n",
       "</table>\n",
       "</div><br><label><b>dtype:</b> object</label>"
      ],
      "text/plain": [
       "song_id              0\n",
       "filename    000000.ogg\n",
       "filepath       0/0.wav\n",
       "genre_id             0\n",
       "genre       Electronic\n",
       "MFCC_1      -181.71925\n",
       "MFCC_2       133.34796\n",
       "MFCC_3       14.882895\n",
       "MFCC_4       26.577473\n",
       "MFCC_5        8.056044\n",
       "MFCC_6       15.998042\n",
       "MFCC_7       -4.473025\n",
       "MFCC_8        4.122931\n",
       "MFCC_9        0.846541\n",
       "MFCC_10       3.427491\n",
       "MFCC_11      -7.135882\n",
       "MFCC_12      -1.218502\n",
       "MFCC_13      -2.958016\n",
       "MFCC_14       1.975739\n",
       "MFCC_15     -11.066191\n",
       "MFCC_16       1.186194\n",
       "MFCC_17       -7.88859\n",
       "MFCC_18       2.185705\n",
       "MFCC_19      -5.735631\n",
       "MFCC_20      -5.137081\n",
       "Name: 16360, dtype: object"
      ]
     },
     "execution_count": 23,
     "metadata": {},
     "output_type": "execute_result"
    }
   ],
   "source": [
    "df_canciones.loc[16360]"
   ]
  },
  {
   "cell_type": "code",
   "execution_count": null,
   "metadata": {
    "colab": {
     "base_uri": "https://localhost:8080/"
    },
    "executionInfo": {
     "elapsed": 154,
     "status": "ok",
     "timestamp": 1738830939101,
     "user": {
      "displayName": "Lucas Herranz",
      "userId": "14898979084021370855"
     },
     "user_tz": -60
    },
    "id": "eueegEfDZjQL",
    "outputId": "d266aa32-2175-42a4-fff6-f865f0d07ae6"
   },
   "outputs": [
    {
     "name": "stdout",
     "output_type": "stream",
     "text": [
      "<class 'pandas.core.frame.DataFrame'>\n",
      "RangeIndex: 19922 entries, 0 to 19921\n",
      "Data columns (total 25 columns):\n",
      " #   Column    Non-Null Count  Dtype  \n",
      "---  ------    --------------  -----  \n",
      " 0   song_id   19922 non-null  int64  \n",
      " 1   filename  19922 non-null  object \n",
      " 2   filepath  19922 non-null  object \n",
      " 3   genre_id  19922 non-null  int64  \n",
      " 4   genre     19922 non-null  object \n",
      " 5   MFCC_1    19909 non-null  float64\n",
      " 6   MFCC_2    19909 non-null  float64\n",
      " 7   MFCC_3    19909 non-null  float64\n",
      " 8   MFCC_4    19909 non-null  float64\n",
      " 9   MFCC_5    19909 non-null  float64\n",
      " 10  MFCC_6    19909 non-null  float64\n",
      " 11  MFCC_7    19909 non-null  float64\n",
      " 12  MFCC_8    19909 non-null  float64\n",
      " 13  MFCC_9    19909 non-null  float64\n",
      " 14  MFCC_10   19909 non-null  float64\n",
      " 15  MFCC_11   19909 non-null  float64\n",
      " 16  MFCC_12   19909 non-null  float64\n",
      " 17  MFCC_13   19909 non-null  float64\n",
      " 18  MFCC_14   19909 non-null  float64\n",
      " 19  MFCC_15   19909 non-null  float64\n",
      " 20  MFCC_16   19909 non-null  float64\n",
      " 21  MFCC_17   19909 non-null  float64\n",
      " 22  MFCC_18   19909 non-null  float64\n",
      " 23  MFCC_19   19909 non-null  float64\n",
      " 24  MFCC_20   19909 non-null  float64\n",
      "dtypes: float64(20), int64(2), object(3)\n",
      "memory usage: 3.8+ MB\n"
     ]
    }
   ],
   "source": [
    "df_canciones.info()"
   ]
  },
  {
   "cell_type": "code",
   "execution_count": null,
   "metadata": {
    "colab": {
     "base_uri": "https://localhost:8080/",
     "height": 335
    },
    "executionInfo": {
     "elapsed": 169,
     "status": "ok",
     "timestamp": 1738830966898,
     "user": {
      "displayName": "Lucas Herranz",
      "userId": "14898979084021370855"
     },
     "user_tz": -60
    },
    "id": "QbEuy2sIZpYL",
    "outputId": "6d05dadd-0ddf-4333-f513-697449a7fce8"
   },
   "outputs": [
    {
     "data": {
      "text/html": [
       "<div>\n",
       "<style scoped>\n",
       "    .dataframe tbody tr th:only-of-type {\n",
       "        vertical-align: middle;\n",
       "    }\n",
       "\n",
       "    .dataframe tbody tr th {\n",
       "        vertical-align: top;\n",
       "    }\n",
       "\n",
       "    .dataframe thead th {\n",
       "        text-align: right;\n",
       "    }\n",
       "</style>\n",
       "<table border=\"1\" class=\"dataframe\">\n",
       "  <thead>\n",
       "    <tr style=\"text-align: right;\">\n",
       "      <th></th>\n",
       "      <th>count</th>\n",
       "    </tr>\n",
       "    <tr>\n",
       "      <th>genre_id</th>\n",
       "      <th></th>\n",
       "    </tr>\n",
       "  </thead>\n",
       "  <tbody>\n",
       "    <tr>\n",
       "      <th>0</th>\n",
       "      <td>2</td>\n",
       "    </tr>\n",
       "    <tr>\n",
       "      <th>1</th>\n",
       "      <td>2</td>\n",
       "    </tr>\n",
       "    <tr>\n",
       "      <th>2</th>\n",
       "      <td>2</td>\n",
       "    </tr>\n",
       "    <tr>\n",
       "      <th>3</th>\n",
       "      <td>1</td>\n",
       "    </tr>\n",
       "    <tr>\n",
       "      <th>4</th>\n",
       "      <td>4</td>\n",
       "    </tr>\n",
       "    <tr>\n",
       "      <th>5</th>\n",
       "      <td>1</td>\n",
       "    </tr>\n",
       "    <tr>\n",
       "      <th>7</th>\n",
       "      <td>1</td>\n",
       "    </tr>\n",
       "  </tbody>\n",
       "</table>\n",
       "</div><br><label><b>dtype:</b> int64</label>"
      ],
      "text/plain": [
       "genre_id\n",
       "0    2\n",
       "1    2\n",
       "2    2\n",
       "3    1\n",
       "4    4\n",
       "5    1\n",
       "7    1\n",
       "Name: count, dtype: int64"
      ]
     },
     "execution_count": 31,
     "metadata": {},
     "output_type": "execute_result"
    }
   ],
   "source": [
    "df_canciones[df_canciones[\"MFCC_1\"].isnull()][\"genre_id\"].value_counts().sort_index()"
   ]
  },
  {
   "cell_type": "code",
   "execution_count": null,
   "metadata": {
    "colab": {
     "base_uri": "https://localhost:8080/",
     "height": 711
    },
    "executionInfo": {
     "elapsed": 146,
     "status": "ok",
     "timestamp": 1738830983623,
     "user": {
      "displayName": "Lucas Herranz",
      "userId": "14898979084021370855"
     },
     "user_tz": -60
    },
    "id": "wSiJ0sQVZugv",
    "outputId": "2b041a32-13fe-4f94-d3c0-bce10e7fd9df"
   },
   "outputs": [
    {
     "data": {
      "text/html": [
       "<div>\n",
       "<style scoped>\n",
       "    .dataframe tbody tr th:only-of-type {\n",
       "        vertical-align: middle;\n",
       "    }\n",
       "\n",
       "    .dataframe tbody tr th {\n",
       "        vertical-align: top;\n",
       "    }\n",
       "\n",
       "    .dataframe thead th {\n",
       "        text-align: right;\n",
       "    }\n",
       "</style>\n",
       "<table border=\"1\" class=\"dataframe\">\n",
       "  <thead>\n",
       "    <tr style=\"text-align: right;\">\n",
       "      <th></th>\n",
       "      <th>count</th>\n",
       "    </tr>\n",
       "    <tr>\n",
       "      <th>genre_id</th>\n",
       "      <th></th>\n",
       "    </tr>\n",
       "  </thead>\n",
       "  <tbody>\n",
       "    <tr>\n",
       "      <th>0</th>\n",
       "      <td>3073</td>\n",
       "    </tr>\n",
       "    <tr>\n",
       "      <th>1</th>\n",
       "      <td>3097</td>\n",
       "    </tr>\n",
       "    <tr>\n",
       "      <th>2</th>\n",
       "      <td>2584</td>\n",
       "    </tr>\n",
       "    <tr>\n",
       "      <th>3</th>\n",
       "      <td>1801</td>\n",
       "    </tr>\n",
       "    <tr>\n",
       "      <th>4</th>\n",
       "      <td>1761</td>\n",
       "    </tr>\n",
       "    <tr>\n",
       "      <th>5</th>\n",
       "      <td>1215</td>\n",
       "    </tr>\n",
       "    <tr>\n",
       "      <th>6</th>\n",
       "      <td>1181</td>\n",
       "    </tr>\n",
       "    <tr>\n",
       "      <th>7</th>\n",
       "      <td>1045</td>\n",
       "    </tr>\n",
       "    <tr>\n",
       "      <th>8</th>\n",
       "      <td>945</td>\n",
       "    </tr>\n",
       "    <tr>\n",
       "      <th>9</th>\n",
       "      <td>814</td>\n",
       "    </tr>\n",
       "    <tr>\n",
       "      <th>10</th>\n",
       "      <td>796</td>\n",
       "    </tr>\n",
       "    <tr>\n",
       "      <th>11</th>\n",
       "      <td>495</td>\n",
       "    </tr>\n",
       "    <tr>\n",
       "      <th>12</th>\n",
       "      <td>408</td>\n",
       "    </tr>\n",
       "    <tr>\n",
       "      <th>13</th>\n",
       "      <td>306</td>\n",
       "    </tr>\n",
       "    <tr>\n",
       "      <th>14</th>\n",
       "      <td>142</td>\n",
       "    </tr>\n",
       "    <tr>\n",
       "      <th>15</th>\n",
       "      <td>94</td>\n",
       "    </tr>\n",
       "    <tr>\n",
       "      <th>16</th>\n",
       "      <td>94</td>\n",
       "    </tr>\n",
       "    <tr>\n",
       "      <th>17</th>\n",
       "      <td>58</td>\n",
       "    </tr>\n",
       "    <tr>\n",
       "      <th>18</th>\n",
       "      <td>13</td>\n",
       "    </tr>\n",
       "  </tbody>\n",
       "</table>\n",
       "</div><br><label><b>dtype:</b> int64</label>"
      ],
      "text/plain": [
       "genre_id\n",
       "0     3073\n",
       "1     3097\n",
       "2     2584\n",
       "3     1801\n",
       "4     1761\n",
       "5     1215\n",
       "6     1181\n",
       "7     1045\n",
       "8      945\n",
       "9      814\n",
       "10     796\n",
       "11     495\n",
       "12     408\n",
       "13     306\n",
       "14     142\n",
       "15      94\n",
       "16      94\n",
       "17      58\n",
       "18      13\n",
       "Name: count, dtype: int64"
      ]
     },
     "execution_count": 32,
     "metadata": {},
     "output_type": "execute_result"
    }
   ],
   "source": [
    "df_canciones[\"genre_id\"].value_counts().sort_index()"
   ]
  },
  {
   "cell_type": "code",
   "execution_count": null,
   "metadata": {
    "id": "Zd5rydBLZ0Iq"
   },
   "outputs": [],
   "source": [
    "df_canciones.dropna(inplace=True)"
   ]
  },
  {
   "cell_type": "code",
   "execution_count": null,
   "metadata": {
    "colab": {
     "base_uri": "https://localhost:8080/"
    },
    "executionInfo": {
     "elapsed": 172,
     "status": "ok",
     "timestamp": 1738831019587,
     "user": {
      "displayName": "Lucas Herranz",
      "userId": "14898979084021370855"
     },
     "user_tz": -60
    },
    "id": "dWyRFg-OZ6wZ",
    "outputId": "e363a686-ad83-4521-89d0-8737089eaf63"
   },
   "outputs": [
    {
     "name": "stdout",
     "output_type": "stream",
     "text": [
      "<class 'pandas.core.frame.DataFrame'>\n",
      "Index: 19909 entries, 0 to 19921\n",
      "Data columns (total 25 columns):\n",
      " #   Column    Non-Null Count  Dtype  \n",
      "---  ------    --------------  -----  \n",
      " 0   song_id   19909 non-null  int64  \n",
      " 1   filename  19909 non-null  object \n",
      " 2   filepath  19909 non-null  object \n",
      " 3   genre_id  19909 non-null  int64  \n",
      " 4   genre     19909 non-null  object \n",
      " 5   MFCC_1    19909 non-null  float64\n",
      " 6   MFCC_2    19909 non-null  float64\n",
      " 7   MFCC_3    19909 non-null  float64\n",
      " 8   MFCC_4    19909 non-null  float64\n",
      " 9   MFCC_5    19909 non-null  float64\n",
      " 10  MFCC_6    19909 non-null  float64\n",
      " 11  MFCC_7    19909 non-null  float64\n",
      " 12  MFCC_8    19909 non-null  float64\n",
      " 13  MFCC_9    19909 non-null  float64\n",
      " 14  MFCC_10   19909 non-null  float64\n",
      " 15  MFCC_11   19909 non-null  float64\n",
      " 16  MFCC_12   19909 non-null  float64\n",
      " 17  MFCC_13   19909 non-null  float64\n",
      " 18  MFCC_14   19909 non-null  float64\n",
      " 19  MFCC_15   19909 non-null  float64\n",
      " 20  MFCC_16   19909 non-null  float64\n",
      " 21  MFCC_17   19909 non-null  float64\n",
      " 22  MFCC_18   19909 non-null  float64\n",
      " 23  MFCC_19   19909 non-null  float64\n",
      " 24  MFCC_20   19909 non-null  float64\n",
      "dtypes: float64(20), int64(2), object(3)\n",
      "memory usage: 3.9+ MB\n"
     ]
    }
   ],
   "source": [
    "df_canciones.info()"
   ]
  },
  {
   "cell_type": "code",
   "execution_count": null,
   "metadata": {
    "id": "2Fq-zJuGWE2p"
   },
   "outputs": [],
   "source": [
    "df_canciones.to_csv(\"../data/processed.csv\", index=False)"
   ]
  },
  {
   "cell_type": "markdown",
   "metadata": {},
   "source": [
    "# EDA"
   ]
  },
  {
   "cell_type": "code",
   "execution_count": null,
   "metadata": {},
   "outputs": [],
   "source": [
    "df = pd.read_csv(\"../data/processed.csv\")\n",
    "df_genres =  pd.read_csv(\"../data/genres.csv\")"
   ]
  },
  {
   "cell_type": "code",
   "execution_count": 4,
   "metadata": {},
   "outputs": [
    {
     "data": {
      "text/html": [
       "<div>\n",
       "<style scoped>\n",
       "    .dataframe tbody tr th:only-of-type {\n",
       "        vertical-align: middle;\n",
       "    }\n",
       "\n",
       "    .dataframe tbody tr th {\n",
       "        vertical-align: top;\n",
       "    }\n",
       "\n",
       "    .dataframe thead th {\n",
       "        text-align: right;\n",
       "    }\n",
       "</style>\n",
       "<table border=\"1\" class=\"dataframe\">\n",
       "  <thead>\n",
       "    <tr style=\"text-align: right;\">\n",
       "      <th></th>\n",
       "      <th>song_id</th>\n",
       "      <th>filename</th>\n",
       "      <th>filepath</th>\n",
       "      <th>genre_id</th>\n",
       "      <th>genre</th>\n",
       "      <th>MFCC_1</th>\n",
       "      <th>MFCC_2</th>\n",
       "      <th>MFCC_3</th>\n",
       "      <th>MFCC_4</th>\n",
       "      <th>MFCC_5</th>\n",
       "      <th>...</th>\n",
       "      <th>Spectral_contrast_1</th>\n",
       "      <th>Spectral_contrast_2</th>\n",
       "      <th>Spectral_contrast_3</th>\n",
       "      <th>Spectral_contrast_4</th>\n",
       "      <th>Spectral_contrast_5</th>\n",
       "      <th>Spectral_contrast_6</th>\n",
       "      <th>Spectral_contrast_7</th>\n",
       "      <th>Zero_crossing_rate</th>\n",
       "      <th>Spectral_Rolloff</th>\n",
       "      <th>Tempo</th>\n",
       "    </tr>\n",
       "  </thead>\n",
       "  <tbody>\n",
       "    <tr>\n",
       "      <th>0</th>\n",
       "      <td>10150.0</td>\n",
       "      <td>010150.ogg</td>\n",
       "      <td>7/10150.wav</td>\n",
       "      <td>7.0</td>\n",
       "      <td>Instrumental</td>\n",
       "      <td>-211.066559</td>\n",
       "      <td>100.593956</td>\n",
       "      <td>42.598457</td>\n",
       "      <td>23.165283</td>\n",
       "      <td>2.860841</td>\n",
       "      <td>...</td>\n",
       "      <td>21.386073</td>\n",
       "      <td>15.048431</td>\n",
       "      <td>19.512610</td>\n",
       "      <td>18.882236</td>\n",
       "      <td>18.863038</td>\n",
       "      <td>18.122647</td>\n",
       "      <td>32.015794</td>\n",
       "      <td>0.077645</td>\n",
       "      <td>5338.702237</td>\n",
       "      <td>99.384014</td>\n",
       "    </tr>\n",
       "    <tr>\n",
       "      <th>1</th>\n",
       "      <td>7358.0</td>\n",
       "      <td>007358.ogg</td>\n",
       "      <td>2/7358.wav</td>\n",
       "      <td>2.0</td>\n",
       "      <td>Punk</td>\n",
       "      <td>-14.467098</td>\n",
       "      <td>99.263069</td>\n",
       "      <td>-2.664984</td>\n",
       "      <td>26.246733</td>\n",
       "      <td>2.537334</td>\n",
       "      <td>...</td>\n",
       "      <td>19.588156</td>\n",
       "      <td>15.563457</td>\n",
       "      <td>14.650135</td>\n",
       "      <td>15.127776</td>\n",
       "      <td>14.944055</td>\n",
       "      <td>15.950120</td>\n",
       "      <td>32.152157</td>\n",
       "      <td>0.089975</td>\n",
       "      <td>4993.001050</td>\n",
       "      <td>129.199219</td>\n",
       "    </tr>\n",
       "    <tr>\n",
       "      <th>2</th>\n",
       "      <td>20573.0</td>\n",
       "      <td>020573.ogg</td>\n",
       "      <td>5/20573.wav</td>\n",
       "      <td>5.0</td>\n",
       "      <td>Folk</td>\n",
       "      <td>-317.806274</td>\n",
       "      <td>90.202530</td>\n",
       "      <td>-36.330082</td>\n",
       "      <td>18.486454</td>\n",
       "      <td>-25.418125</td>\n",
       "      <td>...</td>\n",
       "      <td>20.266996</td>\n",
       "      <td>23.585947</td>\n",
       "      <td>26.534958</td>\n",
       "      <td>28.264729</td>\n",
       "      <td>27.093563</td>\n",
       "      <td>28.284045</td>\n",
       "      <td>29.978877</td>\n",
       "      <td>0.084341</td>\n",
       "      <td>3569.498962</td>\n",
       "      <td>143.554688</td>\n",
       "    </tr>\n",
       "    <tr>\n",
       "      <th>3</th>\n",
       "      <td>11170.0</td>\n",
       "      <td>011170.ogg</td>\n",
       "      <td>12/11170.wav</td>\n",
       "      <td>12.0</td>\n",
       "      <td>Old-Time / Historic</td>\n",
       "      <td>-264.162598</td>\n",
       "      <td>143.274414</td>\n",
       "      <td>-109.257156</td>\n",
       "      <td>-26.363281</td>\n",
       "      <td>-6.620979</td>\n",
       "      <td>...</td>\n",
       "      <td>14.096315</td>\n",
       "      <td>24.104490</td>\n",
       "      <td>21.017506</td>\n",
       "      <td>21.392954</td>\n",
       "      <td>24.337095</td>\n",
       "      <td>36.129121</td>\n",
       "      <td>29.047427</td>\n",
       "      <td>0.135823</td>\n",
       "      <td>2340.874012</td>\n",
       "      <td>143.554688</td>\n",
       "    </tr>\n",
       "    <tr>\n",
       "      <th>4</th>\n",
       "      <td>16662.0</td>\n",
       "      <td>016662.ogg</td>\n",
       "      <td>1/16662.wav</td>\n",
       "      <td>1.0</td>\n",
       "      <td>Rock</td>\n",
       "      <td>2.097910</td>\n",
       "      <td>85.692604</td>\n",
       "      <td>-1.235375</td>\n",
       "      <td>24.334158</td>\n",
       "      <td>1.336215</td>\n",
       "      <td>...</td>\n",
       "      <td>20.933786</td>\n",
       "      <td>14.613464</td>\n",
       "      <td>16.905879</td>\n",
       "      <td>17.289535</td>\n",
       "      <td>17.331272</td>\n",
       "      <td>16.129306</td>\n",
       "      <td>33.096209</td>\n",
       "      <td>0.125767</td>\n",
       "      <td>5761.316079</td>\n",
       "      <td>89.102909</td>\n",
       "    </tr>\n",
       "  </tbody>\n",
       "</table>\n",
       "<p>5 rows × 47 columns</p>\n",
       "</div>"
      ],
      "text/plain": [
       "   song_id    filename      filepath  genre_id                genre  \\\n",
       "0  10150.0  010150.ogg   7/10150.wav       7.0         Instrumental   \n",
       "1   7358.0  007358.ogg    2/7358.wav       2.0                 Punk   \n",
       "2  20573.0  020573.ogg   5/20573.wav       5.0                 Folk   \n",
       "3  11170.0  011170.ogg  12/11170.wav      12.0  Old-Time / Historic   \n",
       "4  16662.0  016662.ogg   1/16662.wav       1.0                 Rock   \n",
       "\n",
       "       MFCC_1      MFCC_2      MFCC_3     MFCC_4     MFCC_5  ...  \\\n",
       "0 -211.066559  100.593956   42.598457  23.165283   2.860841  ...   \n",
       "1  -14.467098   99.263069   -2.664984  26.246733   2.537334  ...   \n",
       "2 -317.806274   90.202530  -36.330082  18.486454 -25.418125  ...   \n",
       "3 -264.162598  143.274414 -109.257156 -26.363281  -6.620979  ...   \n",
       "4    2.097910   85.692604   -1.235375  24.334158   1.336215  ...   \n",
       "\n",
       "   Spectral_contrast_1  Spectral_contrast_2  Spectral_contrast_3  \\\n",
       "0            21.386073            15.048431            19.512610   \n",
       "1            19.588156            15.563457            14.650135   \n",
       "2            20.266996            23.585947            26.534958   \n",
       "3            14.096315            24.104490            21.017506   \n",
       "4            20.933786            14.613464            16.905879   \n",
       "\n",
       "   Spectral_contrast_4  Spectral_contrast_5  Spectral_contrast_6  \\\n",
       "0            18.882236            18.863038            18.122647   \n",
       "1            15.127776            14.944055            15.950120   \n",
       "2            28.264729            27.093563            28.284045   \n",
       "3            21.392954            24.337095            36.129121   \n",
       "4            17.289535            17.331272            16.129306   \n",
       "\n",
       "   Spectral_contrast_7  Zero_crossing_rate  Spectral_Rolloff       Tempo  \n",
       "0            32.015794            0.077645       5338.702237   99.384014  \n",
       "1            32.152157            0.089975       4993.001050  129.199219  \n",
       "2            29.978877            0.084341       3569.498962  143.554688  \n",
       "3            29.047427            0.135823       2340.874012  143.554688  \n",
       "4            33.096209            0.125767       5761.316079   89.102909  \n",
       "\n",
       "[5 rows x 47 columns]"
      ]
     },
     "execution_count": 4,
     "metadata": {},
     "output_type": "execute_result"
    }
   ],
   "source": [
    "df.head()"
   ]
  },
  {
   "cell_type": "code",
   "execution_count": 3,
   "metadata": {},
   "outputs": [],
   "source": [
    "df =df.copy().drop(columns=[\"song_id\",\"filename\", \"filepath\"])"
   ]
  },
  {
   "cell_type": "code",
   "execution_count": 4,
   "metadata": {},
   "outputs": [
    {
     "data": {
      "text/html": [
       "<div>\n",
       "<style scoped>\n",
       "    .dataframe tbody tr th:only-of-type {\n",
       "        vertical-align: middle;\n",
       "    }\n",
       "\n",
       "    .dataframe tbody tr th {\n",
       "        vertical-align: top;\n",
       "    }\n",
       "\n",
       "    .dataframe thead th {\n",
       "        text-align: right;\n",
       "    }\n",
       "</style>\n",
       "<table border=\"1\" class=\"dataframe\">\n",
       "  <thead>\n",
       "    <tr style=\"text-align: right;\">\n",
       "      <th></th>\n",
       "      <th>genre</th>\n",
       "      <th>genre_id</th>\n",
       "    </tr>\n",
       "  </thead>\n",
       "  <tbody>\n",
       "    <tr>\n",
       "      <th>0</th>\n",
       "      <td>Electronic</td>\n",
       "      <td>0</td>\n",
       "    </tr>\n",
       "    <tr>\n",
       "      <th>1</th>\n",
       "      <td>Rock</td>\n",
       "      <td>1</td>\n",
       "    </tr>\n",
       "    <tr>\n",
       "      <th>2</th>\n",
       "      <td>Punk</td>\n",
       "      <td>2</td>\n",
       "    </tr>\n",
       "    <tr>\n",
       "      <th>3</th>\n",
       "      <td>Experimental</td>\n",
       "      <td>3</td>\n",
       "    </tr>\n",
       "    <tr>\n",
       "      <th>4</th>\n",
       "      <td>Hip-Hop</td>\n",
       "      <td>4</td>\n",
       "    </tr>\n",
       "    <tr>\n",
       "      <th>5</th>\n",
       "      <td>Folk</td>\n",
       "      <td>5</td>\n",
       "    </tr>\n",
       "    <tr>\n",
       "      <th>6</th>\n",
       "      <td>Chiptune / Glitch</td>\n",
       "      <td>6</td>\n",
       "    </tr>\n",
       "    <tr>\n",
       "      <th>7</th>\n",
       "      <td>Instrumental</td>\n",
       "      <td>7</td>\n",
       "    </tr>\n",
       "    <tr>\n",
       "      <th>8</th>\n",
       "      <td>Pop</td>\n",
       "      <td>8</td>\n",
       "    </tr>\n",
       "    <tr>\n",
       "      <th>9</th>\n",
       "      <td>International</td>\n",
       "      <td>9</td>\n",
       "    </tr>\n",
       "    <tr>\n",
       "      <th>10</th>\n",
       "      <td>Ambient Electronic</td>\n",
       "      <td>10</td>\n",
       "    </tr>\n",
       "    <tr>\n",
       "      <th>11</th>\n",
       "      <td>Classical</td>\n",
       "      <td>11</td>\n",
       "    </tr>\n",
       "    <tr>\n",
       "      <th>12</th>\n",
       "      <td>Old-Time / Historic</td>\n",
       "      <td>12</td>\n",
       "    </tr>\n",
       "    <tr>\n",
       "      <th>13</th>\n",
       "      <td>Jazz</td>\n",
       "      <td>13</td>\n",
       "    </tr>\n",
       "    <tr>\n",
       "      <th>14</th>\n",
       "      <td>Country</td>\n",
       "      <td>14</td>\n",
       "    </tr>\n",
       "    <tr>\n",
       "      <th>15</th>\n",
       "      <td>Soul-RnB</td>\n",
       "      <td>15</td>\n",
       "    </tr>\n",
       "    <tr>\n",
       "      <th>16</th>\n",
       "      <td>Spoken</td>\n",
       "      <td>16</td>\n",
       "    </tr>\n",
       "    <tr>\n",
       "      <th>17</th>\n",
       "      <td>Blues</td>\n",
       "      <td>17</td>\n",
       "    </tr>\n",
       "    <tr>\n",
       "      <th>18</th>\n",
       "      <td>Easy Listening</td>\n",
       "      <td>18</td>\n",
       "    </tr>\n",
       "  </tbody>\n",
       "</table>\n",
       "</div>"
      ],
      "text/plain": [
       "                  genre  genre_id\n",
       "0            Electronic         0\n",
       "1                  Rock         1\n",
       "2                  Punk         2\n",
       "3          Experimental         3\n",
       "4               Hip-Hop         4\n",
       "5                  Folk         5\n",
       "6     Chiptune / Glitch         6\n",
       "7          Instrumental         7\n",
       "8                   Pop         8\n",
       "9         International         9\n",
       "10   Ambient Electronic        10\n",
       "11            Classical        11\n",
       "12  Old-Time / Historic        12\n",
       "13                 Jazz        13\n",
       "14              Country        14\n",
       "15             Soul-RnB        15\n",
       "16               Spoken        16\n",
       "17                Blues        17\n",
       "18       Easy Listening        18"
      ]
     },
     "execution_count": 4,
     "metadata": {},
     "output_type": "execute_result"
    }
   ],
   "source": [
    "df_genres"
   ]
  },
  {
   "cell_type": "code",
   "execution_count": 6,
   "metadata": {},
   "outputs": [
    {
     "data": {
      "text/plain": [
       "genre\n",
       "Rock                   3093\n",
       "Electronic             3071\n",
       "Punk                   2582\n",
       "Experimental           1798\n",
       "Hip-Hop                1753\n",
       "Folk                   1214\n",
       "Chiptune / Glitch      1181\n",
       "Instrumental           1043\n",
       "Pop                     945\n",
       "International           813\n",
       "Ambient Electronic      794\n",
       "Classical               495\n",
       "Old-Time / Historic     408\n",
       "Jazz                    305\n",
       "Country                 142\n",
       "Soul-RnB                 94\n",
       "Spoken                   94\n",
       "Blues                    58\n",
       "Easy Listening           13\n",
       "Name: count, dtype: int64"
      ]
     },
     "execution_count": 6,
     "metadata": {},
     "output_type": "execute_result"
    }
   ],
   "source": [
    "df[\"genre\"].value_counts()"
   ]
  },
  {
   "cell_type": "code",
   "execution_count": 7,
   "metadata": {},
   "outputs": [
    {
     "name": "stdout",
     "output_type": "stream",
     "text": [
      "<class 'pandas.core.frame.DataFrame'>\n",
      "RangeIndex: 19896 entries, 0 to 19895\n",
      "Data columns (total 44 columns):\n",
      " #   Column               Non-Null Count  Dtype  \n",
      "---  ------               --------------  -----  \n",
      " 0   genre_id             19896 non-null  float64\n",
      " 1   genre                19896 non-null  object \n",
      " 2   MFCC_1               19896 non-null  float64\n",
      " 3   MFCC_2               19896 non-null  float64\n",
      " 4   MFCC_3               19896 non-null  float64\n",
      " 5   MFCC_4               19896 non-null  float64\n",
      " 6   MFCC_5               19896 non-null  float64\n",
      " 7   MFCC_6               19896 non-null  float64\n",
      " 8   MFCC_7               19896 non-null  float64\n",
      " 9   MFCC_8               19896 non-null  float64\n",
      " 10  MFCC_9               19896 non-null  float64\n",
      " 11  MFCC_10              19896 non-null  float64\n",
      " 12  MFCC_11              19896 non-null  float64\n",
      " 13  MFCC_12              19896 non-null  float64\n",
      " 14  MFCC_13              19896 non-null  float64\n",
      " 15  MFCC_14              19896 non-null  float64\n",
      " 16  MFCC_15              19896 non-null  float64\n",
      " 17  MFCC_16              19896 non-null  float64\n",
      " 18  MFCC_17              19896 non-null  float64\n",
      " 19  MFCC_18              19896 non-null  float64\n",
      " 20  MFCC_19              19896 non-null  float64\n",
      " 21  MFCC_20              19896 non-null  float64\n",
      " 22  Chroma_1             19896 non-null  float64\n",
      " 23  Chroma_2             19896 non-null  float64\n",
      " 24  Chroma_3             19896 non-null  float64\n",
      " 25  Chroma_4             19896 non-null  float64\n",
      " 26  Chroma_5             19896 non-null  float64\n",
      " 27  Chroma_6             19896 non-null  float64\n",
      " 28  Chroma_7             19896 non-null  float64\n",
      " 29  Chroma_8             19896 non-null  float64\n",
      " 30  Chroma_9             19896 non-null  float64\n",
      " 31  Chroma_10            19896 non-null  float64\n",
      " 32  Chroma_11            19896 non-null  float64\n",
      " 33  Chroma_12            19896 non-null  float64\n",
      " 34  Spectral_contrast_1  19896 non-null  float64\n",
      " 35  Spectral_contrast_2  19896 non-null  float64\n",
      " 36  Spectral_contrast_3  19896 non-null  float64\n",
      " 37  Spectral_contrast_4  19896 non-null  float64\n",
      " 38  Spectral_contrast_5  19896 non-null  float64\n",
      " 39  Spectral_contrast_6  19896 non-null  float64\n",
      " 40  Spectral_contrast_7  19896 non-null  float64\n",
      " 41  Zero_crossing_rate   19896 non-null  float64\n",
      " 42  Spectral_Rolloff     19896 non-null  float64\n",
      " 43  Tempo                19896 non-null  float64\n",
      "dtypes: float64(43), object(1)\n",
      "memory usage: 6.7+ MB\n"
     ]
    }
   ],
   "source": [
    "df.info()"
   ]
  },
  {
   "cell_type": "code",
   "execution_count": 8,
   "metadata": {},
   "outputs": [
    {
     "data": {
      "text/html": [
       "<div>\n",
       "<style scoped>\n",
       "    .dataframe tbody tr th:only-of-type {\n",
       "        vertical-align: middle;\n",
       "    }\n",
       "\n",
       "    .dataframe tbody tr th {\n",
       "        vertical-align: top;\n",
       "    }\n",
       "\n",
       "    .dataframe thead th {\n",
       "        text-align: right;\n",
       "    }\n",
       "</style>\n",
       "<table border=\"1\" class=\"dataframe\">\n",
       "  <thead>\n",
       "    <tr style=\"text-align: right;\">\n",
       "      <th></th>\n",
       "      <th>MFCC_1</th>\n",
       "      <th>MFCC_2</th>\n",
       "      <th>MFCC_3</th>\n",
       "      <th>MFCC_4</th>\n",
       "      <th>MFCC_5</th>\n",
       "      <th>MFCC_6</th>\n",
       "      <th>MFCC_7</th>\n",
       "      <th>MFCC_8</th>\n",
       "      <th>MFCC_9</th>\n",
       "      <th>MFCC_10</th>\n",
       "      <th>MFCC_11</th>\n",
       "      <th>MFCC_12</th>\n",
       "      <th>MFCC_13</th>\n",
       "      <th>MFCC_14</th>\n",
       "      <th>MFCC_15</th>\n",
       "      <th>MFCC_16</th>\n",
       "    </tr>\n",
       "  </thead>\n",
       "  <tbody>\n",
       "    <tr>\n",
       "      <th>count</th>\n",
       "      <td>19896.000000</td>\n",
       "      <td>19896.000000</td>\n",
       "      <td>19896.000000</td>\n",
       "      <td>19896.000000</td>\n",
       "      <td>19896.000000</td>\n",
       "      <td>19896.000000</td>\n",
       "      <td>19896.000000</td>\n",
       "      <td>19896.000000</td>\n",
       "      <td>19896.000000</td>\n",
       "      <td>19896.000000</td>\n",
       "      <td>19896.000000</td>\n",
       "      <td>19896.000000</td>\n",
       "      <td>19896.000000</td>\n",
       "      <td>19896.000000</td>\n",
       "      <td>19896.000000</td>\n",
       "      <td>19896.000000</td>\n",
       "    </tr>\n",
       "    <tr>\n",
       "      <th>mean</th>\n",
       "      <td>-125.529577</td>\n",
       "      <td>107.025857</td>\n",
       "      <td>-2.346933</td>\n",
       "      <td>24.861780</td>\n",
       "      <td>3.295273</td>\n",
       "      <td>7.536611</td>\n",
       "      <td>-2.163937</td>\n",
       "      <td>5.199909</td>\n",
       "      <td>-4.229629</td>\n",
       "      <td>3.348219</td>\n",
       "      <td>-4.079369</td>\n",
       "      <td>2.064430</td>\n",
       "      <td>-3.739160</td>\n",
       "      <td>0.586410</td>\n",
       "      <td>-3.717505</td>\n",
       "      <td>0.525599</td>\n",
       "    </tr>\n",
       "    <tr>\n",
       "      <th>std</th>\n",
       "      <td>105.741669</td>\n",
       "      <td>37.388118</td>\n",
       "      <td>28.032483</td>\n",
       "      <td>16.663842</td>\n",
       "      <td>11.998561</td>\n",
       "      <td>11.692374</td>\n",
       "      <td>8.995963</td>\n",
       "      <td>8.655868</td>\n",
       "      <td>7.282791</td>\n",
       "      <td>7.527119</td>\n",
       "      <td>6.253168</td>\n",
       "      <td>6.269562</td>\n",
       "      <td>5.634275</td>\n",
       "      <td>5.499151</td>\n",
       "      <td>5.113756</td>\n",
       "      <td>5.058201</td>\n",
       "    </tr>\n",
       "    <tr>\n",
       "      <th>min</th>\n",
       "      <td>-1131.371094</td>\n",
       "      <td>-112.040459</td>\n",
       "      <td>-151.548508</td>\n",
       "      <td>-79.652138</td>\n",
       "      <td>-68.739540</td>\n",
       "      <td>-68.036690</td>\n",
       "      <td>-62.397160</td>\n",
       "      <td>-52.233746</td>\n",
       "      <td>-57.517368</td>\n",
       "      <td>-56.403454</td>\n",
       "      <td>-40.476368</td>\n",
       "      <td>-41.703449</td>\n",
       "      <td>-37.050411</td>\n",
       "      <td>-32.315281</td>\n",
       "      <td>-33.212963</td>\n",
       "      <td>-30.623035</td>\n",
       "    </tr>\n",
       "    <tr>\n",
       "      <th>25%</th>\n",
       "      <td>-186.193954</td>\n",
       "      <td>81.860443</td>\n",
       "      <td>-17.463277</td>\n",
       "      <td>16.825820</td>\n",
       "      <td>-3.129947</td>\n",
       "      <td>2.315091</td>\n",
       "      <td>-6.737430</td>\n",
       "      <td>0.965373</td>\n",
       "      <td>-8.254426</td>\n",
       "      <td>-0.274014</td>\n",
       "      <td>-7.610224</td>\n",
       "      <td>-1.202316</td>\n",
       "      <td>-6.964537</td>\n",
       "      <td>-2.592473</td>\n",
       "      <td>-6.862871</td>\n",
       "      <td>-2.485354</td>\n",
       "    </tr>\n",
       "    <tr>\n",
       "      <th>50%</th>\n",
       "      <td>-107.098255</td>\n",
       "      <td>102.740917</td>\n",
       "      <td>-0.470232</td>\n",
       "      <td>25.883094</td>\n",
       "      <td>3.988434</td>\n",
       "      <td>8.820339</td>\n",
       "      <td>-1.524653</td>\n",
       "      <td>6.350443</td>\n",
       "      <td>-3.703821</td>\n",
       "      <td>4.393819</td>\n",
       "      <td>-3.653449</td>\n",
       "      <td>2.784689</td>\n",
       "      <td>-3.472710</td>\n",
       "      <td>0.972205</td>\n",
       "      <td>-3.659696</td>\n",
       "      <td>0.840910</td>\n",
       "    </tr>\n",
       "    <tr>\n",
       "      <th>75%</th>\n",
       "      <td>-49.061788</td>\n",
       "      <td>127.787195</td>\n",
       "      <td>14.822614</td>\n",
       "      <td>34.670825</td>\n",
       "      <td>10.600910</td>\n",
       "      <td>14.651928</td>\n",
       "      <td>3.269604</td>\n",
       "      <td>10.742924</td>\n",
       "      <td>0.458932</td>\n",
       "      <td>8.097850</td>\n",
       "      <td>-0.109212</td>\n",
       "      <td>6.110394</td>\n",
       "      <td>-0.238409</td>\n",
       "      <td>4.147237</td>\n",
       "      <td>-0.531742</td>\n",
       "      <td>3.760784</td>\n",
       "    </tr>\n",
       "    <tr>\n",
       "      <th>max</th>\n",
       "      <td>166.331284</td>\n",
       "      <td>270.481567</td>\n",
       "      <td>125.074623</td>\n",
       "      <td>114.889336</td>\n",
       "      <td>57.390705</td>\n",
       "      <td>57.963482</td>\n",
       "      <td>59.400078</td>\n",
       "      <td>42.303043</td>\n",
       "      <td>30.863672</td>\n",
       "      <td>56.384342</td>\n",
       "      <td>37.253342</td>\n",
       "      <td>35.237431</td>\n",
       "      <td>26.417503</td>\n",
       "      <td>34.161304</td>\n",
       "      <td>30.597403</td>\n",
       "      <td>32.301743</td>\n",
       "    </tr>\n",
       "  </tbody>\n",
       "</table>\n",
       "</div>"
      ],
      "text/plain": [
       "             MFCC_1        MFCC_2        MFCC_3        MFCC_4        MFCC_5  \\\n",
       "count  19896.000000  19896.000000  19896.000000  19896.000000  19896.000000   \n",
       "mean    -125.529577    107.025857     -2.346933     24.861780      3.295273   \n",
       "std      105.741669     37.388118     28.032483     16.663842     11.998561   \n",
       "min    -1131.371094   -112.040459   -151.548508    -79.652138    -68.739540   \n",
       "25%     -186.193954     81.860443    -17.463277     16.825820     -3.129947   \n",
       "50%     -107.098255    102.740917     -0.470232     25.883094      3.988434   \n",
       "75%      -49.061788    127.787195     14.822614     34.670825     10.600910   \n",
       "max      166.331284    270.481567    125.074623    114.889336     57.390705   \n",
       "\n",
       "             MFCC_6        MFCC_7        MFCC_8        MFCC_9       MFCC_10  \\\n",
       "count  19896.000000  19896.000000  19896.000000  19896.000000  19896.000000   \n",
       "mean       7.536611     -2.163937      5.199909     -4.229629      3.348219   \n",
       "std       11.692374      8.995963      8.655868      7.282791      7.527119   \n",
       "min      -68.036690    -62.397160    -52.233746    -57.517368    -56.403454   \n",
       "25%        2.315091     -6.737430      0.965373     -8.254426     -0.274014   \n",
       "50%        8.820339     -1.524653      6.350443     -3.703821      4.393819   \n",
       "75%       14.651928      3.269604     10.742924      0.458932      8.097850   \n",
       "max       57.963482     59.400078     42.303043     30.863672     56.384342   \n",
       "\n",
       "            MFCC_11       MFCC_12       MFCC_13       MFCC_14       MFCC_15  \\\n",
       "count  19896.000000  19896.000000  19896.000000  19896.000000  19896.000000   \n",
       "mean      -4.079369      2.064430     -3.739160      0.586410     -3.717505   \n",
       "std        6.253168      6.269562      5.634275      5.499151      5.113756   \n",
       "min      -40.476368    -41.703449    -37.050411    -32.315281    -33.212963   \n",
       "25%       -7.610224     -1.202316     -6.964537     -2.592473     -6.862871   \n",
       "50%       -3.653449      2.784689     -3.472710      0.972205     -3.659696   \n",
       "75%       -0.109212      6.110394     -0.238409      4.147237     -0.531742   \n",
       "max       37.253342     35.237431     26.417503     34.161304     30.597403   \n",
       "\n",
       "            MFCC_16  \n",
       "count  19896.000000  \n",
       "mean       0.525599  \n",
       "std        5.058201  \n",
       "min      -30.623035  \n",
       "25%       -2.485354  \n",
       "50%        0.840910  \n",
       "75%        3.760784  \n",
       "max       32.301743  "
      ]
     },
     "execution_count": 8,
     "metadata": {},
     "output_type": "execute_result"
    }
   ],
   "source": [
    "df.drop(columns=[\"genre_id\"]).iloc[:, :17].describe()"
   ]
  },
  {
   "cell_type": "code",
   "execution_count": 9,
   "metadata": {},
   "outputs": [
    {
     "data": {
      "text/html": [
       "<div>\n",
       "<style scoped>\n",
       "    .dataframe tbody tr th:only-of-type {\n",
       "        vertical-align: middle;\n",
       "    }\n",
       "\n",
       "    .dataframe tbody tr th {\n",
       "        vertical-align: top;\n",
       "    }\n",
       "\n",
       "    .dataframe thead th {\n",
       "        text-align: right;\n",
       "    }\n",
       "</style>\n",
       "<table border=\"1\" class=\"dataframe\">\n",
       "  <thead>\n",
       "    <tr style=\"text-align: right;\">\n",
       "      <th></th>\n",
       "      <th>MFCC_16</th>\n",
       "      <th>MFCC_17</th>\n",
       "      <th>MFCC_18</th>\n",
       "      <th>MFCC_19</th>\n",
       "      <th>MFCC_20</th>\n",
       "      <th>Chroma_1</th>\n",
       "      <th>Chroma_2</th>\n",
       "      <th>Chroma_3</th>\n",
       "      <th>Chroma_4</th>\n",
       "      <th>Chroma_5</th>\n",
       "      <th>Chroma_6</th>\n",
       "      <th>Chroma_7</th>\n",
       "      <th>Chroma_8</th>\n",
       "      <th>Chroma_9</th>\n",
       "      <th>Chroma_10</th>\n",
       "    </tr>\n",
       "  </thead>\n",
       "  <tbody>\n",
       "    <tr>\n",
       "      <th>count</th>\n",
       "      <td>19896.000000</td>\n",
       "      <td>19896.000000</td>\n",
       "      <td>19896.000000</td>\n",
       "      <td>19896.000000</td>\n",
       "      <td>19896.000000</td>\n",
       "      <td>19896.000000</td>\n",
       "      <td>19896.000000</td>\n",
       "      <td>19896.000000</td>\n",
       "      <td>19896.000000</td>\n",
       "      <td>19896.000000</td>\n",
       "      <td>19896.000000</td>\n",
       "      <td>19896.000000</td>\n",
       "      <td>19896.000000</td>\n",
       "      <td>19896.000000</td>\n",
       "      <td>19896.000000</td>\n",
       "    </tr>\n",
       "    <tr>\n",
       "      <th>mean</th>\n",
       "      <td>0.525599</td>\n",
       "      <td>-4.052295</td>\n",
       "      <td>0.683122</td>\n",
       "      <td>-3.684246</td>\n",
       "      <td>0.636031</td>\n",
       "      <td>0.394841</td>\n",
       "      <td>0.373253</td>\n",
       "      <td>0.400789</td>\n",
       "      <td>0.379559</td>\n",
       "      <td>0.404878</td>\n",
       "      <td>0.379004</td>\n",
       "      <td>0.377137</td>\n",
       "      <td>0.402577</td>\n",
       "      <td>0.388739</td>\n",
       "      <td>0.415169</td>\n",
       "    </tr>\n",
       "    <tr>\n",
       "      <th>std</th>\n",
       "      <td>5.058201</td>\n",
       "      <td>4.983868</td>\n",
       "      <td>4.546899</td>\n",
       "      <td>4.433484</td>\n",
       "      <td>4.638554</td>\n",
       "      <td>0.147545</td>\n",
       "      <td>0.135814</td>\n",
       "      <td>0.144894</td>\n",
       "      <td>0.137541</td>\n",
       "      <td>0.147626</td>\n",
       "      <td>0.142384</td>\n",
       "      <td>0.138648</td>\n",
       "      <td>0.146102</td>\n",
       "      <td>0.142746</td>\n",
       "      <td>0.150790</td>\n",
       "    </tr>\n",
       "    <tr>\n",
       "      <th>min</th>\n",
       "      <td>-30.623035</td>\n",
       "      <td>-45.737411</td>\n",
       "      <td>-40.808502</td>\n",
       "      <td>-36.947407</td>\n",
       "      <td>-21.776045</td>\n",
       "      <td>0.000000</td>\n",
       "      <td>0.000000</td>\n",
       "      <td>0.000000</td>\n",
       "      <td>0.000000</td>\n",
       "      <td>0.000000</td>\n",
       "      <td>0.000000</td>\n",
       "      <td>0.000000</td>\n",
       "      <td>0.000000</td>\n",
       "      <td>0.000000</td>\n",
       "      <td>0.000000</td>\n",
       "    </tr>\n",
       "    <tr>\n",
       "      <th>25%</th>\n",
       "      <td>-2.485354</td>\n",
       "      <td>-7.127872</td>\n",
       "      <td>-1.996701</td>\n",
       "      <td>-6.397865</td>\n",
       "      <td>-2.102943</td>\n",
       "      <td>0.292105</td>\n",
       "      <td>0.278336</td>\n",
       "      <td>0.301312</td>\n",
       "      <td>0.284451</td>\n",
       "      <td>0.303224</td>\n",
       "      <td>0.280556</td>\n",
       "      <td>0.281642</td>\n",
       "      <td>0.302649</td>\n",
       "      <td>0.289009</td>\n",
       "      <td>0.311090</td>\n",
       "    </tr>\n",
       "    <tr>\n",
       "      <th>50%</th>\n",
       "      <td>0.840910</td>\n",
       "      <td>-4.095992</td>\n",
       "      <td>0.883036</td>\n",
       "      <td>-3.700778</td>\n",
       "      <td>0.757596</td>\n",
       "      <td>0.386922</td>\n",
       "      <td>0.366621</td>\n",
       "      <td>0.395801</td>\n",
       "      <td>0.375123</td>\n",
       "      <td>0.402584</td>\n",
       "      <td>0.374333</td>\n",
       "      <td>0.373035</td>\n",
       "      <td>0.399716</td>\n",
       "      <td>0.383609</td>\n",
       "      <td>0.411278</td>\n",
       "    </tr>\n",
       "    <tr>\n",
       "      <th>75%</th>\n",
       "      <td>3.760784</td>\n",
       "      <td>-1.145319</td>\n",
       "      <td>3.574479</td>\n",
       "      <td>-1.050231</td>\n",
       "      <td>3.439114</td>\n",
       "      <td>0.488513</td>\n",
       "      <td>0.458647</td>\n",
       "      <td>0.492910</td>\n",
       "      <td>0.469885</td>\n",
       "      <td>0.502534</td>\n",
       "      <td>0.469947</td>\n",
       "      <td>0.466724</td>\n",
       "      <td>0.496996</td>\n",
       "      <td>0.479327</td>\n",
       "      <td>0.513670</td>\n",
       "    </tr>\n",
       "    <tr>\n",
       "      <th>max</th>\n",
       "      <td>32.301743</td>\n",
       "      <td>28.270512</td>\n",
       "      <td>33.262329</td>\n",
       "      <td>30.909306</td>\n",
       "      <td>38.092606</td>\n",
       "      <td>1.000000</td>\n",
       "      <td>0.992787</td>\n",
       "      <td>0.996922</td>\n",
       "      <td>1.000000</td>\n",
       "      <td>0.999521</td>\n",
       "      <td>0.999658</td>\n",
       "      <td>0.999729</td>\n",
       "      <td>1.000000</td>\n",
       "      <td>0.997452</td>\n",
       "      <td>0.990514</td>\n",
       "    </tr>\n",
       "  </tbody>\n",
       "</table>\n",
       "</div>"
      ],
      "text/plain": [
       "            MFCC_16       MFCC_17       MFCC_18       MFCC_19       MFCC_20  \\\n",
       "count  19896.000000  19896.000000  19896.000000  19896.000000  19896.000000   \n",
       "mean       0.525599     -4.052295      0.683122     -3.684246      0.636031   \n",
       "std        5.058201      4.983868      4.546899      4.433484      4.638554   \n",
       "min      -30.623035    -45.737411    -40.808502    -36.947407    -21.776045   \n",
       "25%       -2.485354     -7.127872     -1.996701     -6.397865     -2.102943   \n",
       "50%        0.840910     -4.095992      0.883036     -3.700778      0.757596   \n",
       "75%        3.760784     -1.145319      3.574479     -1.050231      3.439114   \n",
       "max       32.301743     28.270512     33.262329     30.909306     38.092606   \n",
       "\n",
       "           Chroma_1      Chroma_2      Chroma_3      Chroma_4      Chroma_5  \\\n",
       "count  19896.000000  19896.000000  19896.000000  19896.000000  19896.000000   \n",
       "mean       0.394841      0.373253      0.400789      0.379559      0.404878   \n",
       "std        0.147545      0.135814      0.144894      0.137541      0.147626   \n",
       "min        0.000000      0.000000      0.000000      0.000000      0.000000   \n",
       "25%        0.292105      0.278336      0.301312      0.284451      0.303224   \n",
       "50%        0.386922      0.366621      0.395801      0.375123      0.402584   \n",
       "75%        0.488513      0.458647      0.492910      0.469885      0.502534   \n",
       "max        1.000000      0.992787      0.996922      1.000000      0.999521   \n",
       "\n",
       "           Chroma_6      Chroma_7      Chroma_8      Chroma_9     Chroma_10  \n",
       "count  19896.000000  19896.000000  19896.000000  19896.000000  19896.000000  \n",
       "mean       0.379004      0.377137      0.402577      0.388739      0.415169  \n",
       "std        0.142384      0.138648      0.146102      0.142746      0.150790  \n",
       "min        0.000000      0.000000      0.000000      0.000000      0.000000  \n",
       "25%        0.280556      0.281642      0.302649      0.289009      0.311090  \n",
       "50%        0.374333      0.373035      0.399716      0.383609      0.411278  \n",
       "75%        0.469947      0.466724      0.496996      0.479327      0.513670  \n",
       "max        0.999658      0.999729      1.000000      0.997452      0.990514  "
      ]
     },
     "execution_count": 9,
     "metadata": {},
     "output_type": "execute_result"
    }
   ],
   "source": [
    "df.iloc[:, 17:32].describe()"
   ]
  },
  {
   "cell_type": "code",
   "execution_count": 10,
   "metadata": {},
   "outputs": [
    {
     "data": {
      "text/html": [
       "<div>\n",
       "<style scoped>\n",
       "    .dataframe tbody tr th:only-of-type {\n",
       "        vertical-align: middle;\n",
       "    }\n",
       "\n",
       "    .dataframe tbody tr th {\n",
       "        vertical-align: top;\n",
       "    }\n",
       "\n",
       "    .dataframe thead th {\n",
       "        text-align: right;\n",
       "    }\n",
       "</style>\n",
       "<table border=\"1\" class=\"dataframe\">\n",
       "  <thead>\n",
       "    <tr style=\"text-align: right;\">\n",
       "      <th></th>\n",
       "      <th>Chroma_11</th>\n",
       "      <th>Chroma_12</th>\n",
       "      <th>Spectral_contrast_1</th>\n",
       "      <th>Spectral_contrast_2</th>\n",
       "      <th>Spectral_contrast_3</th>\n",
       "      <th>Spectral_contrast_4</th>\n",
       "      <th>Spectral_contrast_5</th>\n",
       "      <th>Spectral_contrast_6</th>\n",
       "      <th>Spectral_contrast_7</th>\n",
       "      <th>Zero_crossing_rate</th>\n",
       "      <th>Spectral_Rolloff</th>\n",
       "      <th>Tempo</th>\n",
       "    </tr>\n",
       "  </thead>\n",
       "  <tbody>\n",
       "    <tr>\n",
       "      <th>count</th>\n",
       "      <td>19896.000000</td>\n",
       "      <td>19896.000000</td>\n",
       "      <td>19896.000000</td>\n",
       "      <td>19896.000000</td>\n",
       "      <td>19896.000000</td>\n",
       "      <td>19896.000000</td>\n",
       "      <td>19896.000000</td>\n",
       "      <td>19896.000000</td>\n",
       "      <td>19896.000000</td>\n",
       "      <td>19896.000000</td>\n",
       "      <td>19896.000000</td>\n",
       "      <td>19896.000000</td>\n",
       "    </tr>\n",
       "    <tr>\n",
       "      <th>mean</th>\n",
       "      <td>0.381686</td>\n",
       "      <td>0.397382</td>\n",
       "      <td>20.274966</td>\n",
       "      <td>15.783819</td>\n",
       "      <td>18.789901</td>\n",
       "      <td>19.005855</td>\n",
       "      <td>19.726566</td>\n",
       "      <td>19.842773</td>\n",
       "      <td>30.985556</td>\n",
       "      <td>0.089358</td>\n",
       "      <td>4167.355487</td>\n",
       "      <td>120.311502</td>\n",
       "    </tr>\n",
       "    <tr>\n",
       "      <th>std</th>\n",
       "      <td>0.139467</td>\n",
       "      <td>0.143476</td>\n",
       "      <td>3.254313</td>\n",
       "      <td>2.638141</td>\n",
       "      <td>2.974636</td>\n",
       "      <td>3.297671</td>\n",
       "      <td>3.805465</td>\n",
       "      <td>4.054305</td>\n",
       "      <td>3.727734</td>\n",
       "      <td>0.047631</td>\n",
       "      <td>1620.235004</td>\n",
       "      <td>29.184974</td>\n",
       "    </tr>\n",
       "    <tr>\n",
       "      <th>min</th>\n",
       "      <td>0.000000</td>\n",
       "      <td>0.000000</td>\n",
       "      <td>0.000000</td>\n",
       "      <td>0.000000</td>\n",
       "      <td>0.000000</td>\n",
       "      <td>0.000000</td>\n",
       "      <td>0.000000</td>\n",
       "      <td>0.000000</td>\n",
       "      <td>0.000000</td>\n",
       "      <td>0.000000</td>\n",
       "      <td>0.000000</td>\n",
       "      <td>0.000000</td>\n",
       "    </tr>\n",
       "    <tr>\n",
       "      <th>25%</th>\n",
       "      <td>0.285248</td>\n",
       "      <td>0.297084</td>\n",
       "      <td>18.169184</td>\n",
       "      <td>13.950327</td>\n",
       "      <td>16.677622</td>\n",
       "      <td>16.709068</td>\n",
       "      <td>17.102185</td>\n",
       "      <td>17.183646</td>\n",
       "      <td>29.682103</td>\n",
       "      <td>0.057199</td>\n",
       "      <td>3004.747827</td>\n",
       "      <td>99.384014</td>\n",
       "    </tr>\n",
       "    <tr>\n",
       "      <th>50%</th>\n",
       "      <td>0.376698</td>\n",
       "      <td>0.395038</td>\n",
       "      <td>20.239675</td>\n",
       "      <td>15.288925</td>\n",
       "      <td>18.368082</td>\n",
       "      <td>18.333348</td>\n",
       "      <td>18.786448</td>\n",
       "      <td>18.737786</td>\n",
       "      <td>31.506499</td>\n",
       "      <td>0.082599</td>\n",
       "      <td>4230.090171</td>\n",
       "      <td>117.453835</td>\n",
       "    </tr>\n",
       "    <tr>\n",
       "      <th>75%</th>\n",
       "      <td>0.471785</td>\n",
       "      <td>0.492563</td>\n",
       "      <td>22.248898</td>\n",
       "      <td>17.176340</td>\n",
       "      <td>20.569329</td>\n",
       "      <td>20.703841</td>\n",
       "      <td>21.389702</td>\n",
       "      <td>21.259545</td>\n",
       "      <td>33.052547</td>\n",
       "      <td>0.112040</td>\n",
       "      <td>5307.557197</td>\n",
       "      <td>135.999178</td>\n",
       "    </tr>\n",
       "    <tr>\n",
       "      <th>max</th>\n",
       "      <td>0.993770</td>\n",
       "      <td>0.994085</td>\n",
       "      <td>36.523549</td>\n",
       "      <td>41.833879</td>\n",
       "      <td>44.656410</td>\n",
       "      <td>45.983442</td>\n",
       "      <td>46.357321</td>\n",
       "      <td>50.009554</td>\n",
       "      <td>54.056539</td>\n",
       "      <td>0.759138</td>\n",
       "      <td>9965.761556</td>\n",
       "      <td>287.109375</td>\n",
       "    </tr>\n",
       "  </tbody>\n",
       "</table>\n",
       "</div>"
      ],
      "text/plain": [
       "          Chroma_11     Chroma_12  Spectral_contrast_1  Spectral_contrast_2  \\\n",
       "count  19896.000000  19896.000000         19896.000000         19896.000000   \n",
       "mean       0.381686      0.397382            20.274966            15.783819   \n",
       "std        0.139467      0.143476             3.254313             2.638141   \n",
       "min        0.000000      0.000000             0.000000             0.000000   \n",
       "25%        0.285248      0.297084            18.169184            13.950327   \n",
       "50%        0.376698      0.395038            20.239675            15.288925   \n",
       "75%        0.471785      0.492563            22.248898            17.176340   \n",
       "max        0.993770      0.994085            36.523549            41.833879   \n",
       "\n",
       "       Spectral_contrast_3  Spectral_contrast_4  Spectral_contrast_5  \\\n",
       "count         19896.000000         19896.000000         19896.000000   \n",
       "mean             18.789901            19.005855            19.726566   \n",
       "std               2.974636             3.297671             3.805465   \n",
       "min               0.000000             0.000000             0.000000   \n",
       "25%              16.677622            16.709068            17.102185   \n",
       "50%              18.368082            18.333348            18.786448   \n",
       "75%              20.569329            20.703841            21.389702   \n",
       "max              44.656410            45.983442            46.357321   \n",
       "\n",
       "       Spectral_contrast_6  Spectral_contrast_7  Zero_crossing_rate  \\\n",
       "count         19896.000000         19896.000000        19896.000000   \n",
       "mean             19.842773            30.985556            0.089358   \n",
       "std               4.054305             3.727734            0.047631   \n",
       "min               0.000000             0.000000            0.000000   \n",
       "25%              17.183646            29.682103            0.057199   \n",
       "50%              18.737786            31.506499            0.082599   \n",
       "75%              21.259545            33.052547            0.112040   \n",
       "max              50.009554            54.056539            0.759138   \n",
       "\n",
       "       Spectral_Rolloff         Tempo  \n",
       "count      19896.000000  19896.000000  \n",
       "mean        4167.355487    120.311502  \n",
       "std         1620.235004     29.184974  \n",
       "min            0.000000      0.000000  \n",
       "25%         3004.747827     99.384014  \n",
       "50%         4230.090171    117.453835  \n",
       "75%         5307.557197    135.999178  \n",
       "max         9965.761556    287.109375  "
      ]
     },
     "execution_count": 10,
     "metadata": {},
     "output_type": "execute_result"
    }
   ],
   "source": [
    "df.iloc[:, 32:].describe()"
   ]
  },
  {
   "cell_type": "code",
   "execution_count": 11,
   "metadata": {},
   "outputs": [
    {
     "data": {
      "image/png": "[encoded data removed]",
      "text/plain": [
       "<Figure size 1000x1000 with 2 Axes>"
      ]
     },
     "metadata": {},
     "output_type": "display_data"
    }
   ],
   "source": [
    "plt.figure(figsize=(10,10))\n",
    "\n",
    "sns.heatmap(df.corr(numeric_only=True), cmap=\"coolwarm\", vmin=-1);"
   ]
  },
  {
   "cell_type": "code",
   "execution_count": 12,
   "metadata": {},
   "outputs": [
    {
     "data": {
      "image/png": "[encoded data removed]",
      "text/plain": [
       "<Figure size 1000x1000 with 2 Axes>"
      ]
     },
     "metadata": {},
     "output_type": "display_data"
    }
   ],
   "source": [
    "plt.figure(figsize=(10,10))\n",
    "\n",
    "sns.heatmap(df[['genre_id', 'MFCC_1', 'MFCC_2', 'MFCC_3', 'MFCC_4', 'MFCC_5', 'MFCC_6',\n",
    "       'MFCC_7', 'MFCC_8', 'MFCC_9', 'MFCC_10', 'MFCC_11', 'MFCC_12',\n",
    "       'MFCC_13', 'MFCC_14', 'MFCC_15', 'MFCC_16', 'MFCC_17', 'MFCC_18',\n",
    "       'MFCC_19', 'MFCC_20']].corr(numeric_only=True), cmap=\"coolwarm\", vmin=-1);"
   ]
  },
  {
   "cell_type": "code",
   "execution_count": 13,
   "metadata": {},
   "outputs": [
    {
     "data": {
      "image/png": "[encoded data removed]",
      "text/plain": [
       "<Figure size 1000x1000 with 2 Axes>"
      ]
     },
     "metadata": {},
     "output_type": "display_data"
    }
   ],
   "source": [
    "plt.figure(figsize=(10,10))\n",
    "\n",
    "sns.heatmap(df[['genre_id','Chroma_1', 'Chroma_2', 'Chroma_3', 'Chroma_4',\n",
    "       'Chroma_5', 'Chroma_6', 'Chroma_7', 'Chroma_8', 'Chroma_9', 'Chroma_10',\n",
    "       'Chroma_11', 'Chroma_12', 'Spectral_contrast_1', 'Spectral_contrast_2',\n",
    "       'Spectral_contrast_3', 'Spectral_contrast_4', 'Spectral_contrast_5',\n",
    "       'Spectral_contrast_6', 'Spectral_contrast_7', 'Zero_crossing_rate',\n",
    "       'Spectral_Rolloff', 'Tempo']].corr(numeric_only=True), cmap=\"coolwarm\", vmin=-1);"
   ]
  },
  {
   "cell_type": "markdown",
   "metadata": {},
   "source": [
    "### Conclusion:\n",
    "Tanto el chroma, como  el spectral contrast, como el spectral Rolloff y tempo tienen 0 correlación con el  target. Mientras que los MFCC's si que se aprecia correlacion, aunque no en todos de los 20. No obstante al representar momentos de una canción se trabajará con los 20.\n",
    "\n",
    "Además siendo las unidades de cada uno muy diferentes se normalizarán los datos."
   ]
  },
  {
   "cell_type": "code",
   "execution_count": 14,
   "metadata": {},
   "outputs": [],
   "source": [
    "df = df.copy().drop(columns=['Chroma_1', 'Chroma_2', 'Chroma_3', 'Chroma_4',\n",
    "       'Chroma_5', 'Chroma_6', 'Chroma_7', 'Chroma_8', 'Chroma_9', 'Chroma_10',\n",
    "       'Chroma_11', 'Chroma_12', 'Spectral_contrast_1', 'Spectral_contrast_2',\n",
    "       'Spectral_contrast_3', 'Spectral_contrast_4', 'Spectral_contrast_5',\n",
    "       'Spectral_contrast_6', 'Spectral_contrast_7', 'Zero_crossing_rate',\n",
    "       'Spectral_Rolloff', 'Tempo'])"
   ]
  },
  {
   "cell_type": "code",
   "execution_count": 15,
   "metadata": {},
   "outputs": [
    {
     "name": "stdout",
     "output_type": "stream",
     "text": [
      "<class 'pandas.core.frame.DataFrame'>\n",
      "RangeIndex: 19896 entries, 0 to 19895\n",
      "Data columns (total 22 columns):\n",
      " #   Column    Non-Null Count  Dtype  \n",
      "---  ------    --------------  -----  \n",
      " 0   genre_id  19896 non-null  float64\n",
      " 1   genre     19896 non-null  object \n",
      " 2   MFCC_1    19896 non-null  float64\n",
      " 3   MFCC_2    19896 non-null  float64\n",
      " 4   MFCC_3    19896 non-null  float64\n",
      " 5   MFCC_4    19896 non-null  float64\n",
      " 6   MFCC_5    19896 non-null  float64\n",
      " 7   MFCC_6    19896 non-null  float64\n",
      " 8   MFCC_7    19896 non-null  float64\n",
      " 9   MFCC_8    19896 non-null  float64\n",
      " 10  MFCC_9    19896 non-null  float64\n",
      " 11  MFCC_10   19896 non-null  float64\n",
      " 12  MFCC_11   19896 non-null  float64\n",
      " 13  MFCC_12   19896 non-null  float64\n",
      " 14  MFCC_13   19896 non-null  float64\n",
      " 15  MFCC_14   19896 non-null  float64\n",
      " 16  MFCC_15   19896 non-null  float64\n",
      " 17  MFCC_16   19896 non-null  float64\n",
      " 18  MFCC_17   19896 non-null  float64\n",
      " 19  MFCC_18   19896 non-null  float64\n",
      " 20  MFCC_19   19896 non-null  float64\n",
      " 21  MFCC_20   19896 non-null  float64\n",
      "dtypes: float64(21), object(1)\n",
      "memory usage: 3.3+ MB\n"
     ]
    }
   ],
   "source": [
    "df.info()"
   ]
  },
  {
   "cell_type": "code",
   "execution_count": null,
   "metadata": {},
   "outputs": [
    {
     "data": {
      "image/png": "[encoded data removed]",
      "text/plain": [
       "<Figure size 2000x1500 with 20 Axes>"
      ]
     },
     "metadata": {},
     "output_type": "display_data"
    }
   ],
   "source": [
    "fig, axes = plt.subplots(5, 4, figsize=(20, 15))  \n",
    "fig.suptitle(\"Distribución de MFCCs\", fontsize=16)\n",
    "\n",
    "# Generar los boxplots en cada subplot\n",
    "for i, col in enumerate(df.drop(columns=[\"genre_id\", \"genre\"])):\n",
    "    row, col_idx = divmod(i, 4) \n",
    "    sns.boxplot(y=df[col], ax=axes[row, col_idx])\n",
    "    axes[row, col_idx].set_title(col)\n",
    "    \n",
    "plt.tight_layout(rect=[0, 0, 1, 0.96])  # Ajustar para que no se sobreponga con el título\n",
    "plt.show()"
   ]
  },
  {
   "cell_type": "code",
   "execution_count": 45,
   "metadata": {},
   "outputs": [
    {
     "data": {
      "image/png": "[encoded data removed]",
      "text/plain": [
       "<Figure size 1000x1000 with 1 Axes>"
      ]
     },
     "metadata": {},
     "output_type": "display_data"
    }
   ],
   "source": [
    "plt.figure(figsize=(10,10))\n",
    "sns.countplot(x=df[\"genre\"], order=df[\"genre\"].value_counts().index, hue=df[\"genre\"], palette=\"Spectral\", legend=False)\n",
    "\n",
    "plt.title(\"Distribución de Géneros\", fontsize=14)\n",
    "plt.xlabel(\"Género\")\n",
    "plt.ylabel(\"Frecuencia\")\n",
    "plt.xticks(rotation=90)\n",
    "\n",
    "plt.show()"
   ]
  },
  {
   "cell_type": "markdown",
   "metadata": {},
   "source": [
    "Debido al desbalanceo de la variable target se explorarán distantas opciones como agrupar por generos similares, o suprimir generos que puedan ser similares o tengan características que puedan confundirse con otros generos"
   ]
  }
 ],
 "metadata": {
  "colab": {
   "authorship_tag": "ABX9TyMbIHW3U4lpT41vVo4ZrlKM",
   "mount_file_id": "13Apyy9G9QZzTsze19BSDppmYvHIV0Tcc",
   "provenance": []
  },
  "kernelspec": {
   "display_name": "Python 3",
   "name": "python3"
  },
  "language_info": {
   "codemirror_mode": {
    "name": "ipython",
    "version": 3
   },
   "file_extension": ".py",
   "mimetype": "text/x-python",
   "name": "python",
   "nbconvert_exporter": "python",
   "pygments_lexer": "ipython3",
   "version": "3.13.0"
  }
 },
 "nbformat": 4,
 "nbformat_minor": 0
}
