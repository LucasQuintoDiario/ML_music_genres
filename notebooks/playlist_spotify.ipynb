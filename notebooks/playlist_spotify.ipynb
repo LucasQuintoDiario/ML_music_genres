{
 "cells": [
  {
   "cell_type": "code",
   "execution_count": 33,
   "metadata": {},
   "outputs": [],
   "source": [
    "import pandas as pd"
   ]
  },
  {
   "cell_type": "code",
   "execution_count": 34,
   "metadata": {},
   "outputs": [
    {
     "data": {
      "text/plain": [
       "playlist_genre\n",
       "edm      6043\n",
       "rap      5746\n",
       "pop      5507\n",
       "r&b      5431\n",
       "latin    5155\n",
       "rock     4951\n",
       "Name: count, dtype: int64"
      ]
     },
     "execution_count": 34,
     "metadata": {},
     "output_type": "execute_result"
    }
   ],
   "source": [
    "df = pd.read_csv(\"../data/spotify_songs.csv\")\n",
    "df[\"playlist_genre\"].value_counts()"
   ]
  },
  {
   "cell_type": "code",
   "execution_count": 35,
   "metadata": {},
   "outputs": [
    {
     "data": {
      "text/plain": [
       "playlist_subgenre\n",
       "progressive electro house    1809\n",
       "southern hip hop             1675\n",
       "indie poptimism              1672\n",
       "latin hip hop                1656\n",
       "neo soul                     1637\n",
       "pop edm                      1517\n",
       "electro house                1511\n",
       "hard rock                    1485\n",
       "gangster rap                 1458\n",
       "electropop                   1408\n",
       "urban contemporary           1405\n",
       "hip hop                      1322\n",
       "dance pop                    1298\n",
       "classic rock                 1296\n",
       "trap                         1291\n",
       "tropical                     1288\n",
       "latin pop                    1262\n",
       "hip pop                      1256\n",
       "big room                     1206\n",
       "new jack swing               1133\n",
       "post-teen pop                1129\n",
       "permanent wave               1105\n",
       "album rock                   1065\n",
       "reggaeton                     949\n",
       "Name: count, dtype: int64"
      ]
     },
     "execution_count": 35,
     "metadata": {},
     "output_type": "execute_result"
    }
   ],
   "source": [
    "df[\"playlist_subgenre\"].value_counts()\n"
   ]
  },
  {
   "cell_type": "code",
   "execution_count": 36,
   "metadata": {},
   "outputs": [],
   "source": [
    "df_filtered = df[['playlist_name', 'playlist_id', 'playlist_genre', 'playlist_subgenre']].drop_duplicates()"
   ]
  },
  {
   "cell_type": "code",
   "execution_count": 37,
   "metadata": {},
   "outputs": [
    {
     "data": {
      "text/html": [
       "<div>\n",
       "<style scoped>\n",
       "    .dataframe tbody tr th:only-of-type {\n",
       "        vertical-align: middle;\n",
       "    }\n",
       "\n",
       "    .dataframe tbody tr th {\n",
       "        vertical-align: top;\n",
       "    }\n",
       "\n",
       "    .dataframe thead th {\n",
       "        text-align: right;\n",
       "    }\n",
       "</style>\n",
       "<table border=\"1\" class=\"dataframe\">\n",
       "  <thead>\n",
       "    <tr style=\"text-align: right;\">\n",
       "      <th></th>\n",
       "      <th>playlist_name</th>\n",
       "      <th>playlist_id</th>\n",
       "      <th>playlist_genre</th>\n",
       "      <th>playlist_subgenre</th>\n",
       "    </tr>\n",
       "  </thead>\n",
       "  <tbody>\n",
       "    <tr>\n",
       "      <th>0</th>\n",
       "      <td>Pop Remix</td>\n",
       "      <td>37i9dQZF1DXcZDD7cfEKhW</td>\n",
       "      <td>pop</td>\n",
       "      <td>dance pop</td>\n",
       "    </tr>\n",
       "    <tr>\n",
       "      <th>70</th>\n",
       "      <td>Dance Pop</td>\n",
       "      <td>37i9dQZF1DWZQaaqNMbbXa</td>\n",
       "      <td>pop</td>\n",
       "      <td>dance pop</td>\n",
       "    </tr>\n",
       "    <tr>\n",
       "      <th>167</th>\n",
       "      <td>Dance Room</td>\n",
       "      <td>37i9dQZF1DX2ENAPP1Tyed</td>\n",
       "      <td>pop</td>\n",
       "      <td>dance pop</td>\n",
       "    </tr>\n",
       "    <tr>\n",
       "      <th>223</th>\n",
       "      <td>Cardio</td>\n",
       "      <td>37i9dQZF1DWSJHnPb1f0X3</td>\n",
       "      <td>pop</td>\n",
       "      <td>dance pop</td>\n",
       "    </tr>\n",
       "    <tr>\n",
       "      <th>272</th>\n",
       "      <td>Dance Pop Hits</td>\n",
       "      <td>37i9dQZF1DX6pH08wMhkaI</td>\n",
       "      <td>pop</td>\n",
       "      <td>dance pop</td>\n",
       "    </tr>\n",
       "    <tr>\n",
       "      <th>...</th>\n",
       "      <td>...</td>\n",
       "      <td>...</td>\n",
       "      <td>...</td>\n",
       "      <td>...</td>\n",
       "    </tr>\n",
       "    <tr>\n",
       "      <th>32409</th>\n",
       "      <td>Fresh EDM | Progressive House | Electro House ...</td>\n",
       "      <td>0FCHg9zJMNNiOokh3hVcxd</td>\n",
       "      <td>edm</td>\n",
       "      <td>progressive electro house</td>\n",
       "    </tr>\n",
       "    <tr>\n",
       "      <th>32504</th>\n",
       "      <td>Festival Music 2019 - Warm Up Music (EDM, Big ...</td>\n",
       "      <td>73uj4YmsC7SJ6SbUMTvf07</td>\n",
       "      <td>edm</td>\n",
       "      <td>progressive electro house</td>\n",
       "    </tr>\n",
       "    <tr>\n",
       "      <th>32582</th>\n",
       "      <td>Underground Party | Hypnotic | Minimal | Acid ...</td>\n",
       "      <td>29jj7pQlDqnWclbHQk21Rq</td>\n",
       "      <td>edm</td>\n",
       "      <td>progressive electro house</td>\n",
       "    </tr>\n",
       "    <tr>\n",
       "      <th>32674</th>\n",
       "      <td>Trending EDM by Nik Cooper</td>\n",
       "      <td>4N1ipiKR3xla8UXtE12XBm</td>\n",
       "      <td>edm</td>\n",
       "      <td>progressive electro house</td>\n",
       "    </tr>\n",
       "    <tr>\n",
       "      <th>32753</th>\n",
       "      <td>♥ EDM LOVE 2020</td>\n",
       "      <td>6jI1gFr6ANFtT8MmTvA2Ux</td>\n",
       "      <td>edm</td>\n",
       "      <td>progressive electro house</td>\n",
       "    </tr>\n",
       "  </tbody>\n",
       "</table>\n",
       "<p>480 rows × 4 columns</p>\n",
       "</div>"
      ],
      "text/plain": [
       "                                           playlist_name  \\\n",
       "0                                              Pop Remix   \n",
       "70                                             Dance Pop   \n",
       "167                                           Dance Room   \n",
       "223                                               Cardio   \n",
       "272                                       Dance Pop Hits   \n",
       "...                                                  ...   \n",
       "32409  Fresh EDM | Progressive House | Electro House ...   \n",
       "32504  Festival Music 2019 - Warm Up Music (EDM, Big ...   \n",
       "32582  Underground Party | Hypnotic | Minimal | Acid ...   \n",
       "32674                         Trending EDM by Nik Cooper   \n",
       "32753                                    ♥ EDM LOVE 2020   \n",
       "\n",
       "                  playlist_id playlist_genre          playlist_subgenre  \n",
       "0      37i9dQZF1DXcZDD7cfEKhW            pop                  dance pop  \n",
       "70     37i9dQZF1DWZQaaqNMbbXa            pop                  dance pop  \n",
       "167    37i9dQZF1DX2ENAPP1Tyed            pop                  dance pop  \n",
       "223    37i9dQZF1DWSJHnPb1f0X3            pop                  dance pop  \n",
       "272    37i9dQZF1DX6pH08wMhkaI            pop                  dance pop  \n",
       "...                       ...            ...                        ...  \n",
       "32409  0FCHg9zJMNNiOokh3hVcxd            edm  progressive electro house  \n",
       "32504  73uj4YmsC7SJ6SbUMTvf07            edm  progressive electro house  \n",
       "32582  29jj7pQlDqnWclbHQk21Rq            edm  progressive electro house  \n",
       "32674  4N1ipiKR3xla8UXtE12XBm            edm  progressive electro house  \n",
       "32753  6jI1gFr6ANFtT8MmTvA2Ux            edm  progressive electro house  \n",
       "\n",
       "[480 rows x 4 columns]"
      ]
     },
     "execution_count": 37,
     "metadata": {},
     "output_type": "execute_result"
    }
   ],
   "source": [
    "df_filtered"
   ]
  },
  {
   "cell_type": "code",
   "execution_count": 38,
   "metadata": {},
   "outputs": [],
   "source": [
    "df_filtered[\"playlist_url\"] = \"https://open.spotify.com/playlist/\" + df_filtered[\"playlist_id\"]"
   ]
  },
  {
   "cell_type": "code",
   "execution_count": 39,
   "metadata": {},
   "outputs": [
    {
     "data": {
      "text/html": [
       "<div>\n",
       "<style scoped>\n",
       "    .dataframe tbody tr th:only-of-type {\n",
       "        vertical-align: middle;\n",
       "    }\n",
       "\n",
       "    .dataframe tbody tr th {\n",
       "        vertical-align: top;\n",
       "    }\n",
       "\n",
       "    .dataframe thead th {\n",
       "        text-align: right;\n",
       "    }\n",
       "</style>\n",
       "<table border=\"1\" class=\"dataframe\">\n",
       "  <thead>\n",
       "    <tr style=\"text-align: right;\">\n",
       "      <th></th>\n",
       "      <th>playlist_name</th>\n",
       "      <th>playlist_genre</th>\n",
       "      <th>playlist_subgenre</th>\n",
       "      <th>playlist_url</th>\n",
       "    </tr>\n",
       "  </thead>\n",
       "  <tbody>\n",
       "    <tr>\n",
       "      <th>0</th>\n",
       "      <td>Pop Remix</td>\n",
       "      <td>pop</td>\n",
       "      <td>dance pop</td>\n",
       "      <td>https://open.spotify.com/playlist/37i9dQZF1DXc...</td>\n",
       "    </tr>\n",
       "    <tr>\n",
       "      <th>70</th>\n",
       "      <td>Dance Pop</td>\n",
       "      <td>pop</td>\n",
       "      <td>dance pop</td>\n",
       "      <td>https://open.spotify.com/playlist/37i9dQZF1DWZ...</td>\n",
       "    </tr>\n",
       "    <tr>\n",
       "      <th>167</th>\n",
       "      <td>Dance Room</td>\n",
       "      <td>pop</td>\n",
       "      <td>dance pop</td>\n",
       "      <td>https://open.spotify.com/playlist/37i9dQZF1DX2...</td>\n",
       "    </tr>\n",
       "    <tr>\n",
       "      <th>223</th>\n",
       "      <td>Cardio</td>\n",
       "      <td>pop</td>\n",
       "      <td>dance pop</td>\n",
       "      <td>https://open.spotify.com/playlist/37i9dQZF1DWS...</td>\n",
       "    </tr>\n",
       "    <tr>\n",
       "      <th>272</th>\n",
       "      <td>Dance Pop Hits</td>\n",
       "      <td>pop</td>\n",
       "      <td>dance pop</td>\n",
       "      <td>https://open.spotify.com/playlist/37i9dQZF1DX6...</td>\n",
       "    </tr>\n",
       "    <tr>\n",
       "      <th>...</th>\n",
       "      <td>...</td>\n",
       "      <td>...</td>\n",
       "      <td>...</td>\n",
       "      <td>...</td>\n",
       "    </tr>\n",
       "    <tr>\n",
       "      <th>32409</th>\n",
       "      <td>Fresh EDM | Progressive House | Electro House ...</td>\n",
       "      <td>edm</td>\n",
       "      <td>progressive electro house</td>\n",
       "      <td>https://open.spotify.com/playlist/0FCHg9zJMNNi...</td>\n",
       "    </tr>\n",
       "    <tr>\n",
       "      <th>32504</th>\n",
       "      <td>Festival Music 2019 - Warm Up Music (EDM, Big ...</td>\n",
       "      <td>edm</td>\n",
       "      <td>progressive electro house</td>\n",
       "      <td>https://open.spotify.com/playlist/73uj4YmsC7SJ...</td>\n",
       "    </tr>\n",
       "    <tr>\n",
       "      <th>32582</th>\n",
       "      <td>Underground Party | Hypnotic | Minimal | Acid ...</td>\n",
       "      <td>edm</td>\n",
       "      <td>progressive electro house</td>\n",
       "      <td>https://open.spotify.com/playlist/29jj7pQlDqnW...</td>\n",
       "    </tr>\n",
       "    <tr>\n",
       "      <th>32674</th>\n",
       "      <td>Trending EDM by Nik Cooper</td>\n",
       "      <td>edm</td>\n",
       "      <td>progressive electro house</td>\n",
       "      <td>https://open.spotify.com/playlist/4N1ipiKR3xla...</td>\n",
       "    </tr>\n",
       "    <tr>\n",
       "      <th>32753</th>\n",
       "      <td>♥ EDM LOVE 2020</td>\n",
       "      <td>edm</td>\n",
       "      <td>progressive electro house</td>\n",
       "      <td>https://open.spotify.com/playlist/6jI1gFr6ANFt...</td>\n",
       "    </tr>\n",
       "  </tbody>\n",
       "</table>\n",
       "<p>480 rows × 4 columns</p>\n",
       "</div>"
      ],
      "text/plain": [
       "                                           playlist_name playlist_genre  \\\n",
       "0                                              Pop Remix            pop   \n",
       "70                                             Dance Pop            pop   \n",
       "167                                           Dance Room            pop   \n",
       "223                                               Cardio            pop   \n",
       "272                                       Dance Pop Hits            pop   \n",
       "...                                                  ...            ...   \n",
       "32409  Fresh EDM | Progressive House | Electro House ...            edm   \n",
       "32504  Festival Music 2019 - Warm Up Music (EDM, Big ...            edm   \n",
       "32582  Underground Party | Hypnotic | Minimal | Acid ...            edm   \n",
       "32674                         Trending EDM by Nik Cooper            edm   \n",
       "32753                                    ♥ EDM LOVE 2020            edm   \n",
       "\n",
       "               playlist_subgenre  \\\n",
       "0                      dance pop   \n",
       "70                     dance pop   \n",
       "167                    dance pop   \n",
       "223                    dance pop   \n",
       "272                    dance pop   \n",
       "...                          ...   \n",
       "32409  progressive electro house   \n",
       "32504  progressive electro house   \n",
       "32582  progressive electro house   \n",
       "32674  progressive electro house   \n",
       "32753  progressive electro house   \n",
       "\n",
       "                                            playlist_url  \n",
       "0      https://open.spotify.com/playlist/37i9dQZF1DXc...  \n",
       "70     https://open.spotify.com/playlist/37i9dQZF1DWZ...  \n",
       "167    https://open.spotify.com/playlist/37i9dQZF1DX2...  \n",
       "223    https://open.spotify.com/playlist/37i9dQZF1DWS...  \n",
       "272    https://open.spotify.com/playlist/37i9dQZF1DX6...  \n",
       "...                                                  ...  \n",
       "32409  https://open.spotify.com/playlist/0FCHg9zJMNNi...  \n",
       "32504  https://open.spotify.com/playlist/73uj4YmsC7SJ...  \n",
       "32582  https://open.spotify.com/playlist/29jj7pQlDqnW...  \n",
       "32674  https://open.spotify.com/playlist/4N1ipiKR3xla...  \n",
       "32753  https://open.spotify.com/playlist/6jI1gFr6ANFt...  \n",
       "\n",
       "[480 rows x 4 columns]"
      ]
     },
     "execution_count": 39,
     "metadata": {},
     "output_type": "execute_result"
    }
   ],
   "source": [
    "df_filtered.drop(\"playlist_id\", axis=1)"
   ]
  },
  {
   "cell_type": "code",
   "execution_count": 40,
   "metadata": {},
   "outputs": [
    {
     "data": {
      "text/html": [
       "<div>\n",
       "<style scoped>\n",
       "    .dataframe tbody tr th:only-of-type {\n",
       "        vertical-align: middle;\n",
       "    }\n",
       "\n",
       "    .dataframe tbody tr th {\n",
       "        vertical-align: top;\n",
       "    }\n",
       "\n",
       "    .dataframe thead th {\n",
       "        text-align: right;\n",
       "    }\n",
       "</style>\n",
       "<table border=\"1\" class=\"dataframe\">\n",
       "  <thead>\n",
       "    <tr style=\"text-align: right;\">\n",
       "      <th></th>\n",
       "      <th>playlist_name</th>\n",
       "      <th>playlist_id</th>\n",
       "      <th>playlist_genre</th>\n",
       "      <th>playlist_subgenre</th>\n",
       "      <th>playlist_url</th>\n",
       "    </tr>\n",
       "  </thead>\n",
       "  <tbody>\n",
       "    <tr>\n",
       "      <th>18295</th>\n",
       "      <td>2020 Hits &amp; 2019  Hits – Top Global Tracks 🔥🔥🔥</td>\n",
       "      <td>4JkkvMpVl4lSioqQjeAL0q</td>\n",
       "      <td>latin</td>\n",
       "      <td>latin pop</td>\n",
       "      <td>https://open.spotify.com/playlist/4JkkvMpVl4lS...</td>\n",
       "    </tr>\n",
       "    <tr>\n",
       "      <th>19703</th>\n",
       "      <td>2020 Hits &amp; 2019  Hits – Top Global Tracks 🔥🔥🔥</td>\n",
       "      <td>4JkkvMpVl4lSioqQjeAL0q</td>\n",
       "      <td>latin</td>\n",
       "      <td>latin hip hop</td>\n",
       "      <td>https://open.spotify.com/playlist/4JkkvMpVl4lS...</td>\n",
       "    </tr>\n",
       "    <tr>\n",
       "      <th>23755</th>\n",
       "      <td>2020 Hits &amp; 2019  Hits – Top Global Tracks 🔥🔥🔥</td>\n",
       "      <td>4JkkvMpVl4lSioqQjeAL0q</td>\n",
       "      <td>r&amp;b</td>\n",
       "      <td>hip pop</td>\n",
       "      <td>https://open.spotify.com/playlist/4JkkvMpVl4lS...</td>\n",
       "    </tr>\n",
       "  </tbody>\n",
       "</table>\n",
       "</div>"
      ],
      "text/plain": [
       "                                        playlist_name             playlist_id  \\\n",
       "18295  2020 Hits & 2019  Hits – Top Global Tracks 🔥🔥🔥  4JkkvMpVl4lSioqQjeAL0q   \n",
       "19703  2020 Hits & 2019  Hits – Top Global Tracks 🔥🔥🔥  4JkkvMpVl4lSioqQjeAL0q   \n",
       "23755  2020 Hits & 2019  Hits – Top Global Tracks 🔥🔥🔥  4JkkvMpVl4lSioqQjeAL0q   \n",
       "\n",
       "      playlist_genre playlist_subgenre  \\\n",
       "18295          latin         latin pop   \n",
       "19703          latin     latin hip hop   \n",
       "23755            r&b           hip pop   \n",
       "\n",
       "                                            playlist_url  \n",
       "18295  https://open.spotify.com/playlist/4JkkvMpVl4lS...  \n",
       "19703  https://open.spotify.com/playlist/4JkkvMpVl4lS...  \n",
       "23755  https://open.spotify.com/playlist/4JkkvMpVl4lS...  "
      ]
     },
     "execution_count": 40,
     "metadata": {},
     "output_type": "execute_result"
    }
   ],
   "source": [
    "df_filtered[df_filtered[\"playlist_name\"] == df_filtered[df_filtered[\"playlist_url\"].duplicated()][\"playlist_name\"].value_counts().index.values[0]]"
   ]
  },
  {
   "cell_type": "code",
   "execution_count": 41,
   "metadata": {},
   "outputs": [
    {
     "data": {
      "text/html": [
       "<div>\n",
       "<style scoped>\n",
       "    .dataframe tbody tr th:only-of-type {\n",
       "        vertical-align: middle;\n",
       "    }\n",
       "\n",
       "    .dataframe tbody tr th {\n",
       "        vertical-align: top;\n",
       "    }\n",
       "\n",
       "    .dataframe thead th {\n",
       "        text-align: right;\n",
       "    }\n",
       "</style>\n",
       "<table border=\"1\" class=\"dataframe\">\n",
       "  <thead>\n",
       "    <tr style=\"text-align: right;\">\n",
       "      <th></th>\n",
       "      <th>playlist_name</th>\n",
       "      <th>playlist_id</th>\n",
       "      <th>playlist_genre</th>\n",
       "      <th>playlist_subgenre</th>\n",
       "      <th>playlist_url</th>\n",
       "    </tr>\n",
       "  </thead>\n",
       "  <tbody>\n",
       "    <tr>\n",
       "      <th>12900</th>\n",
       "      <td>Classic Rock 70s 80s 90s, Rock Classics - 70s ...</td>\n",
       "      <td>3Ho3iO0iJykgEQNbjB2sic</td>\n",
       "      <td>rock</td>\n",
       "      <td>classic rock</td>\n",
       "      <td>https://open.spotify.com/playlist/3Ho3iO0iJykg...</td>\n",
       "    </tr>\n",
       "    <tr>\n",
       "      <th>15155</th>\n",
       "      <td>Classic Rock 70s 80s 90s, Rock Classics - 70s ...</td>\n",
       "      <td>3Ho3iO0iJykgEQNbjB2sic</td>\n",
       "      <td>rock</td>\n",
       "      <td>hard rock</td>\n",
       "      <td>https://open.spotify.com/playlist/3Ho3iO0iJykg...</td>\n",
       "    </tr>\n",
       "  </tbody>\n",
       "</table>\n",
       "</div>"
      ],
      "text/plain": [
       "                                           playlist_name  \\\n",
       "12900  Classic Rock 70s 80s 90s, Rock Classics - 70s ...   \n",
       "15155  Classic Rock 70s 80s 90s, Rock Classics - 70s ...   \n",
       "\n",
       "                  playlist_id playlist_genre playlist_subgenre  \\\n",
       "12900  3Ho3iO0iJykgEQNbjB2sic           rock      classic rock   \n",
       "15155  3Ho3iO0iJykgEQNbjB2sic           rock         hard rock   \n",
       "\n",
       "                                            playlist_url  \n",
       "12900  https://open.spotify.com/playlist/3Ho3iO0iJykg...  \n",
       "15155  https://open.spotify.com/playlist/3Ho3iO0iJykg...  "
      ]
     },
     "execution_count": 41,
     "metadata": {},
     "output_type": "execute_result"
    }
   ],
   "source": [
    "df_filtered[df_filtered[\"playlist_name\"] == df_filtered[df_filtered[\"playlist_url\"].duplicated()][\"playlist_name\"].value_counts().index.values[1]]"
   ]
  },
  {
   "cell_type": "code",
   "execution_count": 42,
   "metadata": {},
   "outputs": [
    {
     "data": {
      "text/html": [
       "<div>\n",
       "<style scoped>\n",
       "    .dataframe tbody tr th:only-of-type {\n",
       "        vertical-align: middle;\n",
       "    }\n",
       "\n",
       "    .dataframe tbody tr th {\n",
       "        vertical-align: top;\n",
       "    }\n",
       "\n",
       "    .dataframe thead th {\n",
       "        text-align: right;\n",
       "    }\n",
       "</style>\n",
       "<table border=\"1\" class=\"dataframe\">\n",
       "  <thead>\n",
       "    <tr style=\"text-align: right;\">\n",
       "      <th></th>\n",
       "      <th>playlist_name</th>\n",
       "      <th>playlist_id</th>\n",
       "      <th>playlist_genre</th>\n",
       "      <th>playlist_subgenre</th>\n",
       "      <th>playlist_url</th>\n",
       "    </tr>\n",
       "  </thead>\n",
       "  <tbody>\n",
       "    <tr>\n",
       "      <th>10387</th>\n",
       "      <td>Flow Selecto</td>\n",
       "      <td>37i9dQZF1DX4OjfOteYnH8</td>\n",
       "      <td>rap</td>\n",
       "      <td>trap</td>\n",
       "      <td>https://open.spotify.com/playlist/37i9dQZF1DX4...</td>\n",
       "    </tr>\n",
       "    <tr>\n",
       "      <th>19687</th>\n",
       "      <td>Flow Selecto</td>\n",
       "      <td>37i9dQZF1DX4OjfOteYnH8</td>\n",
       "      <td>latin</td>\n",
       "      <td>reggaeton</td>\n",
       "      <td>https://open.spotify.com/playlist/37i9dQZF1DX4...</td>\n",
       "    </tr>\n",
       "  </tbody>\n",
       "</table>\n",
       "</div>"
      ],
      "text/plain": [
       "      playlist_name             playlist_id playlist_genre playlist_subgenre  \\\n",
       "10387  Flow Selecto  37i9dQZF1DX4OjfOteYnH8            rap              trap   \n",
       "19687  Flow Selecto  37i9dQZF1DX4OjfOteYnH8          latin         reggaeton   \n",
       "\n",
       "                                            playlist_url  \n",
       "10387  https://open.spotify.com/playlist/37i9dQZF1DX4...  \n",
       "19687  https://open.spotify.com/playlist/37i9dQZF1DX4...  "
      ]
     },
     "execution_count": 42,
     "metadata": {},
     "output_type": "execute_result"
    }
   ],
   "source": [
    "df_filtered[df_filtered[\"playlist_name\"] == df_filtered[df_filtered[\"playlist_url\"].duplicated()][\"playlist_name\"].value_counts().index.values[2]]"
   ]
  },
  {
   "cell_type": "code",
   "execution_count": 43,
   "metadata": {},
   "outputs": [
    {
     "data": {
      "text/html": [
       "<div>\n",
       "<style scoped>\n",
       "    .dataframe tbody tr th:only-of-type {\n",
       "        vertical-align: middle;\n",
       "    }\n",
       "\n",
       "    .dataframe tbody tr th {\n",
       "        vertical-align: top;\n",
       "    }\n",
       "\n",
       "    .dataframe thead th {\n",
       "        text-align: right;\n",
       "    }\n",
       "</style>\n",
       "<table border=\"1\" class=\"dataframe\">\n",
       "  <thead>\n",
       "    <tr style=\"text-align: right;\">\n",
       "      <th></th>\n",
       "      <th>playlist_name</th>\n",
       "      <th>playlist_id</th>\n",
       "      <th>playlist_genre</th>\n",
       "      <th>playlist_subgenre</th>\n",
       "      <th>playlist_url</th>\n",
       "    </tr>\n",
       "  </thead>\n",
       "  <tbody>\n",
       "    <tr>\n",
       "      <th>1067</th>\n",
       "      <td>Ultimate Indie Presents... Best Indie Tracks o...</td>\n",
       "      <td>37i9dQZF1DWTHM4kX49UKs</td>\n",
       "      <td>pop</td>\n",
       "      <td>dance pop</td>\n",
       "      <td>https://open.spotify.com/playlist/37i9dQZF1DWT...</td>\n",
       "    </tr>\n",
       "    <tr>\n",
       "      <th>22829</th>\n",
       "      <td>Ultimate Indie Presents... Best Indie Tracks o...</td>\n",
       "      <td>37i9dQZF1DWTHM4kX49UKs</td>\n",
       "      <td>r&amp;b</td>\n",
       "      <td>hip pop</td>\n",
       "      <td>https://open.spotify.com/playlist/37i9dQZF1DWT...</td>\n",
       "    </tr>\n",
       "  </tbody>\n",
       "</table>\n",
       "</div>"
      ],
      "text/plain": [
       "                                           playlist_name  \\\n",
       "1067   Ultimate Indie Presents... Best Indie Tracks o...   \n",
       "22829  Ultimate Indie Presents... Best Indie Tracks o...   \n",
       "\n",
       "                  playlist_id playlist_genre playlist_subgenre  \\\n",
       "1067   37i9dQZF1DWTHM4kX49UKs            pop         dance pop   \n",
       "22829  37i9dQZF1DWTHM4kX49UKs            r&b           hip pop   \n",
       "\n",
       "                                            playlist_url  \n",
       "1067   https://open.spotify.com/playlist/37i9dQZF1DWT...  \n",
       "22829  https://open.spotify.com/playlist/37i9dQZF1DWT...  "
      ]
     },
     "execution_count": 43,
     "metadata": {},
     "output_type": "execute_result"
    }
   ],
   "source": [
    "df_filtered[df_filtered[\"playlist_name\"] == df_filtered[df_filtered[\"playlist_url\"].duplicated()][\"playlist_name\"].value_counts().index.values[3]]"
   ]
  },
  {
   "cell_type": "code",
   "execution_count": 44,
   "metadata": {},
   "outputs": [
    {
     "data": {
      "text/html": [
       "<div>\n",
       "<style scoped>\n",
       "    .dataframe tbody tr th:only-of-type {\n",
       "        vertical-align: middle;\n",
       "    }\n",
       "\n",
       "    .dataframe tbody tr th {\n",
       "        vertical-align: top;\n",
       "    }\n",
       "\n",
       "    .dataframe thead th {\n",
       "        text-align: right;\n",
       "    }\n",
       "</style>\n",
       "<table border=\"1\" class=\"dataframe\">\n",
       "  <thead>\n",
       "    <tr style=\"text-align: right;\">\n",
       "      <th></th>\n",
       "      <th>playlist_name</th>\n",
       "      <th>playlist_id</th>\n",
       "      <th>playlist_genre</th>\n",
       "      <th>playlist_subgenre</th>\n",
       "      <th>playlist_url</th>\n",
       "    </tr>\n",
       "  </thead>\n",
       "  <tbody>\n",
       "    <tr>\n",
       "      <th>27216</th>\n",
       "      <td>EDM 2020 House &amp; Dance</td>\n",
       "      <td>25ButZrVb1Zj1MJioMs09D</td>\n",
       "      <td>edm</td>\n",
       "      <td>electro house</td>\n",
       "      <td>https://open.spotify.com/playlist/25ButZrVb1Zj...</td>\n",
       "    </tr>\n",
       "    <tr>\n",
       "      <th>29945</th>\n",
       "      <td>EDM 2020 House &amp; Dance</td>\n",
       "      <td>25ButZrVb1Zj1MJioMs09D</td>\n",
       "      <td>edm</td>\n",
       "      <td>pop edm</td>\n",
       "      <td>https://open.spotify.com/playlist/25ButZrVb1Zj...</td>\n",
       "    </tr>\n",
       "  </tbody>\n",
       "</table>\n",
       "</div>"
      ],
      "text/plain": [
       "                playlist_name             playlist_id playlist_genre  \\\n",
       "27216  EDM 2020 House & Dance  25ButZrVb1Zj1MJioMs09D            edm   \n",
       "29945  EDM 2020 House & Dance  25ButZrVb1Zj1MJioMs09D            edm   \n",
       "\n",
       "      playlist_subgenre                                       playlist_url  \n",
       "27216     electro house  https://open.spotify.com/playlist/25ButZrVb1Zj...  \n",
       "29945           pop edm  https://open.spotify.com/playlist/25ButZrVb1Zj...  "
      ]
     },
     "execution_count": 44,
     "metadata": {},
     "output_type": "execute_result"
    }
   ],
   "source": [
    "df_filtered[df_filtered[\"playlist_name\"] == df_filtered[df_filtered[\"playlist_url\"].duplicated()][\"playlist_name\"].value_counts().index.values[4]]"
   ]
  },
  {
   "cell_type": "code",
   "execution_count": 45,
   "metadata": {},
   "outputs": [
    {
     "data": {
      "text/html": [
       "<div>\n",
       "<style scoped>\n",
       "    .dataframe tbody tr th:only-of-type {\n",
       "        vertical-align: middle;\n",
       "    }\n",
       "\n",
       "    .dataframe tbody tr th {\n",
       "        vertical-align: top;\n",
       "    }\n",
       "\n",
       "    .dataframe thead th {\n",
       "        text-align: right;\n",
       "    }\n",
       "</style>\n",
       "<table border=\"1\" class=\"dataframe\">\n",
       "  <thead>\n",
       "    <tr style=\"text-align: right;\">\n",
       "      <th></th>\n",
       "      <th>playlist_name</th>\n",
       "      <th>playlist_id</th>\n",
       "      <th>playlist_genre</th>\n",
       "      <th>playlist_subgenre</th>\n",
       "      <th>playlist_url</th>\n",
       "    </tr>\n",
       "  </thead>\n",
       "  <tbody>\n",
       "    <tr>\n",
       "      <th>23099</th>\n",
       "      <td>Charts 2020 🔥Top 2020🔥Hits 2020🔥Summer 2020🔥Po...</td>\n",
       "      <td>3xMQTDLOIGvj3lWH5e5x6F</td>\n",
       "      <td>r&amp;b</td>\n",
       "      <td>hip pop</td>\n",
       "      <td>https://open.spotify.com/playlist/3xMQTDLOIGvj...</td>\n",
       "    </tr>\n",
       "    <tr>\n",
       "      <th>30196</th>\n",
       "      <td>Charts 2020 🔥Top 2020🔥Hits 2020🔥Summer 2020🔥Po...</td>\n",
       "      <td>3xMQTDLOIGvj3lWH5e5x6F</td>\n",
       "      <td>edm</td>\n",
       "      <td>pop edm</td>\n",
       "      <td>https://open.spotify.com/playlist/3xMQTDLOIGvj...</td>\n",
       "    </tr>\n",
       "  </tbody>\n",
       "</table>\n",
       "</div>"
      ],
      "text/plain": [
       "                                           playlist_name  \\\n",
       "23099  Charts 2020 🔥Top 2020🔥Hits 2020🔥Summer 2020🔥Po...   \n",
       "30196  Charts 2020 🔥Top 2020🔥Hits 2020🔥Summer 2020🔥Po...   \n",
       "\n",
       "                  playlist_id playlist_genre playlist_subgenre  \\\n",
       "23099  3xMQTDLOIGvj3lWH5e5x6F            r&b           hip pop   \n",
       "30196  3xMQTDLOIGvj3lWH5e5x6F            edm           pop edm   \n",
       "\n",
       "                                            playlist_url  \n",
       "23099  https://open.spotify.com/playlist/3xMQTDLOIGvj...  \n",
       "30196  https://open.spotify.com/playlist/3xMQTDLOIGvj...  "
      ]
     },
     "execution_count": 45,
     "metadata": {},
     "output_type": "execute_result"
    }
   ],
   "source": [
    "df_filtered[df_filtered[\"playlist_name\"] == df_filtered[df_filtered[\"playlist_url\"].duplicated()][\"playlist_name\"].value_counts().index.values[5]]"
   ]
  },
  {
   "cell_type": "code",
   "execution_count": 46,
   "metadata": {},
   "outputs": [
    {
     "data": {
      "text/html": [
       "<div>\n",
       "<style scoped>\n",
       "    .dataframe tbody tr th:only-of-type {\n",
       "        vertical-align: middle;\n",
       "    }\n",
       "\n",
       "    .dataframe tbody tr th {\n",
       "        vertical-align: top;\n",
       "    }\n",
       "\n",
       "    .dataframe thead th {\n",
       "        text-align: right;\n",
       "    }\n",
       "</style>\n",
       "<table border=\"1\" class=\"dataframe\">\n",
       "  <thead>\n",
       "    <tr style=\"text-align: right;\">\n",
       "      <th></th>\n",
       "      <th>playlist_name</th>\n",
       "      <th>playlist_id</th>\n",
       "      <th>playlist_genre</th>\n",
       "      <th>playlist_subgenre</th>\n",
       "      <th>playlist_url</th>\n",
       "    </tr>\n",
       "  </thead>\n",
       "  <tbody>\n",
       "    <tr>\n",
       "      <th>23436</th>\n",
       "      <td>TOP 50 GLOBAL 2020 UPDATED WEEKLY 🌍🎶 WORLDWIDE</td>\n",
       "      <td>2CJsD3fcYJWcliEKnwmovU</td>\n",
       "      <td>r&amp;b</td>\n",
       "      <td>hip pop</td>\n",
       "      <td>https://open.spotify.com/playlist/2CJsD3fcYJWc...</td>\n",
       "    </tr>\n",
       "    <tr>\n",
       "      <th>30804</th>\n",
       "      <td>TOP 50 GLOBAL 2020 UPDATED WEEKLY 🌍🎶 WORLDWIDE</td>\n",
       "      <td>2CJsD3fcYJWcliEKnwmovU</td>\n",
       "      <td>edm</td>\n",
       "      <td>pop edm</td>\n",
       "      <td>https://open.spotify.com/playlist/2CJsD3fcYJWc...</td>\n",
       "    </tr>\n",
       "  </tbody>\n",
       "</table>\n",
       "</div>"
      ],
      "text/plain": [
       "                                        playlist_name             playlist_id  \\\n",
       "23436  TOP 50 GLOBAL 2020 UPDATED WEEKLY 🌍🎶 WORLDWIDE  2CJsD3fcYJWcliEKnwmovU   \n",
       "30804  TOP 50 GLOBAL 2020 UPDATED WEEKLY 🌍🎶 WORLDWIDE  2CJsD3fcYJWcliEKnwmovU   \n",
       "\n",
       "      playlist_genre playlist_subgenre  \\\n",
       "23436            r&b           hip pop   \n",
       "30804            edm           pop edm   \n",
       "\n",
       "                                            playlist_url  \n",
       "23436  https://open.spotify.com/playlist/2CJsD3fcYJWc...  \n",
       "30804  https://open.spotify.com/playlist/2CJsD3fcYJWc...  "
      ]
     },
     "execution_count": 46,
     "metadata": {},
     "output_type": "execute_result"
    }
   ],
   "source": [
    "df_filtered[df_filtered[\"playlist_name\"] == df_filtered[df_filtered[\"playlist_url\"].duplicated()][\"playlist_name\"].value_counts().index.values[6]]"
   ]
  },
  {
   "cell_type": "code",
   "execution_count": 47,
   "metadata": {},
   "outputs": [
    {
     "data": {
      "text/html": [
       "<div>\n",
       "<style scoped>\n",
       "    .dataframe tbody tr th:only-of-type {\n",
       "        vertical-align: middle;\n",
       "    }\n",
       "\n",
       "    .dataframe tbody tr th {\n",
       "        vertical-align: top;\n",
       "    }\n",
       "\n",
       "    .dataframe thead th {\n",
       "        text-align: right;\n",
       "    }\n",
       "</style>\n",
       "<table border=\"1\" class=\"dataframe\">\n",
       "  <thead>\n",
       "    <tr style=\"text-align: right;\">\n",
       "      <th></th>\n",
       "      <th>playlist_name</th>\n",
       "      <th>playlist_id</th>\n",
       "      <th>playlist_genre</th>\n",
       "      <th>playlist_subgenre</th>\n",
       "      <th>playlist_url</th>\n",
       "    </tr>\n",
       "  </thead>\n",
       "  <tbody>\n",
       "    <tr>\n",
       "      <th>27962</th>\n",
       "      <td>Fitness Workout Electro | House | Dance | Prog...</td>\n",
       "      <td>6KnQDwp0syvhfHOR4lWP7x</td>\n",
       "      <td>edm</td>\n",
       "      <td>electro house</td>\n",
       "      <td>https://open.spotify.com/playlist/6KnQDwp0syvh...</td>\n",
       "    </tr>\n",
       "    <tr>\n",
       "      <th>31024</th>\n",
       "      <td>Fitness Workout Electro | House | Dance | Prog...</td>\n",
       "      <td>6KnQDwp0syvhfHOR4lWP7x</td>\n",
       "      <td>edm</td>\n",
       "      <td>progressive electro house</td>\n",
       "      <td>https://open.spotify.com/playlist/6KnQDwp0syvh...</td>\n",
       "    </tr>\n",
       "  </tbody>\n",
       "</table>\n",
       "</div>"
      ],
      "text/plain": [
       "                                           playlist_name  \\\n",
       "27962  Fitness Workout Electro | House | Dance | Prog...   \n",
       "31024  Fitness Workout Electro | House | Dance | Prog...   \n",
       "\n",
       "                  playlist_id playlist_genre          playlist_subgenre  \\\n",
       "27962  6KnQDwp0syvhfHOR4lWP7x            edm              electro house   \n",
       "31024  6KnQDwp0syvhfHOR4lWP7x            edm  progressive electro house   \n",
       "\n",
       "                                            playlist_url  \n",
       "27962  https://open.spotify.com/playlist/6KnQDwp0syvh...  \n",
       "31024  https://open.spotify.com/playlist/6KnQDwp0syvh...  "
      ]
     },
     "execution_count": 47,
     "metadata": {},
     "output_type": "execute_result"
    }
   ],
   "source": [
    "df_filtered[df_filtered[\"playlist_name\"] == df_filtered[df_filtered[\"playlist_url\"].duplicated()][\"playlist_name\"].value_counts().index.values[7]]"
   ]
  },
  {
   "cell_type": "code",
   "execution_count": 48,
   "metadata": {},
   "outputs": [],
   "source": [
    "df_filtered = df_filtered.drop([19703, 23755, 15155, 19687, 22829, 29945, 30196, 30804, 31024]).copy()"
   ]
  },
  {
   "cell_type": "code",
   "execution_count": 49,
   "metadata": {},
   "outputs": [],
   "source": [
    "df_filtered.to_csv(\"../data/playlists_urls.csv\", index=False)\n"
   ]
  },
  {
   "cell_type": "code",
   "execution_count": 50,
   "metadata": {},
   "outputs": [],
   "source": [
    "df = pd.read_csv(\"../data/playlists_urls.csv\")"
   ]
  },
  {
   "cell_type": "code",
   "execution_count": 51,
   "metadata": {},
   "outputs": [
    {
     "data": {
      "text/plain": [
       "playlist_genre\n",
       "pop      80\n",
       "rap      80\n",
       "rock     79\n",
       "latin    78\n",
       "r&b      78\n",
       "edm      76\n",
       "Name: count, dtype: int64"
      ]
     },
     "execution_count": 51,
     "metadata": {},
     "output_type": "execute_result"
    }
   ],
   "source": [
    "df[\"playlist_genre\"].value_counts()"
   ]
  },
  {
   "cell_type": "code",
   "execution_count": 52,
   "metadata": {},
   "outputs": [
    {
     "data": {
      "text/html": [
       "<div>\n",
       "<style scoped>\n",
       "    .dataframe tbody tr th:only-of-type {\n",
       "        vertical-align: middle;\n",
       "    }\n",
       "\n",
       "    .dataframe tbody tr th {\n",
       "        vertical-align: top;\n",
       "    }\n",
       "\n",
       "    .dataframe thead th {\n",
       "        text-align: right;\n",
       "    }\n",
       "</style>\n",
       "<table border=\"1\" class=\"dataframe\">\n",
       "  <thead>\n",
       "    <tr style=\"text-align: right;\">\n",
       "      <th></th>\n",
       "      <th>playlist_name</th>\n",
       "      <th>playlist_id</th>\n",
       "      <th>playlist_genre</th>\n",
       "      <th>playlist_subgenre</th>\n",
       "      <th>playlist_url</th>\n",
       "    </tr>\n",
       "  </thead>\n",
       "  <tbody>\n",
       "    <tr>\n",
       "      <th>0</th>\n",
       "      <td>Classical Essentials</td>\n",
       "      <td>37i9dQZF1DWWEJlAGA9gs0</td>\n",
       "      <td>Classical &amp; Historical</td>\n",
       "      <td>Classical &amp; Historical</td>\n",
       "      <td>https://open.spotify.com/playlist/37i9dQZF1DWW...</td>\n",
       "    </tr>\n",
       "    <tr>\n",
       "      <th>1</th>\n",
       "      <td>Fresh Classical 2025</td>\n",
       "      <td>37i9dQZF1DWUN2ernEEdZ0</td>\n",
       "      <td>Classical &amp; Historical</td>\n",
       "      <td>Classical &amp; Historical</td>\n",
       "      <td>https://open.spotify.com/playlist/37i9dQZF1DWU...</td>\n",
       "    </tr>\n",
       "    <tr>\n",
       "      <th>2</th>\n",
       "      <td>Classical in the Backgrouynd</td>\n",
       "      <td>37i9dQZF1DWTi57LiHYTmH</td>\n",
       "      <td>Classical &amp; Historical</td>\n",
       "      <td>Classical &amp; Historical</td>\n",
       "      <td>https://open.spotify.com/playlist/37i9dQZF1DWT...</td>\n",
       "    </tr>\n",
       "    <tr>\n",
       "      <th>3</th>\n",
       "      <td>1920s Music</td>\n",
       "      <td>0m9D70qre0B18R5bYu1sir</td>\n",
       "      <td>Classical &amp; Historical</td>\n",
       "      <td>Classical &amp; Historical</td>\n",
       "      <td>https://open.spotify.com/playlist/0m9D70qre0B1...</td>\n",
       "    </tr>\n",
       "    <tr>\n",
       "      <th>4</th>\n",
       "      <td>musica años 20-30</td>\n",
       "      <td>5s4TMbyKnmoDbaBHwAgWvM</td>\n",
       "      <td>Classical &amp; Historical</td>\n",
       "      <td>Classical &amp; Historical</td>\n",
       "      <td>https://open.spotify.com/playlist/5s4TMbyKnmoD...</td>\n",
       "    </tr>\n",
       "    <tr>\n",
       "      <th>5</th>\n",
       "      <td>Folk Pop ☀️ 2025 ☀️</td>\n",
       "      <td>3dRiaweTVfeDOeSQaqqQPi</td>\n",
       "      <td>Folk</td>\n",
       "      <td>Folk</td>\n",
       "      <td>https://open.spotify.com/playlist/3dRiaweTVfeD...</td>\n",
       "    </tr>\n",
       "    <tr>\n",
       "      <th>6</th>\n",
       "      <td>Folk Songs Greatest Hits</td>\n",
       "      <td>1WXXO8g0zyY9f2OIRsL96X</td>\n",
       "      <td>Folk</td>\n",
       "      <td>Folk</td>\n",
       "      <td>https://open.spotify.com/playlist/1WXXO8g0zyY9...</td>\n",
       "    </tr>\n",
       "    <tr>\n",
       "      <th>7</th>\n",
       "      <td>Fresh Folk</td>\n",
       "      <td>37i9dQZF1DXaUDcU6KDCj4</td>\n",
       "      <td>Folk</td>\n",
       "      <td>Folk</td>\n",
       "      <td>https://open.spotify.com/playlist/37i9dQZF1DXa...</td>\n",
       "    </tr>\n",
       "    <tr>\n",
       "      <th>8</th>\n",
       "      <td>Country Pop 2025 - Folk Pop - Country songs - ...</td>\n",
       "      <td>0GdnLd4R7QKOWqBgJszCsf</td>\n",
       "      <td>Folk</td>\n",
       "      <td>Folk</td>\n",
       "      <td>https://open.spotify.com/playlist/0GdnLd4R7QKO...</td>\n",
       "    </tr>\n",
       "    <tr>\n",
       "      <th>9</th>\n",
       "      <td>Sad Folk</td>\n",
       "      <td>37i9dQZF1DWV1bxlagjEmb</td>\n",
       "      <td>Folk</td>\n",
       "      <td>Folk</td>\n",
       "      <td>https://open.spotify.com/playlist/37i9dQZF1DWV...</td>\n",
       "    </tr>\n",
       "  </tbody>\n",
       "</table>\n",
       "</div>"
      ],
      "text/plain": [
       "                                       playlist_name             playlist_id  \\\n",
       "0                               Classical Essentials  37i9dQZF1DWWEJlAGA9gs0   \n",
       "1                               Fresh Classical 2025  37i9dQZF1DWUN2ernEEdZ0   \n",
       "2                       Classical in the Backgrouynd  37i9dQZF1DWTi57LiHYTmH   \n",
       "3                                        1920s Music  0m9D70qre0B18R5bYu1sir   \n",
       "4                                  musica años 20-30  5s4TMbyKnmoDbaBHwAgWvM   \n",
       "5                                Folk Pop ☀️ 2025 ☀️  3dRiaweTVfeDOeSQaqqQPi   \n",
       "6                           Folk Songs Greatest Hits  1WXXO8g0zyY9f2OIRsL96X   \n",
       "7                                         Fresh Folk  37i9dQZF1DXaUDcU6KDCj4   \n",
       "8  Country Pop 2025 - Folk Pop - Country songs - ...  0GdnLd4R7QKOWqBgJszCsf   \n",
       "9                                           Sad Folk  37i9dQZF1DWV1bxlagjEmb   \n",
       "\n",
       "           playlist_genre       playlist_subgenre  \\\n",
       "0  Classical & Historical  Classical & Historical   \n",
       "1  Classical & Historical  Classical & Historical   \n",
       "2  Classical & Historical  Classical & Historical   \n",
       "3  Classical & Historical  Classical & Historical   \n",
       "4  Classical & Historical  Classical & Historical   \n",
       "5                    Folk                    Folk   \n",
       "6                    Folk                    Folk   \n",
       "7                    Folk                    Folk   \n",
       "8                    Folk                    Folk   \n",
       "9                    Folk                    Folk   \n",
       "\n",
       "                                        playlist_url  \n",
       "0  https://open.spotify.com/playlist/37i9dQZF1DWW...  \n",
       "1  https://open.spotify.com/playlist/37i9dQZF1DWU...  \n",
       "2  https://open.spotify.com/playlist/37i9dQZF1DWT...  \n",
       "3  https://open.spotify.com/playlist/0m9D70qre0B1...  \n",
       "4  https://open.spotify.com/playlist/5s4TMbyKnmoD...  \n",
       "5  https://open.spotify.com/playlist/3dRiaweTVfeD...  \n",
       "6  https://open.spotify.com/playlist/1WXXO8g0zyY9...  \n",
       "7  https://open.spotify.com/playlist/37i9dQZF1DXa...  \n",
       "8  https://open.spotify.com/playlist/0GdnLd4R7QKO...  \n",
       "9  https://open.spotify.com/playlist/37i9dQZF1DWV...  "
      ]
     },
     "execution_count": 52,
     "metadata": {},
     "output_type": "execute_result"
    }
   ],
   "source": [
    "# Definir el diccionario\n",
    "new_data = {\n",
    "    'playlist_name': [\"Classical Essentials\", \n",
    "                      \"Fresh Classical 2025\",\n",
    "                      \"Classical in the Backgrouynd\",\n",
    "                      \"1920s Music\",\n",
    "                      \"musica años 20-30\",\n",
    "                      \"Folk Pop ☀️ 2025 ☀️\",\n",
    "                      \"Folk Songs Greatest Hits\",\n",
    "                      \"Fresh Folk\",\n",
    "                      \"Country Pop 2025 - Folk Pop - Country songs - Country Hits 2025\",\n",
    "                      \"Sad Folk\"],\n",
    "    'playlist_id': [\"37i9dQZF1DWWEJlAGA9gs0\", \n",
    "                    \"37i9dQZF1DWUN2ernEEdZ0\", \n",
    "                    \"37i9dQZF1DWTi57LiHYTmH\",\n",
    "                    \"0m9D70qre0B18R5bYu1sir\",\n",
    "                    \"5s4TMbyKnmoDbaBHwAgWvM\",\n",
    "                    \"3dRiaweTVfeDOeSQaqqQPi\",\n",
    "                    \"1WXXO8g0zyY9f2OIRsL96X\",\n",
    "                    \"37i9dQZF1DXaUDcU6KDCj4\",\n",
    "                    \"0GdnLd4R7QKOWqBgJszCsf\",\n",
    "                    \"37i9dQZF1DWV1bxlagjEmb\"],\n",
    "    'playlist_genre': [\"Classical & Historical\"] * 5 + [\"Folk\"] * 5,\n",
    "    'playlist_subgenre': [\"Classical & Historical\"] * 5 + [\"Folk\"] * 5,\n",
    "    'playlist_url': [\"https://open.spotify.com/playlist/37i9dQZF1DWWEJlAGA9gs0\", \n",
    "                     \"https://open.spotify.com/playlist/37i9dQZF1DWUN2ernEEdZ0\",\n",
    "                     \"https://open.spotify.com/playlist/37i9dQZF1DWTi57LiHYTmH\",\n",
    "                     \"https://open.spotify.com/playlist/0m9D70qre0B18R5bYu1sir\",\n",
    "                     \"https://open.spotify.com/playlist/5s4TMbyKnmoDbaBHwAgWvM\",\n",
    "                     \"https://open.spotify.com/playlist/3dRiaweTVfeDOeSQaqqQPi\",\n",
    "                     \"https://open.spotify.com/playlist/1WXXO8g0zyY9f2OIRsL96X\",\n",
    "                     \"https://open.spotify.com/playlist/37i9dQZF1DXaUDcU6KDCj4\",\n",
    "                     \"https://open.spotify.com/playlist/0GdnLd4R7QKOWqBgJszCsf\",\n",
    "                     \"https://open.spotify.com/playlist/37i9dQZF1DWV1bxlagjEmb\"]\n",
    "}\n",
    "\n",
    "# Convertir a DataFrame\n",
    "df_new = pd.DataFrame(new_data)\n",
    "\n",
    "# Mostrar el DataFrame\n",
    "df_new"
   ]
  },
  {
   "cell_type": "code",
   "execution_count": 53,
   "metadata": {},
   "outputs": [],
   "source": [
    "df = pd.concat([df, df_new], ignore_index=True)"
   ]
  },
  {
   "cell_type": "markdown",
   "metadata": {},
   "source": [
    "1: Electronic"
   ]
  },
  {
   "cell_type": "code",
   "execution_count": 54,
   "metadata": {},
   "outputs": [
    {
     "data": {
      "text/plain": [
       "array(['electro house', 'big room', 'progressive electro house',\n",
       "       'pop edm'], dtype=object)"
      ]
     },
     "execution_count": 54,
     "metadata": {},
     "output_type": "execute_result"
    }
   ],
   "source": [
    "df[df[\"playlist_genre\"] == \"edm\"][\"playlist_subgenre\"].value_counts().index.values"
   ]
  },
  {
   "cell_type": "markdown",
   "metadata": {},
   "source": [
    "'Classical & Historical' = 0\n",
    "'electro house', 'big room', 'progressive electro house', 'pop edm': 1\n",
    "'Folk': 2\n",
    "'trap', 'gangster rap', 'southern hip hop', 'hip hop': 3\n",
    "'album rock', 'classic rock', 'permanent wave', 'hard rock': 4"
   ]
  },
  {
   "cell_type": "markdown",
   "metadata": {},
   "source": [
    "0: Classical & Historic\n"
   ]
  },
  {
   "cell_type": "code",
   "execution_count": 55,
   "metadata": {},
   "outputs": [
    {
     "data": {
      "text/plain": [
       "array(['Classical & Historical'], dtype=object)"
      ]
     },
     "execution_count": 55,
     "metadata": {},
     "output_type": "execute_result"
    }
   ],
   "source": [
    "df[df[\"playlist_genre\"] == \"Classical & Historical\"][\"playlist_subgenre\"].value_counts().index.values"
   ]
  },
  {
   "cell_type": "markdown",
   "metadata": {},
   "source": [
    "2: Folk\n"
   ]
  },
  {
   "cell_type": "code",
   "execution_count": 56,
   "metadata": {},
   "outputs": [
    {
     "data": {
      "text/plain": [
       "array(['Folk'], dtype=object)"
      ]
     },
     "execution_count": 56,
     "metadata": {},
     "output_type": "execute_result"
    }
   ],
   "source": [
    "df[df[\"playlist_genre\"] == \"Folk\"][\"playlist_subgenre\"].value_counts().index.values"
   ]
  },
  {
   "cell_type": "markdown",
   "metadata": {},
   "source": [
    "3: Rock & Punk"
   ]
  },
  {
   "cell_type": "code",
   "execution_count": 57,
   "metadata": {},
   "outputs": [
    {
     "data": {
      "text/plain": [
       "array(['album rock', 'classic rock', 'permanent wave', 'hard rock'],\n",
       "      dtype=object)"
      ]
     },
     "execution_count": 57,
     "metadata": {},
     "output_type": "execute_result"
    }
   ],
   "source": [
    "df[df[\"playlist_genre\"] == \"rock\"][\"playlist_subgenre\"].value_counts().index.values"
   ]
  },
  {
   "cell_type": "code",
   "execution_count": 58,
   "metadata": {},
   "outputs": [],
   "source": [
    "mapa_categorias = {\n",
    "    'Classical & Historical': 2,\n",
    "    'electro house': 0, 'big room': 0, 'progressive electro house': 0, 'pop edm': 0,\n",
    "    'Folk': 3,\n",
    "    'album rock': 1, 'classic rock': 1, 'permanent wave': 1, 'hard rock': 1\n",
    "}\n",
    "\n",
    "# Asignar valores usando map() y llenar NaN con 99\n",
    "df['playlist_categories'] = df['playlist_subgenre'].map(mapa_categorias).fillna(99).astype(int)\n"
   ]
  },
  {
   "cell_type": "code",
   "execution_count": 62,
   "metadata": {},
   "outputs": [],
   "source": [
    "df.to_csv(\"../data/playlists_predictions.csv\")"
   ]
  },
  {
   "cell_type": "code",
   "execution_count": 63,
   "metadata": {},
   "outputs": [
    {
     "data": {
      "text/plain": [
       "Index(['playlist_name', 'playlist_id', 'playlist_genre', 'playlist_subgenre',\n",
       "       'playlist_url', 'playlist_categories'],\n",
       "      dtype='object')"
      ]
     },
     "execution_count": 63,
     "metadata": {},
     "output_type": "execute_result"
    }
   ],
   "source": [
    "df.columns"
   ]
  }
 ],
 "metadata": {
  "kernelspec": {
   "display_name": "Python 3",
   "language": "python",
   "name": "python3"
  },
  "language_info": {
   "codemirror_mode": {
    "name": "ipython",
    "version": 3
   },
   "file_extension": ".py",
   "mimetype": "text/x-python",
   "name": "python",
   "nbconvert_exporter": "python",
   "pygments_lexer": "ipython3",
   "version": "3.13.0"
  }
 },
 "nbformat": 4,
 "nbformat_minor": 2
}
