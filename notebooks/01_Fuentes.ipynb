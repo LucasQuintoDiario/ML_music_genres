{
 "cells": [
  {
   "cell_type": "code",
   "execution_count": null,
   "metadata": {
    "colab": {
     "base_uri": "https://localhost:8080/"
    },
    "executionInfo": {
     "elapsed": 2638759,
     "status": "ok",
     "timestamp": 1738769461631,
     "user": {
      "displayName": "Lucas Herranz",
      "userId": "14898979084021370855"
     },
     "user_tz": -60
    },
    "id": "l9KILdJCdtbF",
    "outputId": "fe09fcb4-506d-4c01-c938-dbc0b6f0b842"
   },
   "outputs": [
    {
     "name": "stdout",
     "output_type": "stream",
     "text": [
      "Dataset URL: https://www.kaggle.com/datasets/asisheriberto/music-classification-wav\n",
      "License(s): CC0-1.0\n",
      "Downloading music-classification-wav.zip to /content/drive/MyDrive/Bootcamp_DS/ML\n",
      "100% 41.6G/41.6G [08:11<00:00, 131MB/s]\n",
      "100% 41.6G/41.6G [08:11<00:00, 90.8MB/s]\n"
     ]
    }
   ],
   "source": [
    "import os\n",
    "\n",
    "kaggle_json_path = '/content/drive/MyDrive/Bootcamp_DS/ML/kaggle.json'\n",
    "\n",
    "!mkdir -p ~/.kaggle\n",
    "!cp \"{kaggle_json_path}\" ~/.kaggle/\n",
    "!chmod 600 ~/.kaggle/kaggle.json\n",
    "\n",
    "!kaggle datasets download -d \"asisheriberto/music-classification-wav\" -p \"/content/drive/MyDrive/Bootcamp_DS/ML/\" --unzip --force\n"
   ]
  }
 ],
 "metadata": {
  "colab": {
   "authorship_tag": "ABX9TyPLnIVgSUWXLw+RREvSrkJ7",
   "provenance": []
  },
  "kernelspec": {
   "display_name": "Python 3",
   "name": "python3"
  },
  "language_info": {
   "name": "python"
  }
 },
 "nbformat": 4,
 "nbformat_minor": 0
}
